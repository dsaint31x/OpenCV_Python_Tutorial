{
 "cells": [
  {
   "cell_type": "code",
   "execution_count": 2,
   "metadata": {},
   "outputs": [],
   "source": [
    "import numpy as np\n",
    "import cv2"
   ]
  },
  {
   "cell_type": "markdown",
   "metadata": {},
   "source": [
    "## Load sample images of skimage\n",
    "\n",
    "skimage is an image processing libary from sci-kit family of packages. We will use some images provided by skimage."
   ]
  },
  {
   "cell_type": "code",
   "execution_count": 3,
   "metadata": {},
   "outputs": [],
   "source": [
    "from skimage import data"
   ]
  },
  {
   "cell_type": "code",
   "execution_count": 4,
   "metadata": {},
   "outputs": [],
   "source": [
    "#from skimage.color import rgb2gray\n",
    "#from skimage import img_as_ubyte,img_as_float\n",
    "\n",
    "cat = data.chelsea() # take the test image of cat!\n",
    "astro = data.astronaut()"
   ]
  },
  {
   "cell_type": "code",
   "execution_count": 5,
   "metadata": {},
   "outputs": [
    {
     "data": {
      "text/plain": [
       "(300, 451, 3)"
      ]
     },
     "execution_count": 5,
     "metadata": {},
     "output_type": "execute_result"
    }
   ],
   "source": [
    "cat.shape"
   ]
  },
  {
   "cell_type": "code",
   "execution_count": 6,
   "metadata": {},
   "outputs": [
    {
     "data": {
      "text/plain": [
       "dtype('uint8')"
      ]
     },
     "execution_count": 6,
     "metadata": {},
     "output_type": "execute_result"
    }
   ],
   "source": [
    "cat.dtype"
   ]
  },
  {
   "cell_type": "markdown",
   "metadata": {},
   "source": [
    "## check image (or display image)\n",
    "\n",
    "Orignal method\n",
    "\n",
    "* cv2.imshow(\"cat_iamge\",cat)\n",
    "\n",
    "The alternative method for google colab\n",
    "\n",
    "* cv2_imshow(cat)"
   ]
  },
  {
   "cell_type": "code",
   "execution_count": 7,
   "metadata": {},
   "outputs": [
    {
     "ename": "",
     "evalue": "",
     "output_type": "error",
     "traceback": [
      "\u001b[1;31mThe Kernel crashed while executing code in the current cell or a previous cell. \n",
      "\u001b[1;31mPlease review the code in the cell(s) to identify a possible cause of the failure. \n",
      "\u001b[1;31mClick <a href='https://aka.ms/vscodeJupyterKernelCrash'>here</a> for more info. \n",
      "\u001b[1;31mView Jupyter <a href='command:jupyter.viewOutput'>log</a> for further details."
     ]
    }
   ],
   "source": [
    "cv2.imshow('test_cat',cat)\n",
    "cv2.waitKey(10)\n",
    "cv2.destroyAllWindows()"
   ]
  },
  {
   "cell_type": "code",
   "execution_count": 1,
   "metadata": {},
   "outputs": [
    {
     "ename": "NameError",
     "evalue": "name 'cv2' is not defined",
     "output_type": "error",
     "traceback": [
      "\u001b[0;31m---------------------------------------------------------------------------\u001b[0m",
      "\u001b[0;31mNameError\u001b[0m                                 Traceback (most recent call last)",
      "Cell \u001b[0;32mIn[1], line 1\u001b[0m\n\u001b[0;32m----> 1\u001b[0m \u001b[43mcv2\u001b[49m\u001b[38;5;241m.\u001b[39mimshow(\u001b[38;5;124m'\u001b[39m\u001b[38;5;124mtest_astro\u001b[39m\u001b[38;5;124m'\u001b[39m,astro)\n\u001b[1;32m      2\u001b[0m cv2\u001b[38;5;241m.\u001b[39mwaitKey(\u001b[38;5;241m0\u001b[39m)\n\u001b[1;32m      3\u001b[0m cv2\u001b[38;5;241m.\u001b[39mdestroyAllWindows()\n",
      "\u001b[0;31mNameError\u001b[0m: name 'cv2' is not defined"
     ]
    }
   ],
   "source": [
    "cv2.imshow('test_astro',astro)\n",
    "cv2.waitKey(0)\n",
    "cv2.destroyAllWindows()\n",
    "# for google colab\n",
    "#cv2_imshow(cat)\n",
    "#cv2_imshow(astro)"
   ]
  },
  {
   "cell_type": "markdown",
   "metadata": {},
   "source": [
    "We can see something wrong.\n",
    "\n",
    "It's because opencv uses BGR color space but skimage uses RGB. To show a proper image color, we should change the color space"
   ]
  },
  {
   "cell_type": "markdown",
   "metadata": {},
   "source": [
    "## Change the Color Space\n",
    "\n",
    "opencv provides cvtColor method to covert the color space of image.\n",
    "\n",
    "* cv2.COLOR_BGR2RGB\n",
    "* cv2.COLOR_RGB2BGR\n",
    "* cv2.COLOR_HSV2BGR\n",
    "* cv2.COLOR_RGB2YUV\n",
    "* cv2.COLOR_RGB2GRAY"
   ]
  },
  {
   "cell_type": "code",
   "execution_count": null,
   "metadata": {},
   "outputs": [],
   "source": [
    "cat_cv = cv2.cvtColor(cat,cv2.COLOR_RGB2BGR)\n",
    "astro_cv = cv2.cvtColor(astro,cv2.COLOR_RGB2BGR)\n",
    "gray_cat = cv2.cvtColor(cat,cv2.COLOR_RGB2GRAY)\n",
    "\n",
    "\n",
    "cv2.imshow('cat_cv',cat_cv)\n",
    "cv2.imshow('astro_cv',astro_cv)\n",
    "cv2.imshow('gray_cat',gray_cat)\n",
    "cv2.waitKey(0)\n",
    "cv2.destroyAllWindows()\n",
    "\n",
    "# for google colab\n",
    "# cv2_imshow(cat_cv)\n",
    "# cv2_imshow(astro_cv)\n",
    "# cv2_imshow(gray_cat)"
   ]
  },
  {
   "cell_type": "markdown",
   "metadata": {},
   "source": [
    "## Save an image\n",
    "\n",
    "* cv2.imwrite('file_name', img)"
   ]
  },
  {
   "cell_type": "code",
   "execution_count": null,
   "metadata": {},
   "outputs": [],
   "source": [
    "cv2.imwrite(\"cat_cv.tif\",cat_cv)\n",
    "cv2.imwrite(\"astro_cv.bmp\",astro_cv)\n"
   ]
  },
  {
   "cell_type": "markdown",
   "metadata": {},
   "source": [
    "# Read an image\n",
    "\n",
    "* Use the function `cv2.imread()` to read an image. \n",
    "* The image should be in the working directory or a full path of image should be given.\n",
    "\n",
    "Second argument is flag which specifies the way image should be read.\n",
    "\n",
    "* cv2.IMREAD_COLOR : Loads a color image. Any tranparency of image will be neglected. It is the default flag. (1)\n",
    "* cv2.IMREAD_GRAYSCALE : Loads image in grayscale mode (0)\n",
    "* cv2.IMREAD_UNCHANGED : Loads image as such including alpha channel (-1)"
   ]
  },
  {
   "cell_type": "code",
   "execution_count": null,
   "metadata": {},
   "outputs": [],
   "source": [
    "# Load an color image in grayscale\n",
    "img = cv2.imread(\"cat_cv.tif\",0) # Even if the image path is wrong, it won't throw any error\n",
    "print(img) # If the image path is wrong, img will be None\n",
    "\n",
    "new_cat_cv   = cv2.imread(\"cat_cv.tif\")\n",
    "new_astro_cv = cv2.imread(\"astro_cv.bmp\")\n",
    "\n",
    "cv2.imshow('new_cat_cv',new_cat_cv)\n",
    "cv2.imshow('new_astro_cv',new_astro_cv)\n",
    "cv2.waitKey(0)\n",
    "cv2.destroyAllWindows()\n",
    "\n",
    "# for google colab \n",
    "# cv2_imshow(new_cat_cv)\n",
    "# cv2_imshow(new_astro_cv)"
   ]
  },
  {
   "cell_type": "code",
   "execution_count": null,
   "metadata": {},
   "outputs": [],
   "source": [
    "img.shape"
   ]
  },
  {
   "cell_type": "markdown",
   "metadata": {},
   "source": [
    "# Using Matplotlib\n",
    "\n",
    "* **Matplotlib** is a plotting library for Python which gives you wide variety of plotting methods. \n",
    "* You will see them in coming articles. : Ref.(https://matplotlib.org/api/pyplot_api.html)\n",
    "* Here, you will learn how to display image with Matplotlib. You can zoom images, save it etc using Matplotlib."
   ]
  },
  {
   "cell_type": "code",
   "execution_count": null,
   "metadata": {},
   "outputs": [],
   "source": [
    "from matplotlib import pyplot as plt"
   ]
  },
  {
   "cell_type": "code",
   "execution_count": null,
   "metadata": {},
   "outputs": [],
   "source": [
    "plt.imshow(img, cmap='gray', interpolation='bicubic')\n",
    "plt.xticks([]); plt.yticks([]) # to hide tick values on X and Y axis\n",
    "plt.show()"
   ]
  },
  {
   "cell_type": "markdown",
   "metadata": {},
   "source": [
    "### Warning\n",
    "\n",
    "Color image loaded by OpenCV is in **BGR** mode. But *Matplotlib* displays in **RGB** mode. So color images will no be displayed correctly in *Matplotlib* if image is read with OpenCV.\n",
    "\n",
    "* There is a slight difference in pixel ordering in *OpenCV* and *Matplotlib*.\n",
    "\n",
    "So when you display an image loaded in *OpenCV* using python, you may need to convert it into **RGB** mode. Below method demonstrate it:"
   ]
  },
  {
   "cell_type": "code",
   "execution_count": null,
   "metadata": {},
   "outputs": [],
   "source": [
    "import cv2\n",
    "import numpy as np\n",
    "import matplotlib.pyplot as plt\n",
    "\n",
    "img = cv2.imread('cat_cv.tif')\n",
    "\n",
    "# b,g,r = cv2.split(img)\n",
    "# img2 = cv2.merge([r,g,b])\n",
    "img2 = img[:,:,::-1] # faster version.\n",
    "\n",
    "plt.figure(figsize=(12,12))\n",
    "plt.subplot(121); plt.imshow(img)  # expects distored color\n",
    "plt.subplot(122); plt.imshow(img2) # expects true color\n",
    "plt.show()\n",
    "\n",
    "#cv2.imshow('bgr imgae',img) #expects true color\n",
    "#cv2.imshow('rgb image',img2) #expects disroted color\n",
    "#cv2.waitKey(0)\n",
    "#cv2.destroyAllWindows()"
   ]
  },
  {
   "cell_type": "markdown",
   "metadata": {},
   "source": [
    "# Gray scale\n",
    "\n",
    "모든 색이 단일 채널에 의해 표현된다.\n",
    "* 0 : black\n",
    "* max : white\n",
    "\n",
    "intensity (brightness)과 pixel의 value임."
   ]
  },
  {
   "cell_type": "code",
   "execution_count": null,
   "metadata": {},
   "outputs": [],
   "source": [
    "import cv2\n",
    "from skimage import data\n",
    "#from skimage.color import rgb2gray\n",
    "from skimage import img_as_ubyte,img_as_float\n",
    "\n",
    "cat = data.chelsea() # take the test image of cat!\n",
    "\n",
    "cat_cv = cv2.cvtColor(cat,cv2.COLOR_RGB2BGR)\n",
    "gray_cat = cv2.cvtColor(cat,cv2.COLOR_RGB2GRAY)"
   ]
  },
  {
   "cell_type": "code",
   "execution_count": null,
   "metadata": {},
   "outputs": [],
   "source": [
    "#import matplotlib.pylab as plt\n",
    "import matplotlib.pyplot as plt\n",
    "import seaborn as sns\n",
    "\n",
    "print(gray_cat.dtype)\n",
    "plt.figure(figsize=(12,12))\n",
    "sns.heatmap(gray_cat[:15, :15], annot=True, fmt=\"d\", cmap=plt.cm.bone)\n",
    "plt.axis(\"off\")\n",
    "plt.show()"
   ]
  },
  {
   "cell_type": "markdown",
   "metadata": {},
   "source": [
    "# RGB\n",
    "\n",
    "* Gray scale에서 pixel이 scalar를 값으로 가지는 것과 달라, vector를 값으로 가짐.\n",
    "* Vector의 element 수를 흔히 channel수라고 부름."
   ]
  },
  {
   "cell_type": "code",
   "execution_count": null,
   "metadata": {},
   "outputs": [],
   "source": [
    "plt.figure(figsize=(10, 2))\n",
    "\n",
    "plt.subplot(141)\n",
    "plt.imshow(cat[50:200, 50:200, :])\n",
    "plt.axis(\"off\")\n",
    "plt.title(\"RGB image\")\n",
    "\n",
    "plt.subplot(142)\n",
    "plt.imshow(cat[50:200, 50:200, 0], cmap=plt.cm.bone)\n",
    "plt.axis(\"off\")\n",
    "plt.title(\"R channel\")\n",
    "\n",
    "plt.subplot(143)\n",
    "plt.imshow(cat[50:200, 50:200, 1], cmap=plt.cm.bone)\n",
    "plt.axis(\"off\")\n",
    "plt.title(\"G channel\")\n",
    "\n",
    "plt.subplot(144)\n",
    "plt.imshow(cat[50:200, 50:200, 2], cmap=plt.cm.bone)\n",
    "plt.axis(\"off\")\n",
    "plt.title(\"B channel\")\n",
    "\n",
    "plt.show()"
   ]
  },
  {
   "cell_type": "markdown",
   "metadata": {},
   "source": [
    "# HSV\n",
    "\n",
    "## H : Hue, Color 색상\n",
    "* 빛의 파장의 길이에 의해 결정됨.\n",
    "* 빨강은 0도, 초록은 120도, 파랑색은 240도\n",
    "  * 0° ~ 360°\n",
    "  \n",
    "## S : Saturation (채도 : 색상의 탁하고 맑음의 정도) \n",
    "* 예 : 붉은 색이 핑크색이 되는 과정\n",
    "* 순수한(맑은) 색(붉은색)의 경우 saturation이 높고, 핑크(백색에 의해 희석되기시작)를 거친후 결국 회색(완전히 희석됨)이 됨.\n",
    "* Saturation이 낮을수록 컬러는(Intensity에 따라) 흰색/회색/검정색이 됨\n",
    "  * 0% ~ 100% ( or 0~1)\n",
    "  \n",
    "## V 또는 I : Value or Intensity, 명도 (밝기의 정도,Brightness) \n",
    "* 빛의 진폭에 의해 결정됨. 진폭이 크면 밝기가 커짐.\n",
    "  * 0% ~ 100% (or 0-1) → 0 검은색, 1:밝은 색\n",
    "\n"
   ]
  },
  {
   "cell_type": "code",
   "execution_count": null,
   "metadata": {},
   "outputs": [],
   "source": [
    "import numpy as np\n",
    "from matplotlib.colors import hsv_to_rgb\n",
    "\n",
    "H, V = np.mgrid[0:1:360j, 0:1:100j]\n",
    "S = np.ones_like(V)\n",
    "\n",
    "print(\"Hue H's size :\",H.shape)\n",
    "print(\"Saturation S's size :\",S.shape)\n",
    "print(\"Intnesity V's size :\",V.shape)\n",
    "\n",
    "HSV_S100 = np.dstack((H, S * 1.0, V)) # depth 방향으로 배열을 합침. 가장 안쪽의 원소가 합쳐짐.\n",
    "HSV_S20  = np.dstack((H, S * 0.2, V))\n",
    "\n",
    "RGB_S100 = hsv_to_rgb(HSV_S100)\n",
    "RGB_S20  = hsv_to_rgb(HSV_S20)\n",
    "\n",
    "print(\"HSV_S20's shape:\",HSV_S20.shape)\n"
   ]
  },
  {
   "cell_type": "code",
   "execution_count": null,
   "metadata": {},
   "outputs": [],
   "source": [
    "plt.subplot(121)\n",
    "plt.imshow(RGB_S100,origin=\"higher\",extent=[0,100,0,360])\n",
    "plt.ylabel(\"Hue\")\n",
    "plt.xlabel(\"Value\")\n",
    "plt.title(\"Color Space : Saturation=100\")\n",
    "plt.grid(False)\n",
    "\n",
    "plt.subplot(122)\n",
    "plt.imshow(RGB_S20, origin=\"higher\",extent=[0,100,0,360])\n",
    "plt.ylabel(\"Hue\")\n",
    "plt.xlabel(\"Value\")\n",
    "plt.title(\"Color Space : Saturation=20\")\n",
    "plt.grid(False)\n",
    "\n",
    "plt.tight_layout()\n",
    "plt.show()"
   ]
  },
  {
   "cell_type": "code",
   "execution_count": null,
   "metadata": {},
   "outputs": [],
   "source": []
  }
 ],
 "metadata": {
  "kernelspec": {
   "display_name": "Python 3",
   "language": "python",
   "name": "python3"
  },
  "language_info": {
   "codemirror_mode": {
    "name": "ipython",
    "version": 3
   },
   "file_extension": ".py",
   "mimetype": "text/x-python",
   "name": "python",
   "nbconvert_exporter": "python",
   "pygments_lexer": "ipython3",
   "version": "3.12.5"
  }
 },
 "nbformat": 4,
 "nbformat_minor": 4
}
