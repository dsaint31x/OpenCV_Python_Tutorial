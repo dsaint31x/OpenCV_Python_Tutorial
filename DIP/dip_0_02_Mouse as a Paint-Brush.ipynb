{
 "cells": [
  {
   "attachments": {},
   "cell_type": "markdown",
   "metadata": {},
   "source": [
    "# Mouse as a Paint-Brush\n",
    "\n",
    "\n",
    "## Goal\n",
    "\n",
    "* OpenCV 에서 mouse event를 다루는 방법을 익힌다.\n",
    "* 실제로는 `cv2.setMouseCallback()` 함수의 사용법을 익힌다.\n",
    "\n",
    "## Simple Demo\n",
    "\n",
    "이를 위해 더블클릭을 한 지점에 원을 그리는 간단한 application을 만들어 본다.\n",
    "\n",
    "* 우선, 마우스에서 발생하는 이벤트 **Mouse event** 가 발생시 호출되도록 지정된 **mouse callback function** 를 구현한다. \n",
    "* **Mouse event** 는 `left-button down`, `left-button up`, `left-button double-click` 등과 같이 모든 마우스 관련 이벤트를 가르킴.\n",
    "* **Mouse event**가 발생시, 모든 경우 이벤트와 관련 마우스의 위치 좌표 `(x,y)`가 제공된다. \n",
    "* 이벤트 종류와 위치 정보를 가지고 원하는 처리를 수행하도록 `cv2.setMouseCallback()` 를 구현하면 된다."
   ]
  },
  {
   "attachments": {},
   "cell_type": "markdown",
   "metadata": {},
   "source": [
    "cv2에서 사용가능한 event가 무엇이 있는지는 다음의 코드를 통해 확인할 수 있다."
   ]
  },
  {
   "cell_type": "code",
   "execution_count": 8,
   "metadata": {},
   "outputs": [
    {
     "name": "stdout",
     "output_type": "stream",
     "text": [
      "['EVENT_FLAG_ALTKEY', 'EVENT_FLAG_CTRLKEY', 'EVENT_FLAG_LBUTTON', 'EVENT_FLAG_MBUTTON', 'EVENT_FLAG_RBUTTON', 'EVENT_FLAG_SHIFTKEY', 'EVENT_LBUTTONDBLCLK', 'EVENT_LBUTTONDOWN', 'EVENT_LBUTTONUP', 'EVENT_MBUTTONDBLCLK', 'EVENT_MBUTTONDOWN', 'EVENT_MBUTTONUP', 'EVENT_MOUSEHWHEEL', 'EVENT_MOUSEMOVE', 'EVENT_MOUSEWHEEL', 'EVENT_RBUTTONDBLCLK', 'EVENT_RBUTTONDOWN', 'EVENT_RBUTTONUP']\n"
     ]
    }
   ],
   "source": [
    "import cv2\n",
    "\n",
    "events = [i for i in dir(cv2) if 'EVENT' in i]\n",
    "print(events)"
   ]
  },
  {
   "attachments": {},
   "cell_type": "markdown",
   "metadata": {},
   "source": [
    "***mouse callback function*** 은 파라메터 수 등의 형식을 변경해선 안된다. 형식은 어디서나 동일하게 구현해야 한다. callback으로 등록되기 위해서는 각 파라메터가 알맞게 정의되어야 한다. \n",
    "\n",
    "내부에서 어떻게 이벤트를 처리할지는 개발자가 본인이 원하는대로 구현하나, 함수의 형식은 꼭 지켜야 해당 함수가 이벤트 발생시 호출이 가능하다\n",
    "\n",
    "다음은 더블클릭 이벤트 발생시, 해당 위치에 원을 그리는 구현이 되어 있다."
   ]
  },
  {
   "cell_type": "code",
   "execution_count": 9,
   "metadata": {},
   "outputs": [],
   "source": [
    "import cv2\n",
    "import numpy as np\n",
    "\n",
    "# mouse callback function\n",
    "def draw_circle(event,x,y,flags,param):\n",
    "    if event == cv2.EVENT_LBUTTONDBLCLK: # double click event!\n",
    "        cv2.circle(img,(x,y),100,(255,0,0),-1)\n",
    "\n",
    "# Create a black image, a window and bind the function to window\n",
    "img = np.zeros((512,512,3), np.uint8)\n",
    "cv2.namedWindow('image')\n",
    "cv2.setMouseCallback('image',draw_circle)\n",
    "\n",
    "while True:\n",
    "    cv2.imshow('image',img)\n",
    "    if cv2.waitKey(20) & 0xFF == 27: # enter ESC\n",
    "        break\n",
    "    if cv2.getWindowProperty('image', cv2.WND_PROP_VISIBLE ) <1:\n",
    "        break\n",
    "cv2.destroyAllWindows()"
   ]
  },
  {
   "attachments": {},
   "cell_type": "markdown",
   "metadata": {},
   "source": [
    "# More Advanced Demo\n",
    "\n",
    "다음은 좀 더 기능이 추가된 application을 구현한 코드임.\n",
    "\n",
    "* 원과 네모를 선택하여 그릴 수 있고, 네모의 경우, 마우스를 드래그하여 크기를 결정할 수 있음.\n",
    "* 이를 위해 ***mouse callback function*** 에서 `mode`에 따라 다른 도형을 그리도록 만들어짐."
   ]
  },
  {
   "cell_type": "code",
   "execution_count": 13,
   "metadata": {},
   "outputs": [],
   "source": [
    "import numpy as np\n",
    "import cv2 as cv\n",
    "drawing = False # true if mouse is pressed\n",
    "mode = True # if True, draw rectangle. Press 'm' to toggle to curve\n",
    "ix,iy = -1,-1\n",
    "# mouse callback function\n",
    "def draw_circle(event,x,y,flags,param):\n",
    "    global ix,iy,drawing,mode\n",
    "    if event == cv.EVENT_LBUTTONDOWN:\n",
    "        drawing = True\n",
    "        ix,iy = x,y\n",
    "    elif event == cv.EVENT_MOUSEMOVE:\n",
    "        if drawing == True:\n",
    "            if mode == True:\n",
    "                cv.rectangle(img,(ix,iy),(x,y),(0,255,0),-1)\n",
    "            else:\n",
    "                cv.circle(img,(x,y),5,(0,0,255),-1)\n",
    "    elif event == cv.EVENT_LBUTTONUP:\n",
    "        drawing = False\n",
    "        if mode == True:\n",
    "            cv.rectangle(img,(ix,iy),(x,y),(0,255,0),-1)\n",
    "        else:\n",
    "            cv.circle(img,(x,y),5,(0,0,255),-1)"
   ]
  },
  {
   "cell_type": "markdown",
   "metadata": {},
   "source": [
    "* 위에서 구현한 callback 함수를 OpenCV의 window 와 binding시킴 : `cv2.setMouseCallback` 이용.\n",
    "* `mode`를 변경하기 위해서 키보드의 키 `m`을 toggle 키로 동작하도록 main loop에서 해당 구현을 추가함."
   ]
  },
  {
   "cell_type": "code",
   "execution_count": 14,
   "metadata": {},
   "outputs": [],
   "source": [
    "img = np.zeros((512,512,3), np.uint8)\n",
    "cv.namedWindow('image')\n",
    "cv.setMouseCallback('image',draw_circle)\n",
    "while(1):\n",
    "    cv.imshow('image',img)\n",
    "    k = cv.waitKey(1) & 0xFF\n",
    "    if k == ord('m'):\n",
    "        mode = not mode\n",
    "    elif k == 27:\n",
    "        break\n",
    "    if cv.getWindowProperty('image', cv.WND_PROP_VISIBLE ) <1:\n",
    "        break\n",
    "cv.destroyAllWindows()"
   ]
  },
  {
   "attachments": {},
   "cell_type": "markdown",
   "metadata": {},
   "source": [
    "# HW\n",
    "\n",
    "* 원을 그리는 부분을 내접타원을 그리는 것으로 변경해보라.\n",
    "* 드래그중에 그려지는 부분이 겹쳐지는 버그를 수정해보라."
   ]
  },
  {
   "cell_type": "code",
   "execution_count": 12,
   "metadata": {},
   "outputs": [],
   "source": [
    "import cv2\n",
    "import numpy as np\n",
    "\n",
    "drawing = False # true if mouse is pressed\n",
    "mode    = True  # if True, draw rectangle. Press 'm' to toggle to curve\n",
    "ix,iy = -1,-1\n",
    "\n",
    "# mouse callback function\n",
    "def draw(event,x,y,flags,param):\n",
    "    global ix, iy, drawing, mode\n",
    "    \n",
    "    tmp = None\n",
    "        \n",
    "    if event == cv2.EVENT_LBUTTONDOWN: # left button down event\n",
    "        drawing = True\n",
    "        ix,iy = x,y\n",
    "\n",
    "    elif event == cv2.EVENT_MOUSEMOVE: # mouse move event\n",
    "        if drawing == True:\n",
    "            tmp = img.copy()\n",
    "            if mode == True:                \n",
    "                cv2.rectangle(tmp,(ix,iy),(x,y),(0,255,0),-1)\n",
    "                \n",
    "            else:\n",
    "                w = x-ix\n",
    "                h = y-iy                                                \n",
    "                cv2.ellipse(tmp, (ix+w//2,iy+h//2), \n",
    "                            (np.abs(w)//2,np.abs(h)//2),0,0,360, (0,0,255),-1)\n",
    "                cv2.rectangle(tmp,(ix,iy),(x,y),(0,255,0),1)\n",
    "                \n",
    "            cv2.imshow(\"image\",tmp)\n",
    "            cv2.waitKey(1)\n",
    "                \n",
    "                # cv2.circle(img,(x,y),5,(0,0,255),-1)\n",
    "\n",
    "    elif event == cv2.EVENT_LBUTTONUP: # left button up event\n",
    "        drawing = False\n",
    "        if mode == True:\n",
    "            cv2.rectangle(img,(ix,iy),(x,y),(0,255,0),-1)            \n",
    "        else:\n",
    "            # if not (tmp is None):\n",
    "            #     img = tmp.copy()\n",
    "            w = x-ix\n",
    "            h = y-iy\n",
    "            # cv2.ellipse(img, ( (ix+w//2,iy+h//2), (w,h),0), (0,0,255),-1)\n",
    "            cv2.ellipse(img, (ix+w//2,iy+h//2), (np.abs(w)//2,np.abs(h)//2),0,0,360, (0,0,255),-1)\n",
    "            # cv2.rectangle(img,(ix,iy),(x,y),(0,255,0),1)\n",
    "            # cv2.circle(img,(x,y),5,(0,0,255),-1)\n",
    "            cv2.imshow(\"image\",img)"
   ]
  },
  {
   "cell_type": "code",
   "execution_count": 11,
   "metadata": {},
   "outputs": [],
   "source": [
    "img = np.zeros((512,512,3), np.uint8)\n",
    "cv2.namedWindow('image')\n",
    "cv2.setMouseCallback('image',draw)\n",
    "\n",
    "while(1):\n",
    "    cv2.imshow('image',img)\n",
    "    k = cv2.waitKey(1) & 0xFF\n",
    "    if k == ord('m'):   # enter m\n",
    "        mode = not mode\n",
    "    elif k == 27:       # enter ESC\n",
    "        break\n",
    "    \n",
    "    if cv2.getWindowProperty('image', cv2.WND_PROP_VISIBLE ) <1:\n",
    "        break\n",
    "\n",
    "cv2.destroyAllWindows()"
   ]
  }
 ],
 "metadata": {
  "kernelspec": {
   "display_name": "opencv",
   "language": "python",
   "name": "python3"
  },
  "language_info": {
   "codemirror_mode": {
    "name": "ipython",
    "version": 3
   },
   "file_extension": ".py",
   "mimetype": "text/x-python",
   "name": "python",
   "nbconvert_exporter": "python",
   "pygments_lexer": "ipython3",
   "version": "3.11.0"
  },
  "vscode": {
   "interpreter": {
    "hash": "690cd8fa14783f16a951a63a19459f1deb07a6f6d52b5740207b291f230ab995"
   }
  }
 },
 "nbformat": 4,
 "nbformat_minor": 4
}
