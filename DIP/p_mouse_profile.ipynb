{
 "cells": [
  {
   "cell_type": "code",
   "execution_count": 1,
   "metadata": {},
   "outputs": [],
   "source": [
    "import cv2\n",
    "import numpy as np\n",
    "\n",
    "import sys\n",
    "\n",
    "# sys.exit()\n"
   ]
  },
  {
   "cell_type": "code",
   "execution_count": 2,
   "metadata": {},
   "outputs": [],
   "source": [
    "url = 'https://raw.githubusercontent.com/dsaint31x/OpenCV_Python_Tutorial/master/images/opencv_logo.png'"
   ]
  },
  {
   "cell_type": "code",
   "execution_count": 7,
   "metadata": {},
   "outputs": [
    {
     "name": "stdout",
     "output_type": "stream",
     "text": [
      "shape of img :(120, 98, 4)\n"
     ]
    }
   ],
   "source": [
    "import requests\n",
    "\n",
    "image_ndarray = np.asarray(bytearray(requests.get(url).content), dtype=np.uint8)\n",
    "img = cv2.imdecode(image_ndarray, cv2.IMREAD_UNCHANGED)\n",
    "print(f'shape of img :{img.shape}')\n",
    "cv2.imwrite('opencv_logo.png',img)\n",
    "\n",
    "\n",
    "is_terminated = False\n",
    "def ds_imshow(img):\n",
    "    global is_terminated \n",
    "    \n",
    "    cv2.imshow(\"image\", img)\n",
    "    \n",
    "    # k = cv2.waitKey(100) & 0xFF\n",
    "    # if k == 27: # Enter ESC \n",
    "    #     is_terminated = True\n",
    "    # if cv2.getWindowProperty('image', cv2.WND_PROP_VISIBLE) <1:\n",
    "    #     is_terminated = True\n",
    "        "
   ]
  },
  {
   "cell_type": "code",
   "execution_count": 8,
   "metadata": {},
   "outputs": [],
   "source": [
    "ix, iy = -1, -1\n",
    "drawing = False\n",
    "\n",
    "def show_profile(event, x, y, flags, param):\n",
    "    global ix,iy,drawing, is_terminated\n",
    "    if event == cv2.EVENT_LBUTTONDOWN:\n",
    "        drawing = True\n",
    "        ix, iy = x, y\n",
    "        print(\"1\")\n",
    "    elif event == cv2.EVENT_MOUSEMOVE:\n",
    "        tmp = img.copy()\n",
    "        if drawing == True:\n",
    "            cv2.line(tmp, (ix,iy), (x,y), (255,0,0), 2)\n",
    "            is_terminated = ds_imshow(tmp)\n",
    "            print(\"1\")\n",
    "    elif event == cv2.EVENT_LBUTTONUP:\n",
    "        drawing = False\n",
    "        cv2.line(img, (ix,iy), (x,y), (255,0,0), 2)\n",
    "        is_terminated = ds_imshow(img)\n",
    "        print(\"1\")\n",
    "    return     "
   ]
  },
  {
   "cell_type": "code",
   "execution_count": 10,
   "metadata": {},
   "outputs": [
    {
     "name": "stdout",
     "output_type": "stream",
     "text": [
      "1\n",
      "1\n",
      "1\n",
      "1\n",
      "1\n",
      "1\n",
      "1\n",
      "1\n",
      "1\n",
      "1\n",
      "1\n",
      "1\n",
      "1\n",
      "1\n",
      "1\n",
      "1\n",
      "1\n",
      "1\n",
      "1\n",
      "1\n",
      "1\n",
      "1\n",
      "1\n",
      "1\n"
     ]
    }
   ],
   "source": [
    "img = np.zeros((512,512,3), np.uint8)\n",
    "cv2.namedWindow('image')\n",
    "cv2.setMouseCallback('image',show_profile)\n",
    "\n",
    "is_terminated = False\n",
    "while(1):\n",
    "    ds_imshow(img)\n",
    "    if is_terminated:\n",
    "        break\n",
    "    k = cv2.waitKey(1) & 0xFF\n",
    "    if k == 27:       # enter ESC\n",
    "        break\n",
    "    if cv2.getWindowProperty('image', cv2.WND_PROP_VISIBLE ) <1:\n",
    "        break\n",
    "\n",
    "cv2.destroyAllWindows()"
   ]
  },
  {
   "cell_type": "code",
   "execution_count": null,
   "metadata": {},
   "outputs": [],
   "source": []
  }
 ],
 "metadata": {
  "kernelspec": {
   "display_name": "opencv",
   "language": "python",
   "name": "python3"
  },
  "language_info": {
   "codemirror_mode": {
    "name": "ipython",
    "version": 3
   },
   "file_extension": ".py",
   "mimetype": "text/x-python",
   "name": "python",
   "nbconvert_exporter": "python",
   "pygments_lexer": "ipython3",
   "version": "3.11.0"
  },
  "orig_nbformat": 4
 },
 "nbformat": 4,
 "nbformat_minor": 2
}
