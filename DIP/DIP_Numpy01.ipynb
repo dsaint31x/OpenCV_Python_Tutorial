{
  "cells": [
    {
      "cell_type": "markdown",
      "metadata": {
        "id": "view-in-github",
        "colab_type": "text"
      },
      "source": [
        "<a href=\"https://colab.research.google.com/github/dsaint31x/OpenCV_Python_Tutorial/blob/master/DIP/DIP_Numpy01.ipynb\" target=\"_parent\"><img src=\"https://colab.research.google.com/assets/colab-badge.svg\" alt=\"Open In Colab\"/></a>"
      ]
    },
    {
      "cell_type": "code",
      "execution_count": 1,
      "metadata": {
        "id": "JQvWdgTqWn_Y"
      },
      "outputs": [],
      "source": [
        "import numpy as np\n",
        "import tensorflow as tf\n",
        "import torch"
      ]
    },
    {
      "cell_type": "code",
      "source": [
        "np.__version__"
      ],
      "metadata": {
        "id": "tdqR0rIcEcCI",
        "outputId": "8a74adda-8adf-4b04-f169-02f130a892b7",
        "colab": {
          "base_uri": "https://localhost:8080/",
          "height": 36
        }
      },
      "execution_count": 2,
      "outputs": [
        {
          "output_type": "execute_result",
          "data": {
            "text/plain": [
              "'1.25.2'"
            ],
            "application/vnd.google.colaboratory.intrinsic+json": {
              "type": "string"
            }
          },
          "metadata": {},
          "execution_count": 2
        }
      ]
    },
    {
      "cell_type": "code",
      "execution_count": 3,
      "metadata": {
        "colab": {
          "base_uri": "https://localhost:8080/",
          "height": 36
        },
        "id": "66gKJBS4n6Yo",
        "outputId": "7cb9891f-1575-4bbd-ae7c-bac0fe190bfa"
      },
      "outputs": [
        {
          "output_type": "execute_result",
          "data": {
            "text/plain": [
              "'2.15.0'"
            ],
            "application/vnd.google.colaboratory.intrinsic+json": {
              "type": "string"
            }
          },
          "metadata": {},
          "execution_count": 3
        }
      ],
      "source": [
        "tf.__version__"
      ]
    },
    {
      "cell_type": "code",
      "source": [
        "torch.__version__"
      ],
      "metadata": {
        "id": "YP-PvhQ9Eeng",
        "outputId": "50cef007-738e-4feb-9e19-bce66d4f9bce",
        "colab": {
          "base_uri": "https://localhost:8080/",
          "height": 36
        }
      },
      "execution_count": 4,
      "outputs": [
        {
          "output_type": "execute_result",
          "data": {
            "text/plain": [
              "'2.2.1+cu121'"
            ],
            "application/vnd.google.colaboratory.intrinsic+json": {
              "type": "string"
            }
          },
          "metadata": {},
          "execution_count": 4
        }
      ]
    },
    {
      "cell_type": "code",
      "source": [
        "import sys\n",
        "print(sys.version)"
      ],
      "metadata": {
        "colab": {
          "base_uri": "https://localhost:8080/"
        },
        "id": "_bA4mQ7JtgLn",
        "outputId": "df33b973-74cc-4f61-f78c-a93f212a7f67"
      },
      "execution_count": 5,
      "outputs": [
        {
          "output_type": "stream",
          "name": "stdout",
          "text": [
            "3.10.12 (main, Nov 20 2023, 15:14:05) [GCC 11.4.0]\n"
          ]
        }
      ]
    },
    {
      "cell_type": "markdown",
      "source": [
        "# 0.libary 설치 여부 및 colab 동작 여부 확인"
      ],
      "metadata": {
        "id": "mscxI9z-FMca"
      }
    },
    {
      "cell_type": "code",
      "execution_count": 6,
      "metadata": {
        "colab": {
          "base_uri": "https://localhost:8080/"
        },
        "id": "WR-dTG6AtOvx",
        "outputId": "fe0b105e-7cdf-4a2b-d9c8-f2315a67100c"
      },
      "outputs": [
        {
          "output_type": "stream",
          "name": "stdout",
          "text": [
            "google.colab module exists.\n",
            "torch module is located at /usr/local/lib/python3.10/dist-packages/torch/__init__.py.\n"
          ]
        }
      ],
      "source": [
        "import importlib\n",
        "# Check if a module exists\n",
        "try:\n",
        "  module_name = \"google.colab\"\n",
        "  if importlib.util.find_spec(module_name):\n",
        "    print(f\"{module_name} module exists.\")\n",
        "  else:\n",
        "    print(f\"{module_name} module does not exist.\")\n",
        "except ImportError:\n",
        "  print(f\"{module_name} module does not exist.\")\n",
        "\n",
        "# Check module location\n",
        "try:\n",
        "  module_spec = importlib.util.find_spec(\"torch\")\n",
        "  if module_spec:\n",
        "    print(f\"{module_spec.name} module is located at {module_spec.origin}.\")\n",
        "except ImportError:\n",
        "  print(f\"{module_name} module does not exist.\")\n"
      ]
    },
    {
      "cell_type": "code",
      "source": [
        "try:\n",
        "    metadata = importlib.metadata.PackagePath(module_name)\n",
        "    print(f\"{module_name} 패키지가 존재합니다.\")\n",
        "    print(f\"패키지 이름: {metadata.name}\")\n",
        "    print(f\"패키지 버전: {metadata.locate}\")\n",
        "    print(f\"패키지 버전: {importlib.metadata.version(module_name)}\")\n",
        "\n",
        "except importlib.metadata.PackageNotFoundError:\n",
        "    print(f\"{module_name} 패키지가 존재하지 않습니다.\")"
      ],
      "metadata": {
        "colab": {
          "base_uri": "https://localhost:8080/"
        },
        "id": "y811262btdMg",
        "outputId": "6e915262-6107-47c8-f513-2266abf849d5"
      },
      "execution_count": 7,
      "outputs": [
        {
          "output_type": "stream",
          "name": "stdout",
          "text": [
            "google.colab 패키지가 존재합니다.\n",
            "패키지 이름: google.colab\n",
            "패키지 버전: <bound method PackagePath.locate of PackagePath('google.colab')>\n",
            "패키지 버전: 1.0.0\n"
          ]
        }
      ]
    },
    {
      "cell_type": "markdown",
      "source": [
        "# 1.Tensor 생성하기\n"
      ],
      "metadata": {
        "id": "vF5-Nco_FWLx"
      }
    },
    {
      "cell_type": "markdown",
      "metadata": {
        "id": "9qKKSyet4KwN"
      },
      "source": [
        "`np.array ( list [,dtype])`\n",
        "\n",
        "* list 나 tuple 등으로 `ndarray` 생성.\n",
        "* `dtype` : data type of element.\n",
        "   * `float64` : default type in the numpy.\n",
        "   * `uint8` : unsigned int (8bit), the most commonly used for image processing\n",
        "   * `int8` : signed int (8bit)\n",
        "   * `float32` : float (32bit)"
      ]
    },
    {
      "cell_type": "code",
      "execution_count": 8,
      "metadata": {
        "colab": {
          "base_uri": "https://localhost:8080/"
        },
        "id": "iHJMa0O24JgA",
        "outputId": "f90ac995-3f06-4d7e-fd9f-c8da99509988"
      },
      "outputs": [
        {
          "output_type": "stream",
          "name": "stdout",
          "text": [
            "<class 'tuple'>\n",
            "<class 'numpy.ndarray'>\n"
          ]
        }
      ],
      "source": [
        "t = (1,2,3,4,5,6)\n",
        "a = np.array(t)\n",
        "print(type(t))\n",
        "print(type(a))"
      ]
    },
    {
      "cell_type": "code",
      "execution_count": 9,
      "metadata": {
        "colab": {
          "base_uri": "https://localhost:8080/"
        },
        "id": "qMsjg-b0ZLcJ",
        "outputId": "c49844e4-9cce-499b-c16b-bfe5239f226e"
      },
      "outputs": [
        {
          "output_type": "stream",
          "name": "stdout",
          "text": [
            "1\n",
            "(6,)\n",
            "8\n",
            "6\n",
            "int64\n"
          ]
        }
      ],
      "source": [
        "print(a.ndim)\n",
        "print(a.shape)\n",
        "print(a.itemsize) #bytes\n",
        "print(a.size)\n",
        "print(a.dtype)"
      ]
    },
    {
      "cell_type": "code",
      "source": [
        "a = np.array([1.,2.,3.])\n",
        "print(a.dtype)\n",
        "a = np.array([1.,2.,3.], dtype=int)\n",
        "print(a.dtype)\n",
        "a = np.array([1.,2.,3.], dtype=float)\n",
        "print(a.dtype)"
      ],
      "metadata": {
        "id": "ZlNK8HqcLsMg",
        "outputId": "d9965367-6eab-4ef9-a3a6-c5e740cb0c37",
        "colab": {
          "base_uri": "https://localhost:8080/"
        }
      },
      "execution_count": 10,
      "outputs": [
        {
          "output_type": "stream",
          "name": "stdout",
          "text": [
            "float64\n",
            "int64\n",
            "float64\n"
          ]
        }
      ]
    },
    {
      "cell_type": "markdown",
      "source": [
        "tensorflow에서의 tensor 생성하기."
      ],
      "metadata": {
        "id": "ILLGQs-4FhUH"
      }
    },
    {
      "cell_type": "code",
      "execution_count": 13,
      "metadata": {
        "colab": {
          "base_uri": "https://localhost:8080/"
        },
        "id": "vkb26J3zZgJT",
        "outputId": "c979fb92-c791-4467-ce8a-2516f237bb99"
      },
      "outputs": [
        {
          "output_type": "stream",
          "name": "stdout",
          "text": [
            "tf.Tensor(1, shape=(), dtype=int32)\n",
            "1\n",
            "(6,)\n",
            "<dtype: 'int32'>\n"
          ]
        },
        {
          "output_type": "execute_result",
          "data": {
            "text/plain": [
              "<tf.Tensor: shape=(6,), dtype=int32, numpy=array([1, 2, 3, 4, 5, 6], dtype=int32)>"
            ]
          },
          "metadata": {},
          "execution_count": 13
        }
      ],
      "source": [
        "tensor = tf.constant(t)\n",
        "print(tf.rank(tensor))\n",
        "print(tensor.ndim)\n",
        "print(tensor.shape)\n",
        "# print(tensor.itemsize)  #error. not supported\n",
        "# print(tensor.size)      #error. not supported\n",
        "print(tensor.dtype)\n",
        "tensor"
      ]
    },
    {
      "cell_type": "markdown",
      "source": [
        "pytorch에서의 tensor 생성하기"
      ],
      "metadata": {
        "id": "SzJC0ypCGGWo"
      }
    },
    {
      "cell_type": "code",
      "source": [
        "p = torch.tensor(t)\n",
        "print(p.ndim)\n",
        "print(p.shape)\n",
        "print(p.itemsize)\n",
        "print(p.size())    # not attribute but method\n",
        "print(p.dtype)\n"
      ],
      "metadata": {
        "id": "SKZTWDQgGJnq",
        "outputId": "cc609ccf-2d25-4980-9adf-a40cdfbb6386",
        "colab": {
          "base_uri": "https://localhost:8080/"
        }
      },
      "execution_count": 14,
      "outputs": [
        {
          "output_type": "stream",
          "name": "stdout",
          "text": [
            "1\n",
            "torch.Size([6])\n",
            "8\n",
            "torch.Size([6])\n",
            "torch.int64\n"
          ]
        }
      ]
    },
    {
      "cell_type": "markdown",
      "source": [
        "## 1-0. 기본 dtype\n",
        "\n",
        "* numpy 의 경우, `float64` 와 `int64`\n",
        "* tensorflow 의 경우, `float32` 와 `int32`\n",
        "* torch 의 경우, `float32` 와 `int64`"
      ],
      "metadata": {
        "id": "GqBiHTFtqWCe"
      }
    },
    {
      "cell_type": "code",
      "source": [
        "print(np.array([1.,2.,3.]).dtype)\n",
        "print(np.array([1,2,3]).dtype)\n",
        "print(tf.constant([1.,2.,3.]).dtype)\n",
        "print(tf.constant([1,2,3]).dtype)\n",
        "print(torch.tensor([1.,2.,3.]).dtype)\n",
        "print(torch.tensor([1,2,3]).dtype)"
      ],
      "metadata": {
        "id": "Q4znZNfFi3oz",
        "outputId": "d9fd07fb-dfc8-4094-b6cd-dbbae5197915",
        "colab": {
          "base_uri": "https://localhost:8080/"
        }
      },
      "execution_count": 16,
      "outputs": [
        {
          "output_type": "stream",
          "name": "stdout",
          "text": [
            "float64\n",
            "int64\n",
            "<dtype: 'float32'>\n",
            "<dtype: 'int32'>\n",
            "torch.float32\n",
            "torch.int64\n"
          ]
        }
      ]
    },
    {
      "cell_type": "markdown",
      "source": [
        "## 1-1. multi-dimensioinal array!"
      ],
      "metadata": {
        "id": "rKDlOaNZG5Lb"
      }
    },
    {
      "cell_type": "code",
      "source": [
        "# nested lists result in multi-dimensional arrays\n",
        "a = np.array([range(i, i + 3) for i in [2, 4, 6]])\n",
        "print(a.ndim)\n",
        "print(a.shape)\n",
        "print(a.itemsize) #bytes\n",
        "print(a.size)\n",
        "print(a.dtype)\n",
        "a"
      ],
      "metadata": {
        "id": "Uc_6HIXwG-mo",
        "outputId": "162685f8-242f-4c16-f3cd-66c643c4780d",
        "colab": {
          "base_uri": "https://localhost:8080/"
        }
      },
      "execution_count": null,
      "outputs": [
        {
          "output_type": "stream",
          "name": "stdout",
          "text": [
            "2\n",
            "(3, 3)\n",
            "8\n",
            "9\n",
            "int64\n"
          ]
        },
        {
          "output_type": "execute_result",
          "data": {
            "text/plain": [
              "array([[2, 3, 4],\n",
              "       [4, 5, 6],\n",
              "       [6, 7, 8]])"
            ]
          },
          "metadata": {},
          "execution_count": 24
        }
      ]
    },
    {
      "cell_type": "code",
      "source": [
        "tensor = tf.constant(a)\n",
        "print(tf.rank(tensor))\n",
        "print(tensor.ndim)\n",
        "# print(tensor.itemsize)  #error. not supported\n",
        "# print(tensor.size)      #error. not supported\n",
        "print(tensor.dtype)\n",
        "tensor"
      ],
      "metadata": {
        "id": "OfZLoDqPHJFU",
        "outputId": "a1e11f01-a1af-4623-d55b-0d65df9188bc",
        "colab": {
          "base_uri": "https://localhost:8080/"
        }
      },
      "execution_count": null,
      "outputs": [
        {
          "output_type": "stream",
          "name": "stdout",
          "text": [
            "tf.Tensor(2, shape=(), dtype=int32)\n",
            "2\n",
            "<dtype: 'int64'>\n"
          ]
        },
        {
          "output_type": "execute_result",
          "data": {
            "text/plain": [
              "<tf.Tensor: shape=(3, 3), dtype=int64, numpy=\n",
              "array([[2, 3, 4],\n",
              "       [4, 5, 6],\n",
              "       [6, 7, 8]])>"
            ]
          },
          "metadata": {},
          "execution_count": 28
        }
      ]
    },
    {
      "cell_type": "code",
      "source": [
        "p = torch.tensor(a)\n",
        "print(p.ndim)\n",
        "print(p.shape)\n",
        "print(p.itemsize)\n",
        "print(p.size())    # not attribute but method\n",
        "print(p.dtype)\n",
        "p"
      ],
      "metadata": {
        "id": "h9vMry92Hb5K",
        "outputId": "11a3aa1f-e7fe-4813-c1dd-6da2fb77f9a5",
        "colab": {
          "base_uri": "https://localhost:8080/"
        }
      },
      "execution_count": null,
      "outputs": [
        {
          "output_type": "stream",
          "name": "stdout",
          "text": [
            "2\n",
            "torch.Size([3, 3])\n",
            "8\n",
            "torch.Size([3, 3])\n",
            "torch.int64\n"
          ]
        },
        {
          "output_type": "execute_result",
          "data": {
            "text/plain": [
              "tensor([[2, 3, 4],\n",
              "        [4, 5, 6],\n",
              "        [6, 7, 8]])"
            ]
          },
          "metadata": {},
          "execution_count": 30
        }
      ]
    },
    {
      "cell_type": "markdown",
      "metadata": {
        "id": "T90fDRMl5jB3"
      },
      "source": [
        "## 1-2. tensor를 특정 값으로 초기화하기\n",
        "\n",
        "`zeros`,`ones`, and `full` (or `fill`)"
      ]
    },
    {
      "cell_type": "code",
      "execution_count": null,
      "metadata": {
        "colab": {
          "base_uri": "https://localhost:8080/"
        },
        "id": "Ziw_tUUW5ue_",
        "outputId": "f618839b-9a26-4f39-d73a-d5abdcb49811"
      },
      "outputs": [
        {
          "output_type": "stream",
          "name": "stdout",
          "text": [
            "float64\n"
          ]
        },
        {
          "output_type": "execute_result",
          "data": {
            "text/plain": [
              "array([[0., 0.],\n",
              "       [0., 0.],\n",
              "       [0., 0.]])"
            ]
          },
          "metadata": {},
          "execution_count": 40
        }
      ],
      "source": [
        "a = np.zeros((3,2)) # default dtype = float64\n",
        "# a = np.zeros(shape=(4,4),dtype=np.uint8)\n",
        "print(a.dtype)\n",
        "a"
      ]
    },
    {
      "cell_type": "code",
      "execution_count": null,
      "metadata": {
        "colab": {
          "base_uri": "https://localhost:8080/"
        },
        "id": "Ap3hCnBtaMWd",
        "outputId": "90680a14-f1ba-4238-8c9d-a20722b86848"
      },
      "outputs": [
        {
          "output_type": "stream",
          "name": "stdout",
          "text": [
            "<dtype: 'float32'>\n"
          ]
        },
        {
          "output_type": "execute_result",
          "data": {
            "text/plain": [
              "<tf.Tensor: shape=(3, 2), dtype=float32, numpy=\n",
              "array([[0., 0.],\n",
              "       [0., 0.],\n",
              "       [0., 0.]], dtype=float32)>"
            ]
          },
          "metadata": {},
          "execution_count": 42
        }
      ],
      "source": [
        "a_tf = tf.zeros(shape=(3,2)) #default dtype = float32\n",
        "print(a_tf.dtype)\n",
        "a_tf\n",
        "# a_tf.numpy()"
      ]
    },
    {
      "cell_type": "code",
      "source": [
        "a_tf.numpy() # 다시 numpy array로"
      ],
      "metadata": {
        "id": "SATyAQUIH1TI",
        "outputId": "5e5800a2-9b4b-4dd3-8f89-0651f3632cfd",
        "colab": {
          "base_uri": "https://localhost:8080/"
        }
      },
      "execution_count": null,
      "outputs": [
        {
          "output_type": "execute_result",
          "data": {
            "text/plain": [
              "array([[0., 0.],\n",
              "       [0., 0.],\n",
              "       [0., 0.]], dtype=float32)"
            ]
          },
          "metadata": {},
          "execution_count": 43
        }
      ]
    },
    {
      "cell_type": "code",
      "source": [
        "p = torch.zeros(size=(3,2)) # shape 대신에 size\n",
        "print(p.dtype)\n",
        "p"
      ],
      "metadata": {
        "id": "i6uImkjLIeVl",
        "outputId": "68b30983-3601-47ab-d347-c77654b474fb",
        "colab": {
          "base_uri": "https://localhost:8080/"
        }
      },
      "execution_count": null,
      "outputs": [
        {
          "output_type": "stream",
          "name": "stdout",
          "text": [
            "torch.float32\n"
          ]
        },
        {
          "output_type": "execute_result",
          "data": {
            "text/plain": [
              "tensor([[0., 0.],\n",
              "        [0., 0.],\n",
              "        [0., 0.]])"
            ]
          },
          "metadata": {},
          "execution_count": 47
        }
      ]
    },
    {
      "cell_type": "code",
      "execution_count": null,
      "metadata": {
        "colab": {
          "base_uri": "https://localhost:8080/"
        },
        "id": "WkHyv-r651mK",
        "outputId": "e3efe4c9-9d92-4400-f7b0-8b1cf8de8136"
      },
      "outputs": [
        {
          "output_type": "stream",
          "name": "stdout",
          "text": [
            "float64\n"
          ]
        },
        {
          "output_type": "execute_result",
          "data": {
            "text/plain": [
              "array([[[1., 1., 1.],\n",
              "        [1., 1., 1.]],\n",
              "\n",
              "       [[1., 1., 1.],\n",
              "        [1., 1., 1.]],\n",
              "\n",
              "       [[1., 1., 1.],\n",
              "        [1., 1., 1.]],\n",
              "\n",
              "       [[1., 1., 1.],\n",
              "        [1., 1., 1.]]])"
            ]
          },
          "metadata": {},
          "execution_count": 48
        }
      ],
      "source": [
        "a = np.ones((4,2,3))\n",
        "print(a.dtype)\n",
        "a"
      ]
    },
    {
      "cell_type": "code",
      "execution_count": null,
      "metadata": {
        "colab": {
          "base_uri": "https://localhost:8080/"
        },
        "id": "37CAi5vUamY9",
        "outputId": "86695456-09e2-4f0d-adc5-4992b65a95c5"
      },
      "outputs": [
        {
          "output_type": "stream",
          "name": "stdout",
          "text": [
            "<dtype: 'float32'>\n"
          ]
        },
        {
          "output_type": "execute_result",
          "data": {
            "text/plain": [
              "<tf.Tensor: shape=(4, 2, 3), dtype=float32, numpy=\n",
              "array([[[1., 1., 1.],\n",
              "        [1., 1., 1.]],\n",
              "\n",
              "       [[1., 1., 1.],\n",
              "        [1., 1., 1.]],\n",
              "\n",
              "       [[1., 1., 1.],\n",
              "        [1., 1., 1.]],\n",
              "\n",
              "       [[1., 1., 1.],\n",
              "        [1., 1., 1.]]], dtype=float32)>"
            ]
          },
          "metadata": {},
          "execution_count": 51
        }
      ],
      "source": [
        "a_tf = tf.ones(shape=(4,2,3))\n",
        "# a_tf = tf.ones((4,2), dtype=tf.int64)\n",
        "print(a_tf.dtype)\n",
        "a_tf"
      ]
    },
    {
      "cell_type": "code",
      "source": [
        "p = torch.ones(size=(4,2,3))\n",
        "print(p.dtype)\n",
        "p"
      ],
      "metadata": {
        "id": "QU-Bfdj_JHBP",
        "outputId": "4dfcacea-bbb1-4537-ce34-6085d471fde0",
        "colab": {
          "base_uri": "https://localhost:8080/"
        }
      },
      "execution_count": null,
      "outputs": [
        {
          "output_type": "stream",
          "name": "stdout",
          "text": [
            "torch.float32\n"
          ]
        },
        {
          "output_type": "execute_result",
          "data": {
            "text/plain": [
              "tensor([[[1., 1., 1.],\n",
              "         [1., 1., 1.]],\n",
              "\n",
              "        [[1., 1., 1.],\n",
              "         [1., 1., 1.]],\n",
              "\n",
              "        [[1., 1., 1.],\n",
              "         [1., 1., 1.]],\n",
              "\n",
              "        [[1., 1., 1.],\n",
              "         [1., 1., 1.]]])"
            ]
          },
          "metadata": {},
          "execution_count": 52
        }
      ]
    },
    {
      "cell_type": "code",
      "execution_count": null,
      "metadata": {
        "colab": {
          "base_uri": "https://localhost:8080/"
        },
        "id": "prC3HMm355l9",
        "outputId": "8aec718c-4823-4012-e2c7-f7e21a58fe58"
      },
      "outputs": [
        {
          "output_type": "stream",
          "name": "stdout",
          "text": [
            "int64\n"
          ]
        },
        {
          "output_type": "execute_result",
          "data": {
            "text/plain": [
              "array([[255, 255, 255]])"
            ]
          },
          "metadata": {},
          "execution_count": 53
        }
      ],
      "source": [
        "a = np.full((1,3),255)\n",
        "print(a.dtype)\n",
        "a"
      ]
    },
    {
      "cell_type": "code",
      "execution_count": null,
      "metadata": {
        "colab": {
          "base_uri": "https://localhost:8080/"
        },
        "id": "nJhwZ89uayMB",
        "outputId": "83e11a26-f921-4230-94fc-c0b8f8e4fa21"
      },
      "outputs": [
        {
          "output_type": "stream",
          "name": "stdout",
          "text": [
            "<dtype: 'int32'>\n"
          ]
        },
        {
          "output_type": "execute_result",
          "data": {
            "text/plain": [
              "<tf.Tensor: shape=(1, 3), dtype=int32, numpy=array([[255, 255, 255]], dtype=int32)>"
            ]
          },
          "metadata": {},
          "execution_count": 60
        }
      ],
      "source": [
        "a_tf = tf.fill((1,3),255) # not full, but fill\n",
        "print(a_tf.dtype) # default int32\n",
        "a_tf"
      ]
    },
    {
      "cell_type": "code",
      "source": [
        "p = torch.full((1,3),255)\n",
        "print(p.dtype)\n",
        "p"
      ],
      "metadata": {
        "id": "M5w2PdbqJS32",
        "outputId": "1d4e420d-4732-4c24-8ad5-38b61ee66a26",
        "colab": {
          "base_uri": "https://localhost:8080/"
        }
      },
      "execution_count": null,
      "outputs": [
        {
          "output_type": "stream",
          "name": "stdout",
          "text": [
            "torch.int64\n"
          ]
        },
        {
          "output_type": "execute_result",
          "data": {
            "text/plain": [
              "tensor([[255, 255, 255]])"
            ]
          },
          "metadata": {},
          "execution_count": 61
        }
      ]
    },
    {
      "cell_type": "markdown",
      "metadata": {
        "id": "rg1LU7jH5IGB"
      },
      "source": [
        "## 1-3. 기존의 tensor와 같은 shape의 새로운 tensor 생성.\n",
        "\n",
        "* 기존의 `ndarray` 와 같은 shape를 가지는 `ndarray`생성 (`torch`의 `tensor`도 유사.)\n",
        "  * `zeros_like`, `ones_like`, and `full_like`\n",
        "* `tf` 의 경우는 다음과 같음.\n",
        "  * `zeors_like`, `ones_like`, and `fill`\n"
      ]
    },
    {
      "cell_type": "code",
      "execution_count": null,
      "metadata": {
        "colab": {
          "base_uri": "https://localhost:8080/"
        },
        "id": "L4ag0LTM5_sJ",
        "outputId": "d9330c6a-e517-48a7-bfa5-6cd87428f0c9"
      },
      "outputs": [
        {
          "output_type": "stream",
          "name": "stdout",
          "text": [
            "(2, 3) int64\n",
            "(2, 3) int64\n"
          ]
        },
        {
          "output_type": "execute_result",
          "data": {
            "text/plain": [
              "array([[0, 0, 0],\n",
              "       [0, 0, 0]])"
            ]
          },
          "metadata": {},
          "execution_count": 63
        }
      ],
      "source": [
        "s = np.array([[1,2,3],[4,5,6]])\n",
        "print(s.shape, a.dtype)\n",
        "\n",
        "a = np.zeros_like(s)\n",
        "print(a.shape, a.dtype)\n",
        "a"
      ]
    },
    {
      "cell_type": "code",
      "execution_count": null,
      "metadata": {
        "colab": {
          "base_uri": "https://localhost:8080/"
        },
        "id": "Evk1B89u6QgA",
        "outputId": "a103d276-4cbe-4990-e43e-10e362a97ee7"
      },
      "outputs": [
        {
          "output_type": "stream",
          "name": "stdout",
          "text": [
            "(2, 3) int64\n"
          ]
        },
        {
          "output_type": "execute_result",
          "data": {
            "text/plain": [
              "array([[1, 1, 1],\n",
              "       [1, 1, 1]])"
            ]
          },
          "metadata": {},
          "execution_count": 65
        }
      ],
      "source": [
        "a = np.ones_like(s)\n",
        "print(a.shape, a.dtype)\n",
        "a"
      ]
    },
    {
      "cell_type": "code",
      "execution_count": null,
      "metadata": {
        "colab": {
          "base_uri": "https://localhost:8080/"
        },
        "id": "3KbDRVns6WwS",
        "outputId": "0bc41dad-8691-4f72-cab2-8c8abafd7175"
      },
      "outputs": [
        {
          "output_type": "stream",
          "name": "stdout",
          "text": [
            "int64\n"
          ]
        },
        {
          "output_type": "execute_result",
          "data": {
            "text/plain": [
              "array([[3, 3, 3],\n",
              "       [3, 3, 3]])"
            ]
          },
          "metadata": {},
          "execution_count": 66
        }
      ],
      "source": [
        "a = np.full_like(s,3.0)\n",
        "print(a.dtype)\n",
        "a"
      ]
    },
    {
      "cell_type": "code",
      "source": [
        "s = tf.constant([[1,2,3],[4,5,6]])\n",
        "print(s.shape, s.dtype)\n",
        "\n",
        "a = tf.zeros_like(s)\n",
        "print(a.shape, a.dtype)\n",
        "a"
      ],
      "metadata": {
        "id": "TIAqCP9XKZXN",
        "outputId": "e56ced99-d26f-40b8-8ac1-b19afde32e80",
        "colab": {
          "base_uri": "https://localhost:8080/"
        }
      },
      "execution_count": null,
      "outputs": [
        {
          "output_type": "stream",
          "name": "stdout",
          "text": [
            "(2, 3) <dtype: 'int32'>\n",
            "(2, 3) <dtype: 'int32'>\n"
          ]
        },
        {
          "output_type": "execute_result",
          "data": {
            "text/plain": [
              "<tf.Tensor: shape=(2, 3), dtype=int32, numpy=\n",
              "array([[0, 0, 0],\n",
              "       [0, 0, 0]], dtype=int32)>"
            ]
          },
          "metadata": {},
          "execution_count": 75
        }
      ]
    },
    {
      "cell_type": "code",
      "source": [
        "a = tf.ones_like(s)\n",
        "print(a.shape, a.dtype)\n",
        "a"
      ],
      "metadata": {
        "id": "gdreJD_jKgsV",
        "outputId": "e6127684-a6a6-4a88-8df1-66d60500e0be",
        "colab": {
          "base_uri": "https://localhost:8080/"
        }
      },
      "execution_count": null,
      "outputs": [
        {
          "output_type": "stream",
          "name": "stdout",
          "text": [
            "(2, 3) <dtype: 'int32'>\n"
          ]
        },
        {
          "output_type": "execute_result",
          "data": {
            "text/plain": [
              "<tf.Tensor: shape=(2, 3), dtype=int32, numpy=\n",
              "array([[1, 1, 1],\n",
              "       [1, 1, 1]], dtype=int32)>"
            ]
          },
          "metadata": {},
          "execution_count": 76
        }
      ]
    },
    {
      "cell_type": "code",
      "source": [
        "a = tf.fill(s.shape,3.0) # there is not fill_like\n",
        "print(a.dtype)\n",
        "a"
      ],
      "metadata": {
        "id": "DRVGefvWKlkD",
        "outputId": "a8000d98-f7b7-440f-92d5-f24a87027743",
        "colab": {
          "base_uri": "https://localhost:8080/"
        }
      },
      "execution_count": null,
      "outputs": [
        {
          "output_type": "stream",
          "name": "stdout",
          "text": [
            "<dtype: 'float32'>\n"
          ]
        },
        {
          "output_type": "execute_result",
          "data": {
            "text/plain": [
              "<tf.Tensor: shape=(2, 3), dtype=float32, numpy=\n",
              "array([[3., 3., 3.],\n",
              "       [3., 3., 3.]], dtype=float32)>"
            ]
          },
          "metadata": {},
          "execution_count": 77
        }
      ]
    },
    {
      "cell_type": "code",
      "source": [
        "s = torch.tensor([[1,2,3],[4,5,6]])\n",
        "print(s.shape, s.dtype)\n",
        "\n",
        "a = torch.zeros_like(s)\n",
        "print(a.shape, a.dtype)\n",
        "a"
      ],
      "metadata": {
        "id": "XXzxG_FBLBg5",
        "outputId": "a3766a5a-1053-4de5-b56c-07c442a37498",
        "colab": {
          "base_uri": "https://localhost:8080/"
        }
      },
      "execution_count": null,
      "outputs": [
        {
          "output_type": "stream",
          "name": "stdout",
          "text": [
            "torch.Size([2, 3]) torch.int64\n",
            "torch.Size([2, 3]) torch.int64\n"
          ]
        },
        {
          "output_type": "execute_result",
          "data": {
            "text/plain": [
              "tensor([[0, 0, 0],\n",
              "        [0, 0, 0]])"
            ]
          },
          "metadata": {},
          "execution_count": 78
        }
      ]
    },
    {
      "cell_type": "code",
      "source": [
        "a = torch.ones_like(s)\n",
        "print(a.shape, a.dtype)\n",
        "a"
      ],
      "metadata": {
        "id": "i2G2eE9ALTTa",
        "outputId": "19bbc3ef-292d-4756-d35b-fb15feb38920",
        "colab": {
          "base_uri": "https://localhost:8080/"
        }
      },
      "execution_count": null,
      "outputs": [
        {
          "output_type": "stream",
          "name": "stdout",
          "text": [
            "torch.Size([2, 3]) torch.int64\n"
          ]
        },
        {
          "output_type": "execute_result",
          "data": {
            "text/plain": [
              "tensor([[1, 1, 1],\n",
              "        [1, 1, 1]])"
            ]
          },
          "metadata": {},
          "execution_count": 79
        }
      ]
    },
    {
      "cell_type": "code",
      "source": [
        "a = torch.full_like(s,3.0)\n",
        "print(a.dtype)\n",
        "a"
      ],
      "metadata": {
        "id": "hg1JXI8xLWns",
        "outputId": "a4872058-9904-4556-86fd-a78dc5d87922",
        "colab": {
          "base_uri": "https://localhost:8080/"
        }
      },
      "execution_count": null,
      "outputs": [
        {
          "output_type": "stream",
          "name": "stdout",
          "text": [
            "torch.int64\n"
          ]
        },
        {
          "output_type": "execute_result",
          "data": {
            "text/plain": [
              "tensor([[3, 3, 3],\n",
              "        [3, 3, 3]])"
            ]
          },
          "metadata": {},
          "execution_count": 80
        }
      ]
    },
    {
      "cell_type": "markdown",
      "source": [
        "## 1-4. 기타 다른 tensor 생성 방법들."
      ],
      "metadata": {
        "id": "aVpjDuJ3kgSY"
      }
    },
    {
      "cell_type": "code",
      "source": [
        "print(range(0,10,1)) # only integer\n",
        "print(np.arange(0,1,0.1))"
      ],
      "metadata": {
        "id": "ZHuM-cmMsAaY",
        "outputId": "d507a741-bb54-483b-a807-4fab2d1e5ec3",
        "colab": {
          "base_uri": "https://localhost:8080/"
        }
      },
      "execution_count": 41,
      "outputs": [
        {
          "output_type": "stream",
          "name": "stdout",
          "text": [
            "range(0, 10)\n",
            "[0.  0.1 0.2 0.3 0.4 0.5 0.6 0.7 0.8 0.9]\n"
          ]
        }
      ]
    },
    {
      "cell_type": "code",
      "source": [
        "a = np.arange(0,24,2).reshape(3,4)\n",
        "print(a.dtype)\n",
        "a"
      ],
      "metadata": {
        "id": "W_zIsroukjc1",
        "outputId": "8c4ccfd5-3b5e-4e9e-ad8c-5d263ae171dc",
        "colab": {
          "base_uri": "https://localhost:8080/"
        }
      },
      "execution_count": 32,
      "outputs": [
        {
          "output_type": "stream",
          "name": "stdout",
          "text": [
            "int64\n"
          ]
        },
        {
          "output_type": "execute_result",
          "data": {
            "text/plain": [
              "array([[ 0,  2,  4,  6],\n",
              "       [ 8, 10, 12, 14],\n",
              "       [16, 18, 20, 22]])"
            ]
          },
          "metadata": {},
          "execution_count": 32
        }
      ]
    },
    {
      "cell_type": "code",
      "source": [
        "a_tf = tf.constant(tf.range(0,6,0.5),shape=(3,4)) # float도 가능.\n",
        "print(a_tf.dtype)\n",
        "a_tf"
      ],
      "metadata": {
        "id": "2BWSj68hkp-a",
        "outputId": "8bf6a8e4-e6d6-4423-e3b3-7e7ef5851f4a",
        "colab": {
          "base_uri": "https://localhost:8080/"
        }
      },
      "execution_count": 39,
      "outputs": [
        {
          "output_type": "stream",
          "name": "stdout",
          "text": [
            "<dtype: 'float32'>\n"
          ]
        },
        {
          "output_type": "execute_result",
          "data": {
            "text/plain": [
              "<tf.Tensor: shape=(3, 4), dtype=float32, numpy=\n",
              "array([[0. , 0.5, 1. , 1.5],\n",
              "       [2. , 2.5, 3. , 3.5],\n",
              "       [4. , 4.5, 5. , 5.5]], dtype=float32)>"
            ]
          },
          "metadata": {},
          "execution_count": 39
        }
      ]
    },
    {
      "cell_type": "code",
      "source": [
        "a_torch = torch.arange(0,24,2).reshape(3,4)\n",
        "print(a_torch.dtype)\n",
        "a_torch"
      ],
      "metadata": {
        "id": "gM6z3iyolC_P",
        "outputId": "fc76767d-04c8-458c-8d33-6344f6d687f9",
        "colab": {
          "base_uri": "https://localhost:8080/"
        }
      },
      "execution_count": 34,
      "outputs": [
        {
          "output_type": "stream",
          "name": "stdout",
          "text": [
            "torch.int64\n"
          ]
        },
        {
          "output_type": "execute_result",
          "data": {
            "text/plain": [
              "tensor([[ 0,  2,  4,  6],\n",
              "        [ 8, 10, 12, 14],\n",
              "        [16, 18, 20, 22]])"
            ]
          },
          "metadata": {},
          "execution_count": 34
        }
      ]
    },
    {
      "cell_type": "code",
      "source": [
        "a = torch.arange(0.,1.,0.1)\n",
        "print(a.dtype)\n",
        "a"
      ],
      "metadata": {
        "id": "plK27uZkrtJX",
        "outputId": "8d32f92d-3f82-448e-d0d9-313699cea57a",
        "colab": {
          "base_uri": "https://localhost:8080/"
        }
      },
      "execution_count": 37,
      "outputs": [
        {
          "output_type": "stream",
          "name": "stdout",
          "text": [
            "torch.float32\n"
          ]
        },
        {
          "output_type": "execute_result",
          "data": {
            "text/plain": [
              "tensor([0.0000, 0.1000, 0.2000, 0.3000, 0.4000, 0.5000, 0.6000, 0.7000, 0.8000,\n",
              "        0.9000])"
            ]
          },
          "metadata": {},
          "execution_count": 37
        }
      ]
    },
    {
      "cell_type": "code",
      "source": [
        "a = np.linspace(1,5,6)\n",
        "print(a.dtype)\n",
        "print(a)\n",
        "a_tf = tf.linspace(1,5,6) # float32 가 아닌 float64 인 점 주의.\n",
        "print(a_tf.dtype)\n",
        "b_tf = tf.dtypes.cast(a_tf,tf.float32)\n",
        "print(b_tf.dtype)\n",
        "print(b_tf)\n",
        "a_torch = torch.linspace(1,5,6)\n",
        "print(a_torch.dtype)\n",
        "print(a_torch)"
      ],
      "metadata": {
        "id": "2U6GOsFBlRPk",
        "outputId": "e36daeb3-d78f-4676-a1d6-c88ece14799b",
        "colab": {
          "base_uri": "https://localhost:8080/"
        }
      },
      "execution_count": 27,
      "outputs": [
        {
          "output_type": "stream",
          "name": "stdout",
          "text": [
            "float64\n",
            "[1.  1.8 2.6 3.4 4.2 5. ]\n",
            "<dtype: 'float64'>\n",
            "<dtype: 'float32'>\n",
            "tf.Tensor([1.  1.8 2.6 3.4 4.2 5. ], shape=(6,), dtype=float32)\n",
            "torch.float32\n",
            "tensor([1.0000, 1.8000, 2.6000, 3.4000, 4.2000, 5.0000])\n"
          ]
        }
      ]
    },
    {
      "cell_type": "code",
      "source": [
        "a = np.eye(5)\n",
        "print(a.dtype)\n",
        "print(a)\n",
        "a_tf = tf.eye(5)\n",
        "print(a_tf.dtype)\n",
        "print(a_tf)\n",
        "a_torch = torch.eye(5)\n",
        "print(a_torch.dtype)\n",
        "print(a_torch)"
      ],
      "metadata": {
        "id": "RmOpGKjmm7Nq",
        "outputId": "9ac709d0-e471-4b6b-ebc5-6535ac34a8ba",
        "colab": {
          "base_uri": "https://localhost:8080/"
        }
      },
      "execution_count": 29,
      "outputs": [
        {
          "output_type": "stream",
          "name": "stdout",
          "text": [
            "float64\n",
            "[[1. 0. 0. 0. 0.]\n",
            " [0. 1. 0. 0. 0.]\n",
            " [0. 0. 1. 0. 0.]\n",
            " [0. 0. 0. 1. 0.]\n",
            " [0. 0. 0. 0. 1.]]\n",
            "<dtype: 'float32'>\n",
            "tf.Tensor(\n",
            "[[1. 0. 0. 0. 0.]\n",
            " [0. 1. 0. 0. 0.]\n",
            " [0. 0. 1. 0. 0.]\n",
            " [0. 0. 0. 1. 0.]\n",
            " [0. 0. 0. 0. 1.]], shape=(5, 5), dtype=float32)\n",
            "torch.float32\n",
            "tensor([[1., 0., 0., 0., 0.],\n",
            "        [0., 1., 0., 0., 0.],\n",
            "        [0., 0., 1., 0., 0.],\n",
            "        [0., 0., 0., 1., 0.],\n",
            "        [0., 0., 0., 0., 1.]])\n"
          ]
        }
      ]
    },
    {
      "cell_type": "code",
      "source": [
        "a = np.empty((4,2))\n",
        "print(a.dtype)\n",
        "print(a)\n",
        "# a_tf = tf.empty((4,2)) # not working. 초기화하지 않은 배열 생성.\n",
        "# print(a_tf.dtype)\n",
        "# print(a_tf)\n",
        "a_torch = torch.empty((4,2))\n",
        "print(a_torch.dtype)\n",
        "print(a_torch)"
      ],
      "metadata": {
        "id": "skI2m-jYnO-g",
        "outputId": "f20a04ed-c19f-4cab-bf04-362998da5ea6",
        "colab": {
          "base_uri": "https://localhost:8080/"
        }
      },
      "execution_count": 31,
      "outputs": [
        {
          "output_type": "stream",
          "name": "stdout",
          "text": [
            "float64\n",
            "[[4.86489613e-310 0.00000000e+000]\n",
            " [0.00000000e+000 0.00000000e+000]\n",
            " [0.00000000e+000 0.00000000e+000]\n",
            " [0.00000000e+000 0.00000000e+000]]\n",
            "torch.float32\n",
            "tensor([[-1.7530e-27,  3.2122e-41],\n",
            "        [-1.7788e-27,  3.2122e-41],\n",
            "        [ 2.3694e-38,  2.3694e-38],\n",
            "        [ 1.4013e-45,  0.0000e+00]])\n"
          ]
        }
      ]
    },
    {
      "cell_type": "markdown",
      "metadata": {
        "id": "OSd5xM3x6V_A"
      },
      "source": [
        "## 1-5. 난수로 구성된 tensor 생성.\n",
        "\n",
        "* `numpy.random`와 `torch`\n",
        "  * `rand([d0 [,d1 [ ..., dn])` : 0~1사이의 수들이 균일한 확률로 선택되어 반환됨.\n",
        "    * d0 , ... , dn : 난수로 구성된 ndarray의 shape를 지정하는 데 사용됨.\n",
        "  * `randn([d0 [,d1 [ ..., dn])` : $\\mu=0, \\sigma=1$ 인 정규 분포를 따르는 난수 반환.\n",
        "* `tensorflow`\n",
        "  * `random.uniform(shape, minval, maxval)`\n",
        "  * `random.normal(shape, mean, stddev`"
      ]
    },
    {
      "cell_type": "code",
      "execution_count": null,
      "metadata": {
        "colab": {
          "base_uri": "https://localhost:8080/"
        },
        "id": "d7oxzXhO7r8r",
        "outputId": "9b9892fe-a9d5-4fee-9281-592fa1d6fcd5"
      },
      "outputs": [
        {
          "output_type": "stream",
          "name": "stdout",
          "text": [
            "float64\n"
          ]
        },
        {
          "output_type": "execute_result",
          "data": {
            "text/plain": [
              "array([[0.55619745, 0.9362871 , 0.33799696, 0.39472012],\n",
              "       [0.82031192, 0.69608604, 0.40966956, 0.06170825],\n",
              "       [0.11522117, 0.70339389, 0.56129158, 0.73486521]])"
            ]
          },
          "metadata": {},
          "execution_count": 174
        }
      ],
      "source": [
        "A = np.random.rand(3,4)\n",
        "print(A.dtype)\n",
        "A"
      ]
    },
    {
      "cell_type": "code",
      "execution_count": null,
      "metadata": {
        "colab": {
          "base_uri": "https://localhost:8080/"
        },
        "id": "aOqMiEsScnS9",
        "outputId": "85430b58-08c9-49de-d207-cae347b121e6"
      },
      "outputs": [
        {
          "output_type": "execute_result",
          "data": {
            "text/plain": [
              "<tf.Tensor: shape=(3, 4), dtype=float32, numpy=\n",
              "array([[0.10395992, 0.13512301, 0.675423  , 0.73898494],\n",
              "       [0.17457092, 0.12481904, 0.29854405, 0.5158491 ],\n",
              "       [0.6113448 , 0.76401436, 0.9410037 , 0.9026034 ]], dtype=float32)>"
            ]
          },
          "metadata": {},
          "execution_count": 175
        }
      ],
      "source": [
        "A_tf = tf.random.uniform(shape=(3,4), minval=0., maxval=1. )\n",
        "A_tf"
      ]
    },
    {
      "cell_type": "code",
      "source": [
        "A_torch = torch.rand(3,4)\n",
        "print(A_torch.dtype)\n",
        "A_torch"
      ],
      "metadata": {
        "id": "sgByl2BwTgmb",
        "outputId": "df631bb0-8705-47d1-d94e-17ccecae2dc1",
        "colab": {
          "base_uri": "https://localhost:8080/"
        }
      },
      "execution_count": null,
      "outputs": [
        {
          "output_type": "stream",
          "name": "stdout",
          "text": [
            "torch.float32\n"
          ]
        },
        {
          "output_type": "execute_result",
          "data": {
            "text/plain": [
              "tensor([[0.1202, 0.3394, 0.0531, 0.8130],\n",
              "        [0.6775, 0.9403, 0.5948, 0.0434],\n",
              "        [0.9893, 0.3047, 0.9056, 0.2802]])"
            ]
          },
          "metadata": {},
          "execution_count": 176
        }
      ]
    },
    {
      "cell_type": "code",
      "execution_count": null,
      "metadata": {
        "colab": {
          "base_uri": "https://localhost:8080/"
        },
        "id": "fbjSFZVO7x56",
        "outputId": "e748a587-f233-41b8-bfe6-ff21880acc34"
      },
      "outputs": [
        {
          "output_type": "stream",
          "name": "stdout",
          "text": [
            "(3, 4)\n",
            "0.39099669668992715 0.6554725578252034\n"
          ]
        },
        {
          "output_type": "execute_result",
          "data": {
            "text/plain": [
              "array([[ 1.18800173, -0.43367139,  0.24757554,  0.04129676],\n",
              "       [ 1.20047533, -0.18213944, -0.54281844,  1.07107274],\n",
              "       [ 0.01876162,  1.05964493, -0.10636181,  1.1301228 ]])"
            ]
          },
          "metadata": {},
          "execution_count": 180
        }
      ],
      "source": [
        "A = np.random.randn(3,4) #normal distribution of which parameters are mean and standard deviation.\n",
        "print(A.shape)\n",
        "print(np.mean(A),np.std(A))\n",
        "A"
      ]
    },
    {
      "cell_type": "code",
      "execution_count": null,
      "metadata": {
        "colab": {
          "base_uri": "https://localhost:8080/"
        },
        "id": "QJGIx8J0dfUW",
        "outputId": "6c1bc172-76cf-4157-eefb-56305988a196"
      },
      "outputs": [
        {
          "output_type": "stream",
          "name": "stdout",
          "text": [
            "(3, 4)\n",
            "tf.Tensor(-0.17028458, shape=(), dtype=float32) tf.Tensor(0.8427512, shape=(), dtype=float32)\n"
          ]
        },
        {
          "output_type": "execute_result",
          "data": {
            "text/plain": [
              "<tf.Tensor: shape=(3, 4), dtype=float32, numpy=\n",
              "array([[ 0.54476297,  0.6720979 , -0.10333953,  1.2041633 ],\n",
              "       [-1.4025258 , -0.37399337, -0.72326237, -0.1586897 ],\n",
              "       [-0.94473696, -0.26886743,  0.9641891 , -1.453213  ]],\n",
              "      dtype=float32)>"
            ]
          },
          "metadata": {},
          "execution_count": 189
        }
      ],
      "source": [
        "A_tf = tf.random.normal(shape=(3,4),mean=0., stddev=1.0)\n",
        "print(A_tf.shape)\n",
        "print(tf.math.reduce_mean(A_tf),tf.math.reduce_std(A_tf))\n",
        "A_tf"
      ]
    },
    {
      "cell_type": "code",
      "source": [
        "A_torch = torch.randn(3,4)\n",
        "print(A_torch.dtype)\n",
        "print(torch.mean(A_torch),torch.std(A_torch))\n",
        "A_torch"
      ],
      "metadata": {
        "id": "V0AonTtMT5_-",
        "outputId": "140831c4-a76a-4b8a-8418-bee6b7e292e5",
        "colab": {
          "base_uri": "https://localhost:8080/"
        }
      },
      "execution_count": null,
      "outputs": [
        {
          "output_type": "stream",
          "name": "stdout",
          "text": [
            "torch.float32\n",
            "tensor(0.0983) tensor(1.2766)\n"
          ]
        },
        {
          "output_type": "execute_result",
          "data": {
            "text/plain": [
              "tensor([[-1.3746, -0.9917,  0.5398,  1.8088],\n",
              "        [ 0.7293, -0.2223,  2.2469, -1.3297],\n",
              "        [ 0.9531,  0.1218,  0.4540, -1.7552]])"
            ]
          },
          "metadata": {},
          "execution_count": 190
        }
      ]
    },
    {
      "cell_type": "markdown",
      "metadata": {
        "id": "G74cZ8N0GZRs"
      },
      "source": [
        "# 2.indexing & slicing on Tensor\n",
        "\n",
        "tensor의 element에 접근하는 것은\n",
        "\n",
        "* indexing을 통해 하나하나에 접근하고,\n",
        "* slicing을 통해 특정 영역의 element에 접근 가능함.\n",
        "\n",
        "\n",
        "> `list` 등의 python의 fundamental type들과의 차이는  \n",
        "> slicing의 경우에 numpy는 원본을 가리키고 있어서 slicing 을 통한 새 값을 설정은  \n",
        "> 실제로 원본이 수정되게 됨. (주의 필요.)"
      ]
    },
    {
      "cell_type": "markdown",
      "source": [
        "### 2-1.indexing"
      ],
      "metadata": {
        "id": "SWcyWCFMQhIR"
      }
    },
    {
      "cell_type": "code",
      "execution_count": 42,
      "metadata": {
        "colab": {
          "base_uri": "https://localhost:8080/"
        },
        "id": "7L33cIoPHFzZ",
        "outputId": "88e6a22f-d634-41b6-ee27-5608ab98abac"
      },
      "outputs": [
        {
          "output_type": "stream",
          "name": "stdout",
          "text": [
            "int64\n"
          ]
        },
        {
          "output_type": "execute_result",
          "data": {
            "text/plain": [
              "array([[ 0,  1,  2,  3],\n",
              "       [ 4,  5,  6,  7],\n",
              "       [ 8,  9, 10, 11]])"
            ]
          },
          "metadata": {},
          "execution_count": 42
        }
      ],
      "source": [
        "A = np.arange(0,12).reshape(3,4)\n",
        "print(A.dtype)\n",
        "A"
      ]
    },
    {
      "cell_type": "code",
      "execution_count": 43,
      "metadata": {
        "colab": {
          "base_uri": "https://localhost:8080/"
        },
        "id": "RYJZ9uXfbkl-",
        "outputId": "2a82b59e-3b66-414c-917a-750cc29dd793"
      },
      "outputs": [
        {
          "output_type": "stream",
          "name": "stdout",
          "text": [
            "<dtype: 'int32'>\n"
          ]
        },
        {
          "output_type": "execute_result",
          "data": {
            "text/plain": [
              "<tf.Variable 'Variable:0' shape=(3, 4) dtype=int32, numpy=\n",
              "array([[ 0,  1,  2,  3],\n",
              "       [ 4,  5,  6,  7],\n",
              "       [ 8,  9, 10, 11]], dtype=int32)>"
            ]
          },
          "metadata": {},
          "execution_count": 43
        }
      ],
      "source": [
        "# A_tf = tf.constant(tf.range(0,12),shape=(3,4))\n",
        "A_tf = tf.Variable(np.arange(0,12).reshape(3,4), dtype=tf.int32)\n",
        "print(A_tf.dtype)\n",
        "A_tf"
      ]
    },
    {
      "cell_type": "code",
      "source": [
        "A_torch = torch.tensor(torch.arange(0,12).reshape(3,4))\n",
        "print(A_torch.dtype)\n",
        "A_torch"
      ],
      "metadata": {
        "id": "gf1ln77dMff6",
        "outputId": "254f9d09-a4b5-4cd3-e5fa-5335bce0bb48",
        "colab": {
          "base_uri": "https://localhost:8080/"
        }
      },
      "execution_count": 44,
      "outputs": [
        {
          "output_type": "stream",
          "name": "stdout",
          "text": [
            "torch.int64\n"
          ]
        },
        {
          "output_type": "stream",
          "name": "stderr",
          "text": [
            "<ipython-input-44-5e1d184cde73>:1: UserWarning: To copy construct from a tensor, it is recommended to use sourceTensor.clone().detach() or sourceTensor.clone().detach().requires_grad_(True), rather than torch.tensor(sourceTensor).\n",
            "  A_torch = torch.tensor(torch.arange(0,12).reshape(3,4))\n"
          ]
        },
        {
          "output_type": "execute_result",
          "data": {
            "text/plain": [
              "tensor([[ 0,  1,  2,  3],\n",
              "        [ 4,  5,  6,  7],\n",
              "        [ 8,  9, 10, 11]])"
            ]
          },
          "metadata": {},
          "execution_count": 44
        }
      ]
    },
    {
      "cell_type": "code",
      "execution_count": 45,
      "metadata": {
        "colab": {
          "base_uri": "https://localhost:8080/"
        },
        "id": "gQHQpAusHTz4",
        "outputId": "4ff9f594-50b3-47e2-c1e2-a679150f22ae"
      },
      "outputs": [
        {
          "output_type": "stream",
          "name": "stdout",
          "text": [
            "[[ 0  1  2  3]\n",
            " [ 4  5  6  7]\n",
            " [ 8  9 10 11]]\n",
            "A[0] is \"[0 1 2 3]\"\n",
            "A[0,2] is \"2\"\n",
            "A[0][2] is \"2\"\n"
          ]
        }
      ],
      "source": [
        "print(A)\n",
        "print(f'A[0] is \"{A[0]}\"')\n",
        "print(f'A[0,2] is \"{A[0,2]}\"')\n",
        "print(f'A[0][2] is \"{A[0][2]}\"')"
      ]
    },
    {
      "cell_type": "code",
      "execution_count": 46,
      "metadata": {
        "colab": {
          "base_uri": "https://localhost:8080/"
        },
        "id": "6KrRSSU3ut2w",
        "outputId": "71d3c17c-97fb-476f-831c-86959bfd4bc5"
      },
      "outputs": [
        {
          "output_type": "execute_result",
          "data": {
            "text/plain": [
              "10"
            ]
          },
          "metadata": {},
          "execution_count": 46
        }
      ],
      "source": [
        "A[2,2]"
      ]
    },
    {
      "cell_type": "code",
      "execution_count": 47,
      "metadata": {
        "colab": {
          "base_uri": "https://localhost:8080/"
        },
        "id": "eHl_Vun7wawq",
        "outputId": "5734c5a9-385e-4a69-c6e2-62a0572216f9"
      },
      "outputs": [
        {
          "output_type": "execute_result",
          "data": {
            "text/plain": [
              "array([[ 0,  1,  2,  3],\n",
              "       [ 4,  5,  6,  7],\n",
              "       [ 8,  9, 77, 11]])"
            ]
          },
          "metadata": {},
          "execution_count": 47
        }
      ],
      "source": [
        "A[2,2] = 77\n",
        "A"
      ]
    },
    {
      "cell_type": "code",
      "source": [
        "print(A_tf)\n",
        "print(f'A_tf[0] is \"{A_tf[0]}\"')\n",
        "print(f'A_tf[0,2] is \"{A_tf[0,2]}\"')\n",
        "print(f'A_tf[0][2] is \"{A_tf[0][2]}\"')"
      ],
      "metadata": {
        "id": "QTA6FIkKNPfa",
        "outputId": "f5d10dd0-0974-4ef6-f6ce-c16da71fd49e",
        "colab": {
          "base_uri": "https://localhost:8080/"
        }
      },
      "execution_count": 49,
      "outputs": [
        {
          "output_type": "stream",
          "name": "stdout",
          "text": [
            "<tf.Variable 'Variable:0' shape=(3, 4) dtype=int32, numpy=\n",
            "array([[ 0,  1,  2,  3],\n",
            "       [ 4,  5,  6,  7],\n",
            "       [ 8,  9, 10, 11]], dtype=int32)>\n",
            "A_tf[0] is \"[0 1 2 3]\"\n",
            "A_tf[0,2] is \"2\"\n",
            "A_tf[0][2] is \"2\"\n"
          ]
        }
      ]
    },
    {
      "cell_type": "code",
      "execution_count": 50,
      "metadata": {
        "colab": {
          "base_uri": "https://localhost:8080/"
        },
        "id": "duiFaLnYcFvY",
        "outputId": "b2d1a17f-67ba-4b6d-847d-b630e481adb7"
      },
      "outputs": [
        {
          "output_type": "execute_result",
          "data": {
            "text/plain": [
              "<tf.Tensor: shape=(), dtype=int32, numpy=2>"
            ]
          },
          "metadata": {},
          "execution_count": 50
        }
      ],
      "source": [
        "A_tf[0,2] # scalar 이므로 shape가 비워짐. 단, type는 여전히 tensor임."
      ]
    },
    {
      "cell_type": "code",
      "source": [
        "A_tf[2,2] = 77 # tf에서 constant 나 Variable 모두에서 안됨.\n",
        "# A_tf[2,2].assign(77) # only working for Variable\n",
        "A_tf"
      ],
      "metadata": {
        "id": "ttWqDs-BNXSp",
        "outputId": "be950518-da33-4c0d-c79e-dad18e1afc30",
        "colab": {
          "base_uri": "https://localhost:8080/",
          "height": 181
        }
      },
      "execution_count": 54,
      "outputs": [
        {
          "output_type": "error",
          "ename": "TypeError",
          "evalue": "'ResourceVariable' object does not support item assignment",
          "traceback": [
            "\u001b[0;31m---------------------------------------------------------------------------\u001b[0m",
            "\u001b[0;31mTypeError\u001b[0m                                 Traceback (most recent call last)",
            "\u001b[0;32m<ipython-input-54-a5fc97488b02>\u001b[0m in \u001b[0;36m<cell line: 1>\u001b[0;34m()\u001b[0m\n\u001b[0;32m----> 1\u001b[0;31m \u001b[0mA_tf\u001b[0m\u001b[0;34m[\u001b[0m\u001b[0;36m2\u001b[0m\u001b[0;34m,\u001b[0m\u001b[0;36m2\u001b[0m\u001b[0;34m]\u001b[0m \u001b[0;34m=\u001b[0m \u001b[0;36m77\u001b[0m \u001b[0;31m# tf에서 constant 나 Variable 모두에서 안됨.\u001b[0m\u001b[0;34m\u001b[0m\u001b[0;34m\u001b[0m\u001b[0m\n\u001b[0m\u001b[1;32m      2\u001b[0m \u001b[0;31m# A_tf[2,2].assign(77) # only working for Variable\u001b[0m\u001b[0;34m\u001b[0m\u001b[0;34m\u001b[0m\u001b[0m\n\u001b[1;32m      3\u001b[0m \u001b[0mA_tf\u001b[0m\u001b[0;34m\u001b[0m\u001b[0;34m\u001b[0m\u001b[0m\n",
            "\u001b[0;31mTypeError\u001b[0m: 'ResourceVariable' object does not support item assignment"
          ]
        }
      ]
    },
    {
      "cell_type": "markdown",
      "source": [
        "constant를 이용한 tensor는 immutable임.\n",
        "(Vairable을 이용하면 다음을 통해 변경가능하나 이는 weight등으로 더 많이 사용됨.)\n",
        "\n",
        "element-wise변경을 다음과 같이 우회하여 수행할 수는 있으나 권장하지 않음."
      ],
      "metadata": {
        "id": "cNjhsxfvOaS1"
      }
    },
    {
      "cell_type": "code",
      "source": [
        "# 변경하고 싶은 위치와 값을 정의\n",
        "indices = tf.constant([[2, 2]]) # (2, 2) 위치를 변경하고자 함\n",
        "updates = tf.constant([77]) # 해당 위치에 넣고 싶은 값\n",
        "\n",
        "# 업데이트 적용\n",
        "A_tf = tf.tensor_scatter_nd_update(A_tf, indices, updates)\n",
        "A_tf"
      ],
      "metadata": {
        "id": "ls37gANWON49",
        "outputId": "3bad1585-3587-4969-8d78-3856cbac4a96",
        "colab": {
          "base_uri": "https://localhost:8080/"
        }
      },
      "execution_count": 55,
      "outputs": [
        {
          "output_type": "execute_result",
          "data": {
            "text/plain": [
              "<tf.Tensor: shape=(3, 4), dtype=int32, numpy=\n",
              "array([[ 0,  1,  2,  3],\n",
              "       [ 4,  5,  6,  7],\n",
              "       [ 8,  9, 77, 11]], dtype=int32)>"
            ]
          },
          "metadata": {},
          "execution_count": 55
        }
      ]
    },
    {
      "cell_type": "code",
      "source": [
        "print(A_torch)\n",
        "print(f'A[0] is \"{A_torch[0]}\"')\n",
        "print(f'A[0,2] is \"{A_torch[0,2]}\"')\n",
        "print(f'A[0][2] is \"{A_torch[0][2]}\"')"
      ],
      "metadata": {
        "id": "tGzZwX11QF5O",
        "outputId": "7ec6c926-1390-488c-b9df-55228d02dca5",
        "colab": {
          "base_uri": "https://localhost:8080/"
        }
      },
      "execution_count": 56,
      "outputs": [
        {
          "output_type": "stream",
          "name": "stdout",
          "text": [
            "tensor([[ 0,  1,  2,  3],\n",
            "        [ 4,  5,  6,  7],\n",
            "        [ 8,  9, 10, 11]])\n",
            "A[0] is \"tensor([0, 1, 2, 3])\"\n",
            "A[0,2] is \"2\"\n",
            "A[0][2] is \"2\"\n"
          ]
        }
      ]
    },
    {
      "cell_type": "code",
      "source": [
        "A_torch[2,2] = 77\n",
        "A_torch"
      ],
      "metadata": {
        "id": "axI1so6oQRMc",
        "outputId": "9c6ebeb7-2af7-43e3-891f-51f981e68224",
        "colab": {
          "base_uri": "https://localhost:8080/"
        }
      },
      "execution_count": 57,
      "outputs": [
        {
          "output_type": "execute_result",
          "data": {
            "text/plain": [
              "tensor([[ 0,  1,  2,  3],\n",
              "        [ 4,  5,  6,  7],\n",
              "        [ 8,  9, 77, 11]])"
            ]
          },
          "metadata": {},
          "execution_count": 57
        }
      ]
    },
    {
      "cell_type": "markdown",
      "source": [
        "### 2-2.slicing"
      ],
      "metadata": {
        "id": "LP1SYw8wQbzA"
      }
    },
    {
      "cell_type": "code",
      "execution_count": 58,
      "metadata": {
        "colab": {
          "base_uri": "https://localhost:8080/"
        },
        "id": "tZeRYWUoH1wF",
        "outputId": "016c1ed5-b2f7-41ec-8a6c-c2c42ed3a2ce"
      },
      "outputs": [
        {
          "output_type": "stream",
          "name": "stdout",
          "text": [
            "[[ 0  1  2  3]\n",
            " [ 4  5  6  7]\n",
            " [ 8  9 77 11]]\n",
            "A[1,2:] is \"[6 7]\"\n",
            "A[1,::2] is \"[4 6]\"\n",
            "A[1,::-2] is \"[7 5]\"\n",
            "A[1,::-1] is \"[7 6 5 4]\"\n",
            "A[1,3:0:-1] is \"[7 6 5]\"\n"
          ]
        }
      ],
      "source": [
        "print(A)\n",
        "print(f'A[1,2:] is \"{A[1,2:]}\"')\n",
        "print(f'A[1,::2] is \"{A[1,::2]}\"')\n",
        "print(f'A[1,::-2] is \"{A[1,::-2]}\"')\n",
        "print(f'A[1,::-1] is \"{A[1,::-1]}\"')\n",
        "print(f'A[1,3:0:-1] is \"{A[1,3:0:-1]}\"')"
      ]
    },
    {
      "cell_type": "code",
      "execution_count": 59,
      "metadata": {
        "colab": {
          "base_uri": "https://localhost:8080/"
        },
        "id": "7fAa6FFqIjiY",
        "outputId": "26d686f8-222d-479c-bea3-6807a70c5388"
      },
      "outputs": [
        {
          "output_type": "stream",
          "name": "stdout",
          "text": [
            "[[ 0  1  2  3]\n",
            " [ 4  5  6  7]\n",
            " [ 8  9 77 11]]\n"
          ]
        },
        {
          "output_type": "execute_result",
          "data": {
            "text/plain": [
              "array([[  0,   1,   2,   3],\n",
              "       [  4,  15,  18,   7],\n",
              "       [  8,  27, 231,  11]])"
            ]
          },
          "metadata": {},
          "execution_count": 59
        }
      ],
      "source": [
        "print(A)\n",
        "A[1:3,1:3] = 3*A[1:3,1:3]\n",
        "A"
      ]
    },
    {
      "cell_type": "code",
      "execution_count": 60,
      "metadata": {
        "colab": {
          "base_uri": "https://localhost:8080/"
        },
        "id": "ZsC__RZzItTM",
        "outputId": "41167534-d29f-4e38-cd21-2b8c9c062d83"
      },
      "outputs": [
        {
          "output_type": "execute_result",
          "data": {
            "text/plain": [
              "array([[  0,   1,   2,   3],\n",
              "       [  4, 777, 777,   7],\n",
              "       [  8, 777, 777,  11]])"
            ]
          },
          "metadata": {},
          "execution_count": 60
        }
      ],
      "source": [
        "A[1:3,1:3] = 777\n",
        "A"
      ]
    },
    {
      "cell_type": "code",
      "source": [
        "print(A_tf)\n",
        "print(f'A_tf[1,2:] is \"{A_tf[1,2:]}\"')\n",
        "print(f'A_tf[1,::2] is \"{A_tf[1,::2]}\"')\n",
        "print(f'A_tf[1,::-2] is \"{A_tf[1,::-2]}\"')\n",
        "print(f'A_tf[1,::-1] is \"{A_tf[1,::-1]}\"')\n",
        "print(f'A_tf[1,3:0:-1] is \"{A_tf[1,3:0:-1]}\"')"
      ],
      "metadata": {
        "id": "rHK0N5nNRQif",
        "outputId": "a05f7d67-7c76-42a4-ebb2-af70bc31a665",
        "colab": {
          "base_uri": "https://localhost:8080/"
        }
      },
      "execution_count": 61,
      "outputs": [
        {
          "output_type": "stream",
          "name": "stdout",
          "text": [
            "tf.Tensor(\n",
            "[[ 0  1  2  3]\n",
            " [ 4  5  6  7]\n",
            " [ 8  9 77 11]], shape=(3, 4), dtype=int32)\n",
            "A_tf[1,2:] is \"[6 7]\"\n",
            "A_tf[1,::2] is \"[4 6]\"\n",
            "A_tf[1,::-2] is \"[7 5]\"\n",
            "A_tf[1,::-1] is \"[7 6 5 4]\"\n",
            "A_tf[1,3:0:-1] is \"[7 6 5]\"\n"
          ]
        }
      ]
    },
    {
      "cell_type": "code",
      "source": [
        "# tf.Tensor인 경우엔 동작 안함. tf.Variabel이어야만 동작.\n",
        "print(A_tf)\n",
        "A_tf[1:3,1:3].assign(3*A_tf[1:3,1:3])\n",
        "A_tf"
      ],
      "metadata": {
        "id": "fU1CBWOARdlG",
        "outputId": "93e328af-1563-43e0-cdea-6a2d36817a86",
        "colab": {
          "base_uri": "https://localhost:8080/",
          "height": 433
        }
      },
      "execution_count": 62,
      "outputs": [
        {
          "output_type": "stream",
          "name": "stdout",
          "text": [
            "tf.Tensor(\n",
            "[[ 0  1  2  3]\n",
            " [ 4  5  6  7]\n",
            " [ 8  9 77 11]], shape=(3, 4), dtype=int32)\n"
          ]
        },
        {
          "output_type": "error",
          "ename": "AttributeError",
          "evalue": "'tensorflow.python.framework.ops.EagerTensor' object has no attribute 'assign'",
          "traceback": [
            "\u001b[0;31m---------------------------------------------------------------------------\u001b[0m",
            "\u001b[0;31mAttributeError\u001b[0m                            Traceback (most recent call last)",
            "\u001b[0;32m<ipython-input-62-a44887317af8>\u001b[0m in \u001b[0;36m<cell line: 3>\u001b[0;34m()\u001b[0m\n\u001b[1;32m      1\u001b[0m \u001b[0;31m# tf.Tensor인 경우엔 동작 안함. tf.Variabel이어야만 동작.\u001b[0m\u001b[0;34m\u001b[0m\u001b[0;34m\u001b[0m\u001b[0m\n\u001b[1;32m      2\u001b[0m \u001b[0mprint\u001b[0m\u001b[0;34m(\u001b[0m\u001b[0mA_tf\u001b[0m\u001b[0;34m)\u001b[0m\u001b[0;34m\u001b[0m\u001b[0;34m\u001b[0m\u001b[0m\n\u001b[0;32m----> 3\u001b[0;31m \u001b[0mA_tf\u001b[0m\u001b[0;34m[\u001b[0m\u001b[0;36m1\u001b[0m\u001b[0;34m:\u001b[0m\u001b[0;36m3\u001b[0m\u001b[0;34m,\u001b[0m\u001b[0;36m1\u001b[0m\u001b[0;34m:\u001b[0m\u001b[0;36m3\u001b[0m\u001b[0;34m]\u001b[0m\u001b[0;34m.\u001b[0m\u001b[0massign\u001b[0m\u001b[0;34m(\u001b[0m\u001b[0;36m3\u001b[0m\u001b[0;34m*\u001b[0m\u001b[0mA_tf\u001b[0m\u001b[0;34m[\u001b[0m\u001b[0;36m1\u001b[0m\u001b[0;34m:\u001b[0m\u001b[0;36m3\u001b[0m\u001b[0;34m,\u001b[0m\u001b[0;36m1\u001b[0m\u001b[0;34m:\u001b[0m\u001b[0;36m3\u001b[0m\u001b[0;34m]\u001b[0m\u001b[0;34m)\u001b[0m\u001b[0;34m\u001b[0m\u001b[0;34m\u001b[0m\u001b[0m\n\u001b[0m\u001b[1;32m      4\u001b[0m \u001b[0mA_tf\u001b[0m\u001b[0;34m\u001b[0m\u001b[0;34m\u001b[0m\u001b[0m\n",
            "\u001b[0;32m/usr/local/lib/python3.10/dist-packages/tensorflow/python/framework/tensor.py\u001b[0m in \u001b[0;36m__getattr__\u001b[0;34m(self, name)\u001b[0m\n\u001b[1;32m    259\u001b[0m         \u001b[0mtf\u001b[0m\u001b[0;34m.\u001b[0m\u001b[0mexperimental\u001b[0m\u001b[0;34m.\u001b[0m\u001b[0mnumpy\u001b[0m\u001b[0;34m.\u001b[0m\u001b[0mexperimental_enable_numpy_behavior\u001b[0m\u001b[0;34m(\u001b[0m\u001b[0;34m)\u001b[0m\u001b[0;34m\u001b[0m\u001b[0;34m\u001b[0m\u001b[0m\n\u001b[1;32m    260\u001b[0m       \"\"\")\n\u001b[0;32m--> 261\u001b[0;31m     \u001b[0mself\u001b[0m\u001b[0;34m.\u001b[0m\u001b[0m__getattribute__\u001b[0m\u001b[0;34m(\u001b[0m\u001b[0mname\u001b[0m\u001b[0;34m)\u001b[0m\u001b[0;34m\u001b[0m\u001b[0;34m\u001b[0m\u001b[0m\n\u001b[0m\u001b[1;32m    262\u001b[0m \u001b[0;34m\u001b[0m\u001b[0m\n\u001b[1;32m    263\u001b[0m   \u001b[0;34m@\u001b[0m\u001b[0mproperty\u001b[0m\u001b[0;34m\u001b[0m\u001b[0;34m\u001b[0m\u001b[0m\n",
            "\u001b[0;31mAttributeError\u001b[0m: 'tensorflow.python.framework.ops.EagerTensor' object has no attribute 'assign'"
          ]
        }
      ]
    },
    {
      "cell_type": "code",
      "source": [
        "print(A_torch)\n",
        "print(f'A[1,2:] is \"{A_torch[1,2:]}\"')\n",
        "print(f'A[1,::2] is \"{A_torch[1,::2]}\"')\n",
        "# print(f'A[1,::-2] is \"{A_torch[1,::-2]}\"') # not working. positive step 만 지원.\n",
        "# print(f'A[1,::-1] is \"{A_torch[1,::-1]}\"') # not working. positive step 만 지원.\n",
        "# print(f'A[1,3:0:-1] is \"{A_torch[1,3:0:-1]}\"') # not working. positive step 만 지원."
      ],
      "metadata": {
        "id": "dAEklvcEQweP",
        "outputId": "953519c7-f6c9-4cbd-b69d-cd5e411d6ad1",
        "colab": {
          "base_uri": "https://localhost:8080/"
        }
      },
      "execution_count": 63,
      "outputs": [
        {
          "output_type": "stream",
          "name": "stdout",
          "text": [
            "tensor([[ 0,  1,  2,  3],\n",
            "        [ 4,  5,  6,  7],\n",
            "        [ 8,  9, 77, 11]])\n",
            "A[1,2:] is \"tensor([6, 7])\"\n",
            "A[1,::2] is \"tensor([4, 6])\"\n"
          ]
        }
      ]
    },
    {
      "cell_type": "code",
      "source": [
        "print(A_torch)\n",
        "A_torch[1:3,1:3] = 3*A_torch[1:3,1:3]\n",
        "A_torch"
      ],
      "metadata": {
        "id": "taI9uB6CTMc7",
        "outputId": "e583bb1a-8cab-4471-8d5e-1f4ae12fcb53",
        "colab": {
          "base_uri": "https://localhost:8080/"
        }
      },
      "execution_count": 64,
      "outputs": [
        {
          "output_type": "stream",
          "name": "stdout",
          "text": [
            "tensor([[ 0,  1,  2,  3],\n",
            "        [ 4,  5,  6,  7],\n",
            "        [ 8,  9, 77, 11]])\n"
          ]
        },
        {
          "output_type": "execute_result",
          "data": {
            "text/plain": [
              "tensor([[  0,   1,   2,   3],\n",
              "        [  4,  15,  18,   7],\n",
              "        [  8,  27, 231,  11]])"
            ]
          },
          "metadata": {},
          "execution_count": 64
        }
      ]
    },
    {
      "cell_type": "markdown",
      "metadata": {
        "id": "M28jZA4u77ly"
      },
      "source": [
        "# 3.tensor의 `dtype` 변경\n",
        "\n",
        "`ndarray.astype(dtype)` : method. argument로 넘겨진 `dtype`로 해당 `ndarray`의 타입 변경한 `ndarray`반환\n",
        "\n",
        "`np.uint8(ndarray)` : argument로 넘겨진 `ndarray`를 `uint8`로 변경한 새로운 `ndarray`반환\n",
        "\n",
        "..."
      ]
    },
    {
      "cell_type": "code",
      "execution_count": 68,
      "metadata": {
        "colab": {
          "base_uri": "https://localhost:8080/"
        },
        "id": "UgSxTJS18kqy",
        "outputId": "2a13a39f-5156-46ad-9974-e07ddae2822d"
      },
      "outputs": [
        {
          "output_type": "stream",
          "name": "stdout",
          "text": [
            "[[1. 1. 1.]\n",
            " [1. 1. 1.]\n",
            " [1. 1. 1.]]\n",
            "139647305826448 float64\n",
            "139647306287696 float32\n"
          ]
        }
      ],
      "source": [
        "a = np.ones((3,3))\n",
        "c = a.astype('float32')\n",
        "print(c)\n",
        "\n",
        "print(id(a),a.dtype)\n",
        "print(id(c),c.dtype)"
      ]
    },
    {
      "cell_type": "code",
      "execution_count": 69,
      "metadata": {
        "colab": {
          "base_uri": "https://localhost:8080/"
        },
        "id": "K7kTPOMe0P8F",
        "outputId": "81c0bbfe-7196-453a-fe56-d2d92a68a3b1"
      },
      "outputs": [
        {
          "output_type": "execute_result",
          "data": {
            "text/plain": [
              "array([[1., 1., 1.],\n",
              "       [1., 1., 1.],\n",
              "       [1., 1., 1.]], dtype=float128)"
            ]
          },
          "metadata": {},
          "execution_count": 69
        }
      ],
      "source": [
        "a.astype(np.float128)"
      ]
    },
    {
      "cell_type": "code",
      "source": [
        "c = np.uint8(a)\n",
        "print(c)\n",
        "\n",
        "print(id(a),a.dtype)\n",
        "print(id(c),c.dtype)"
      ],
      "metadata": {
        "id": "cx1CWQbIVzXT",
        "outputId": "f07a4edc-3c17-47b1-f1c7-a71503c47214",
        "colab": {
          "base_uri": "https://localhost:8080/"
        }
      },
      "execution_count": 71,
      "outputs": [
        {
          "output_type": "stream",
          "name": "stdout",
          "text": [
            "[[1 1 1]\n",
            " [1 1 1]\n",
            " [1 1 1]]\n",
            "139647305826448 float64\n",
            "139647306291728 uint8\n"
          ]
        }
      ]
    },
    {
      "cell_type": "code",
      "execution_count": 72,
      "metadata": {
        "colab": {
          "base_uri": "https://localhost:8080/"
        },
        "id": "XE9F8gd2eFhj",
        "outputId": "5d0bfff5-db87-462e-d72e-f3d48043a55a"
      },
      "outputs": [
        {
          "output_type": "stream",
          "name": "stdout",
          "text": [
            "<dtype: 'float32'>\n",
            "<dtype: 'float64'>\n"
          ]
        },
        {
          "output_type": "execute_result",
          "data": {
            "text/plain": [
              "<tf.Tensor: shape=(3, 4), dtype=float64, numpy=\n",
              "array([[0.75253606, 0.513201  , 0.33693147, 0.06690419],\n",
              "       [0.51715696, 0.37817049, 0.14953506, 0.92860281],\n",
              "       [0.55306292, 0.81725132, 0.68160355, 0.39065182]])>"
            ]
          },
          "metadata": {},
          "execution_count": 72
        }
      ],
      "source": [
        "a_tf = tf.random.uniform(shape=(3,4))\n",
        "print(a_tf.dtype)\n",
        "c_tf = tf.dtypes.cast(a_tf,tf.float64)\n",
        "print(c_tf.dtype)\n",
        "c_tf"
      ]
    },
    {
      "cell_type": "code",
      "source": [
        "a_torch = torch.rand(3,4)\n",
        "print(a_torch.dtype, id(a_torch))\n",
        "c_torch = a_torch.type(torch.float64)\n",
        "print(c_torch.dtype, id(c_torch))\n",
        "c_torch"
      ],
      "metadata": {
        "id": "6Xe3gPprWChO",
        "outputId": "95e86070-67ca-41a1-e9b1-c8994cbadfb1",
        "colab": {
          "base_uri": "https://localhost:8080/"
        }
      },
      "execution_count": 74,
      "outputs": [
        {
          "output_type": "stream",
          "name": "stdout",
          "text": [
            "torch.float32 139647306362096\n",
            "torch.float64 139647306413568\n"
          ]
        },
        {
          "output_type": "execute_result",
          "data": {
            "text/plain": [
              "tensor([[0.0010, 0.5006, 0.4913, 0.3210],\n",
              "        [0.7418, 0.5926, 0.6360, 0.4853],\n",
              "        [0.0424, 0.3932, 0.9794, 0.0334]], dtype=torch.float64)"
            ]
          },
          "metadata": {},
          "execution_count": 74
        }
      ]
    },
    {
      "cell_type": "markdown",
      "metadata": {
        "id": "-0sz_0EO9Jru"
      },
      "source": [
        "# 4.tensor의 `shape`변경\n",
        "\n",
        "`reshape(new_shape)`"
      ]
    },
    {
      "cell_type": "code",
      "execution_count": 76,
      "metadata": {
        "colab": {
          "base_uri": "https://localhost:8080/"
        },
        "id": "ICg0CAS6W0qd",
        "outputId": "3ca3faca-6cb2-4369-8ed5-27bb3db2ca1b"
      },
      "outputs": [
        {
          "output_type": "stream",
          "name": "stdout",
          "text": [
            "int64 (4,)\n",
            "[0 1 2 3]\n",
            "[777 777   2   3]\n",
            "[[777 777]\n",
            " [  2   3]]\n"
          ]
        }
      ],
      "source": [
        "v = np.arange(4)\n",
        "print(v.dtype,v.shape)\n",
        "a = v.reshape(2,2)\n",
        "\n",
        "print(v)\n",
        "a[0]=777\n",
        "print(v)\n",
        "print(a)"
      ]
    },
    {
      "cell_type": "code",
      "execution_count": 77,
      "metadata": {
        "colab": {
          "base_uri": "https://localhost:8080/"
        },
        "id": "Vm0n4k_qW6Ej",
        "outputId": "6e0e2f71-9b63-4bb2-b474-e4dda1884a63"
      },
      "outputs": [
        {
          "output_type": "execute_result",
          "data": {
            "text/plain": [
              "array([[10, 11],\n",
              "       [12, 13]])"
            ]
          },
          "metadata": {},
          "execution_count": 77
        }
      ],
      "source": [
        "b= np.arange(10,14).reshape(2,2)\n",
        "b"
      ]
    },
    {
      "cell_type": "code",
      "execution_count": 79,
      "metadata": {
        "colab": {
          "base_uri": "https://localhost:8080/"
        },
        "id": "ywRL9YZC9sk5",
        "outputId": "769f78bc-99f1-48b1-93fd-0c25b5a744ea"
      },
      "outputs": [
        {
          "output_type": "stream",
          "name": "stdout",
          "text": [
            "(5,) 139647306109968\n",
            "(1, 5) 139647306110448\n",
            "(5, 1) 139647306110544\n"
          ]
        }
      ],
      "source": [
        "a = np.arange(0,10,2) # [ s:e :step_size]\n",
        "b = a.reshape((1,5))\n",
        "print(a.shape,id(a))\n",
        "print(b.shape,id(b))\n",
        "b\n",
        "c = a.reshape((5,1))\n",
        "print(c.shape,id(c))"
      ]
    },
    {
      "cell_type": "code",
      "execution_count": 80,
      "metadata": {
        "colab": {
          "base_uri": "https://localhost:8080/"
        },
        "id": "6HvEgicDfLtI",
        "outputId": "d651474d-12ee-49d8-cf7e-db0e5d049015"
      },
      "outputs": [
        {
          "output_type": "stream",
          "name": "stdout",
          "text": [
            "(5,) tf.Tensor(1, shape=(), dtype=int32)\n",
            "(5, 1) tf.Tensor(2, shape=(), dtype=int32)\n",
            "(1, 5) tf.Tensor(2, shape=(), dtype=int32)\n"
          ]
        }
      ],
      "source": [
        "a_tf = tf.constant(a)\n",
        "print(a_tf.shape, tf.rank(a_tf))\n",
        "\n",
        "b_tf = tf.reshape(a_tf,(5,1))\n",
        "print(b_tf.shape, tf.rank(b_tf))\n",
        "\n",
        "c_tf = tf.reshape(a_tf,shape=(1,5))\n",
        "print(c_tf.shape, tf.rank(c_tf))"
      ]
    },
    {
      "cell_type": "code",
      "source": [
        "a_torch = torch.tensor(a)\n",
        "print(a_torch.shape, a_torch.ndim, id(a_torch))\n",
        "\n",
        "b_torch = torch.reshape(a_torch,(5,1))\n",
        "print(b_torch.shape, b_torch.ndim, id(b_torch))\n",
        "\n",
        "c_torch = torch.reshape(a_torch,shape=(1,5))\n",
        "print(c_torch.shape, c_torch.ndim, id(c_torch))"
      ],
      "metadata": {
        "id": "rh5IJNhhWmVu",
        "outputId": "1072f500-30bb-4b7a-dc67-495a665bff59",
        "colab": {
          "base_uri": "https://localhost:8080/"
        }
      },
      "execution_count": 83,
      "outputs": [
        {
          "output_type": "stream",
          "name": "stdout",
          "text": [
            "torch.Size([5]) 1 139647305629136\n",
            "torch.Size([5, 1]) 2 139647306280256\n",
            "torch.Size([1, 5]) 2 139647305627776\n"
          ]
        }
      ]
    },
    {
      "cell_type": "markdown",
      "metadata": {
        "id": "i5LVKihH-Any"
      },
      "source": [
        "### 4-1.tensor를 1차원으로 풀어내기\n",
        "\n",
        "`ndarray.ravel()`"
      ]
    },
    {
      "cell_type": "code",
      "execution_count": null,
      "metadata": {
        "colab": {
          "base_uri": "https://localhost:8080/"
        },
        "id": "ahP9O_37-Kyl",
        "outputId": "5bb161cd-e304-4c9d-f35c-f9e870dbba48"
      },
      "outputs": [
        {
          "output_type": "stream",
          "name": "stdout",
          "text": [
            "(3, 3) 132036866381392\n",
            "(9,) 132036866380624\n"
          ]
        },
        {
          "output_type": "execute_result",
          "data": {
            "text/plain": [
              "array([1, 2, 3, 4, 5, 6, 7, 8, 9])"
            ]
          },
          "metadata": {},
          "execution_count": 225
        }
      ],
      "source": [
        "a = np.arange(1,10).reshape((3,3))\n",
        "b = a.ravel()\n",
        "print(a.shape, id(a))\n",
        "\n",
        "print(b.shape, id(b))\n",
        "b"
      ]
    },
    {
      "cell_type": "code",
      "source": [
        "a_torch = torch.tensor(a)\n",
        "b_torch = a_torch.ravel()\n",
        "print(a_torch.shape, id(a_torch))\n",
        "\n",
        "print(b_torch.shape, id(b_torch))\n",
        "b_torch"
      ],
      "metadata": {
        "id": "A_QocbjcXTkM",
        "outputId": "521ba6eb-bb41-4697-e888-388a74c1ce39",
        "colab": {
          "base_uri": "https://localhost:8080/"
        }
      },
      "execution_count": null,
      "outputs": [
        {
          "output_type": "stream",
          "name": "stdout",
          "text": [
            "torch.Size([3, 3]) 132036871807888\n",
            "torch.Size([9]) 132036866971888\n"
          ]
        },
        {
          "output_type": "execute_result",
          "data": {
            "text/plain": [
              "tensor([1, 2, 3, 4, 5, 6, 7, 8, 9])"
            ]
          },
          "metadata": {},
          "execution_count": 226
        }
      ]
    },
    {
      "cell_type": "code",
      "source": [
        "a_tf = tf.constant(a)\n",
        "b_tf = tf.reshape(a_tf,shape=(-1))\n",
        "print(a_tf.shape, id(a_tf))\n",
        "\n",
        "print(b_tf.shape, id(b_tf))\n",
        "b_tf"
      ],
      "metadata": {
        "id": "0lO6EA6bXaex",
        "outputId": "6b72a4f9-86a1-46c8-99f0-d566d217d35c",
        "colab": {
          "base_uri": "https://localhost:8080/"
        }
      },
      "execution_count": null,
      "outputs": [
        {
          "output_type": "stream",
          "name": "stdout",
          "text": [
            "(3, 3) 132036874255024\n",
            "(9,) 132036874181920\n"
          ]
        },
        {
          "output_type": "execute_result",
          "data": {
            "text/plain": [
              "<tf.Tensor: shape=(9,), dtype=int64, numpy=array([1, 2, 3, 4, 5, 6, 7, 8, 9])>"
            ]
          },
          "metadata": {},
          "execution_count": 228
        }
      ]
    },
    {
      "cell_type": "markdown",
      "metadata": {
        "id": "s7I0Ho5T2O61"
      },
      "source": [
        "# Test01\n",
        " * 8 by 4 로 된 matrix를 만들것.\n",
        " * 해당 matrix는 2부터 시작해서 짝수들로 64보다 작거나 같은 수로 채워짐. 행부터 채울것.\n",
        " * 해당 matrix를 출력하고 나서 vector로  만들것 (shape=(32,)인 np.array)\n",
        " * 해당 vector를 다시 출력.\n"
      ]
    },
    {
      "cell_type": "markdown",
      "metadata": {
        "id": "VW2kRHBk-qbO"
      },
      "source": [
        "# Transpose\n",
        "\n",
        "`ndarray.T`"
      ]
    },
    {
      "cell_type": "code",
      "execution_count": null,
      "metadata": {
        "colab": {
          "base_uri": "https://localhost:8080/"
        },
        "id": "VwdMgAcq-ysf",
        "outputId": "0b80c180-ab5e-4b1d-a711-22b289b55224"
      },
      "outputs": [
        {
          "output_type": "stream",
          "name": "stdout",
          "text": [
            "[[1 2 3]\n",
            " [4 5 6]\n",
            " [7 8 9]]\n",
            "[[1 4 7]\n",
            " [2 5 8]\n",
            " [3 6 9]]\n"
          ]
        }
      ],
      "source": [
        "c=a.T\n",
        "print(a)\n",
        "print(c)\n"
      ]
    },
    {
      "cell_type": "code",
      "source": [
        "c_tf = tf.transpose(a_tf)\n",
        "print(a_tf)\n",
        "print(c_tf)"
      ],
      "metadata": {
        "id": "TyecVC1iXwmA",
        "outputId": "c70053eb-4552-4c64-dee2-4c093b939460",
        "colab": {
          "base_uri": "https://localhost:8080/"
        }
      },
      "execution_count": null,
      "outputs": [
        {
          "output_type": "stream",
          "name": "stdout",
          "text": [
            "tf.Tensor(\n",
            "[[1 2 3]\n",
            " [4 5 6]\n",
            " [7 8 9]], shape=(3, 3), dtype=int64)\n",
            "tf.Tensor(\n",
            "[[1 4 7]\n",
            " [2 5 8]\n",
            " [3 6 9]], shape=(3, 3), dtype=int64)\n"
          ]
        }
      ]
    },
    {
      "cell_type": "code",
      "source": [
        "c_torch = a_torch.T\n",
        "print(a_torch)\n",
        "print(c_torch)"
      ],
      "metadata": {
        "id": "DysZ4JFuX0BU",
        "outputId": "3098a760-2b51-44f2-eabd-fc0e7a174a6e",
        "colab": {
          "base_uri": "https://localhost:8080/"
        }
      },
      "execution_count": null,
      "outputs": [
        {
          "output_type": "stream",
          "name": "stdout",
          "text": [
            "tensor([[1, 2, 3],\n",
            "        [4, 5, 6],\n",
            "        [7, 8, 9]])\n",
            "tensor([[1, 4, 7],\n",
            "        [2, 5, 8],\n",
            "        [3, 6, 9]])\n"
          ]
        }
      ]
    },
    {
      "cell_type": "markdown",
      "metadata": {
        "id": "nE3FMUMF_CcD"
      },
      "source": [
        "# Broadcasting\n",
        "\n",
        "ndarray와 scalar와 연산시킬때, 해당 ndarray와 같은 shape이면서 해당 scalar의 값을 가진 ndarray와 연산시키는 것처럼 자동으로 elementwise연산이 수행되는 기능.\n",
        "* numpy의 가장 강력한 기능 중 하나."
      ]
    },
    {
      "cell_type": "code",
      "execution_count": null,
      "metadata": {
        "colab": {
          "base_uri": "https://localhost:8080/"
        },
        "id": "hGr38-wF_fgw",
        "outputId": "c4ad31ed-1112-4b20-ebb3-1ee3fbd501f5"
      },
      "outputs": [
        {
          "output_type": "stream",
          "name": "stdout",
          "text": [
            "[[1 2 3]\n",
            " [4 5 6]\n",
            " [7 8 9]]\n",
            "[[0.5 1.  1.5]\n",
            " [2.  2.5 3. ]\n",
            " [3.5 4.  4.5]]\n"
          ]
        }
      ],
      "source": [
        "print(a)\n",
        "c = a/2\n",
        "print(c)"
      ]
    },
    {
      "cell_type": "code",
      "source": [
        "print(a_tf)\n",
        "c_tf = a_tf/2\n",
        "print(c_tf)"
      ],
      "metadata": {
        "id": "Y1kRoQP5YDHf",
        "outputId": "bf348b81-d5dc-4145-9ea8-808fbc263315",
        "colab": {
          "base_uri": "https://localhost:8080/"
        }
      },
      "execution_count": null,
      "outputs": [
        {
          "output_type": "stream",
          "name": "stdout",
          "text": [
            "tf.Tensor(\n",
            "[[1 2 3]\n",
            " [4 5 6]\n",
            " [7 8 9]], shape=(3, 3), dtype=int64)\n",
            "tf.Tensor(\n",
            "[[0.5 1.  1.5]\n",
            " [2.  2.5 3. ]\n",
            " [3.5 4.  4.5]], shape=(3, 3), dtype=float64)\n"
          ]
        }
      ]
    },
    {
      "cell_type": "code",
      "source": [
        "print(a_torch)\n",
        "c_torch = a_torch/2\n",
        "print(c_torch)"
      ],
      "metadata": {
        "id": "kQfb_om5YIqE",
        "outputId": "2fa12c33-7371-44a1-de6a-dacc96c26750",
        "colab": {
          "base_uri": "https://localhost:8080/"
        }
      },
      "execution_count": null,
      "outputs": [
        {
          "output_type": "stream",
          "name": "stdout",
          "text": [
            "tensor([[1, 2, 3],\n",
            "        [4, 5, 6],\n",
            "        [7, 8, 9]])\n",
            "tensor([[0.5000, 1.0000, 1.5000],\n",
            "        [2.0000, 2.5000, 3.0000],\n",
            "        [3.5000, 4.0000, 4.5000]])\n"
          ]
        }
      ]
    },
    {
      "cell_type": "code",
      "execution_count": null,
      "metadata": {
        "colab": {
          "base_uri": "https://localhost:8080/"
        },
        "id": "zVfumBf7_njB",
        "outputId": "b9efdea8-b2c3-4546-8ad1-0611954f7b25"
      },
      "outputs": [
        {
          "output_type": "stream",
          "name": "stdout",
          "text": [
            "float64\n",
            "float64\n",
            "[[4. 5. 6.]\n",
            " [4. 5. 6.]\n",
            " [4. 5. 6.]\n",
            " [4. 5. 6.]\n",
            " [4. 5. 6.]]\n",
            "(3,)\n"
          ]
        }
      ],
      "source": [
        "a = np.ones( shape=(5,3) )\n",
        "print(a.dtype)\n",
        "c = a + np.array([3,4,5])\n",
        "print(c.dtype)\n",
        "print(c)\n",
        "\n",
        "print(np.array([3,4,5]).shape)"
      ]
    },
    {
      "cell_type": "code",
      "source": [
        "print(np.array([3,4,5]).dtype)\n",
        "print(np.array([3.,4.,5.]).dtype)"
      ],
      "metadata": {
        "id": "R_k3k1pHZd_f",
        "outputId": "325c988a-de5e-4738-f03e-60fc619d1d19",
        "colab": {
          "base_uri": "https://localhost:8080/"
        }
      },
      "execution_count": null,
      "outputs": [
        {
          "output_type": "stream",
          "name": "stdout",
          "text": [
            "int64\n",
            "float64\n"
          ]
        }
      ]
    },
    {
      "cell_type": "code",
      "source": [
        "a_tf = tf.ones( shape=(5,3))\n",
        "print(a_tf.dtype)\n",
        "c_tf = a_tf + tf.constant([3,4,5], dtype=float) # dtype을 빼고 해볼 것. tensorflow의 불편함을 느낄 수 있음.\n",
        "print(c_tf)"
      ],
      "metadata": {
        "id": "U9R3U5hxYMRZ",
        "outputId": "25bc309e-f33c-4172-a4fb-0a11bbed2689",
        "colab": {
          "base_uri": "https://localhost:8080/"
        }
      },
      "execution_count": null,
      "outputs": [
        {
          "output_type": "stream",
          "name": "stdout",
          "text": [
            "<dtype: 'float32'>\n",
            "tf.Tensor(\n",
            "[[4. 5. 6.]\n",
            " [4. 5. 6.]\n",
            " [4. 5. 6.]\n",
            " [4. 5. 6.]\n",
            " [4. 5. 6.]], shape=(5, 3), dtype=float32)\n"
          ]
        }
      ]
    },
    {
      "cell_type": "code",
      "source": [
        "print(tf.constant([3,4,5]).dtype)\n",
        "print(tf.constant([3.,4.,5.]).dtype)"
      ],
      "metadata": {
        "id": "FtQW3cMfZUVd",
        "outputId": "c32b6666-61f5-4623-b93c-19b50cfc9b5c",
        "colab": {
          "base_uri": "https://localhost:8080/"
        }
      },
      "execution_count": null,
      "outputs": [
        {
          "output_type": "stream",
          "name": "stdout",
          "text": [
            "<dtype: 'int32'>\n",
            "<dtype: 'float32'>\n"
          ]
        }
      ]
    },
    {
      "cell_type": "code",
      "source": [
        "a_torch = torch.ones( size=(5,3) )\n",
        "print(a_torch.dtype)\n",
        "c_torch = a_torch + torch.tensor([3,4,5])\n",
        "print(c_torch)"
      ],
      "metadata": {
        "id": "QdGn1q88Yy-R",
        "outputId": "9d1b9d2b-50ba-45af-d3dd-835cb669d5cb",
        "colab": {
          "base_uri": "https://localhost:8080/"
        }
      },
      "execution_count": null,
      "outputs": [
        {
          "output_type": "stream",
          "name": "stdout",
          "text": [
            "torch.float32\n",
            "tensor([[4., 5., 6.],\n",
            "        [4., 5., 6.],\n",
            "        [4., 5., 6.],\n",
            "        [4., 5., 6.],\n",
            "        [4., 5., 6.]])\n"
          ]
        }
      ]
    },
    {
      "cell_type": "code",
      "source": [
        "print(torch.tensor([3,4,5]).dtype)\n",
        "print(torch.tensor([3.,4.,5.]).dtype)\n"
      ],
      "metadata": {
        "id": "EvI8uZhZY-Hn",
        "outputId": "21aa30a1-160f-45d5-afbd-6b3cda2603b1",
        "colab": {
          "base_uri": "https://localhost:8080/"
        }
      },
      "execution_count": null,
      "outputs": [
        {
          "output_type": "stream",
          "name": "stdout",
          "text": [
            "torch.int64\n",
            "torch.float32\n"
          ]
        }
      ]
    },
    {
      "cell_type": "code",
      "execution_count": null,
      "metadata": {
        "colab": {
          "base_uri": "https://localhost:8080/",
          "height": 233
        },
        "id": "c9qN1ZHy4HKh",
        "outputId": "8075ff66-bb35-4b2a-a04f-29b06404457b"
      },
      "outputs": [
        {
          "output_type": "stream",
          "name": "stdout",
          "text": [
            "(5, 3)\n",
            "(5,)\n"
          ]
        },
        {
          "output_type": "error",
          "ename": "ValueError",
          "evalue": "operands could not be broadcast together with shapes (5,3) (5,) ",
          "traceback": [
            "\u001b[0;31m---------------------------------------------------------------------------\u001b[0m",
            "\u001b[0;31mValueError\u001b[0m                                Traceback (most recent call last)",
            "\u001b[0;32m<ipython-input-257-13c215b1b2cb>\u001b[0m in \u001b[0;36m<cell line: 4>\u001b[0;34m()\u001b[0m\n\u001b[1;32m      2\u001b[0m \u001b[0mb\u001b[0m\u001b[0;34m=\u001b[0m \u001b[0mnp\u001b[0m\u001b[0;34m.\u001b[0m\u001b[0marray\u001b[0m\u001b[0;34m(\u001b[0m\u001b[0;34m[\u001b[0m\u001b[0;36m3\u001b[0m\u001b[0;34m,\u001b[0m\u001b[0;36m4\u001b[0m\u001b[0;34m,\u001b[0m\u001b[0;36m5\u001b[0m\u001b[0;34m,\u001b[0m\u001b[0;36m6\u001b[0m\u001b[0;34m,\u001b[0m\u001b[0;36m7\u001b[0m\u001b[0;34m]\u001b[0m\u001b[0;34m)\u001b[0m\u001b[0;34m\u001b[0m\u001b[0;34m\u001b[0m\u001b[0m\n\u001b[1;32m      3\u001b[0m \u001b[0mprint\u001b[0m\u001b[0;34m(\u001b[0m\u001b[0mb\u001b[0m\u001b[0;34m.\u001b[0m\u001b[0mshape\u001b[0m\u001b[0;34m)\u001b[0m\u001b[0;34m\u001b[0m\u001b[0;34m\u001b[0m\u001b[0m\n\u001b[0;32m----> 4\u001b[0;31m \u001b[0mc\u001b[0m \u001b[0;34m=\u001b[0m \u001b[0ma\u001b[0m\u001b[0;34m+\u001b[0m\u001b[0mb\u001b[0m\u001b[0;34m\u001b[0m\u001b[0;34m\u001b[0m\u001b[0m\n\u001b[0m\u001b[1;32m      5\u001b[0m \u001b[0mprint\u001b[0m\u001b[0;34m(\u001b[0m\u001b[0mc\u001b[0m\u001b[0;34m)\u001b[0m\u001b[0;34m\u001b[0m\u001b[0;34m\u001b[0m\u001b[0m\n",
            "\u001b[0;31mValueError\u001b[0m: operands could not be broadcast together with shapes (5,3) (5,) "
          ]
        }
      ],
      "source": [
        "print(a.shape)\n",
        "b= np.array([3,4,5,6,7])\n",
        "print(b.shape)\n",
        "c = a+b\n",
        "print(c)"
      ]
    },
    {
      "cell_type": "code",
      "source": [
        "a_tf = tf.constant(a,dtype=tf.float32)\n",
        "b_tf = tf.constant([3,4,5,6,7], dtype=tf.float32)\n",
        "print(b_tf.shape)\n",
        "c_tf = a_tf+b_tf\n",
        "print(c_tf)"
      ],
      "metadata": {
        "id": "M-LWXzxYZ2sV",
        "outputId": "91ff711e-e940-4fbf-f5a4-3cfd68fd2f19",
        "colab": {
          "base_uri": "https://localhost:8080/",
          "height": 382
        }
      },
      "execution_count": null,
      "outputs": [
        {
          "output_type": "stream",
          "name": "stdout",
          "text": [
            "(5,)\n"
          ]
        },
        {
          "output_type": "error",
          "ename": "InvalidArgumentError",
          "evalue": "{{function_node __wrapped__AddV2_device_/job:localhost/replica:0/task:0/device:CPU:0}} Incompatible shapes: [5,3] vs. [5] [Op:AddV2] name: ",
          "traceback": [
            "\u001b[0;31m---------------------------------------------------------------------------\u001b[0m",
            "\u001b[0;31mInvalidArgumentError\u001b[0m                      Traceback (most recent call last)",
            "\u001b[0;32m<ipython-input-262-dcd139efbf73>\u001b[0m in \u001b[0;36m<cell line: 4>\u001b[0;34m()\u001b[0m\n\u001b[1;32m      2\u001b[0m \u001b[0mb_tf\u001b[0m \u001b[0;34m=\u001b[0m \u001b[0mtf\u001b[0m\u001b[0;34m.\u001b[0m\u001b[0mconstant\u001b[0m\u001b[0;34m(\u001b[0m\u001b[0;34m[\u001b[0m\u001b[0;36m3\u001b[0m\u001b[0;34m,\u001b[0m\u001b[0;36m4\u001b[0m\u001b[0;34m,\u001b[0m\u001b[0;36m5\u001b[0m\u001b[0;34m,\u001b[0m\u001b[0;36m6\u001b[0m\u001b[0;34m,\u001b[0m\u001b[0;36m7\u001b[0m\u001b[0;34m]\u001b[0m\u001b[0;34m,\u001b[0m \u001b[0mdtype\u001b[0m\u001b[0;34m=\u001b[0m\u001b[0mtf\u001b[0m\u001b[0;34m.\u001b[0m\u001b[0mfloat32\u001b[0m\u001b[0;34m)\u001b[0m\u001b[0;34m\u001b[0m\u001b[0;34m\u001b[0m\u001b[0m\n\u001b[1;32m      3\u001b[0m \u001b[0mprint\u001b[0m\u001b[0;34m(\u001b[0m\u001b[0mb_tf\u001b[0m\u001b[0;34m.\u001b[0m\u001b[0mshape\u001b[0m\u001b[0;34m)\u001b[0m\u001b[0;34m\u001b[0m\u001b[0;34m\u001b[0m\u001b[0m\n\u001b[0;32m----> 4\u001b[0;31m \u001b[0mc_tf\u001b[0m \u001b[0;34m=\u001b[0m \u001b[0ma_tf\u001b[0m\u001b[0;34m+\u001b[0m\u001b[0mb_tf\u001b[0m\u001b[0;34m\u001b[0m\u001b[0;34m\u001b[0m\u001b[0m\n\u001b[0m\u001b[1;32m      5\u001b[0m \u001b[0mprint\u001b[0m\u001b[0;34m(\u001b[0m\u001b[0mc_tf\u001b[0m\u001b[0;34m)\u001b[0m\u001b[0;34m\u001b[0m\u001b[0;34m\u001b[0m\u001b[0m\n",
            "\u001b[0;32m/usr/local/lib/python3.10/dist-packages/tensorflow/python/util/traceback_utils.py\u001b[0m in \u001b[0;36merror_handler\u001b[0;34m(*args, **kwargs)\u001b[0m\n\u001b[1;32m    151\u001b[0m     \u001b[0;32mexcept\u001b[0m \u001b[0mException\u001b[0m \u001b[0;32mas\u001b[0m \u001b[0me\u001b[0m\u001b[0;34m:\u001b[0m\u001b[0;34m\u001b[0m\u001b[0;34m\u001b[0m\u001b[0m\n\u001b[1;32m    152\u001b[0m       \u001b[0mfiltered_tb\u001b[0m \u001b[0;34m=\u001b[0m \u001b[0m_process_traceback_frames\u001b[0m\u001b[0;34m(\u001b[0m\u001b[0me\u001b[0m\u001b[0;34m.\u001b[0m\u001b[0m__traceback__\u001b[0m\u001b[0;34m)\u001b[0m\u001b[0;34m\u001b[0m\u001b[0;34m\u001b[0m\u001b[0m\n\u001b[0;32m--> 153\u001b[0;31m       \u001b[0;32mraise\u001b[0m \u001b[0me\u001b[0m\u001b[0;34m.\u001b[0m\u001b[0mwith_traceback\u001b[0m\u001b[0;34m(\u001b[0m\u001b[0mfiltered_tb\u001b[0m\u001b[0;34m)\u001b[0m \u001b[0;32mfrom\u001b[0m \u001b[0;32mNone\u001b[0m\u001b[0;34m\u001b[0m\u001b[0;34m\u001b[0m\u001b[0m\n\u001b[0m\u001b[1;32m    154\u001b[0m     \u001b[0;32mfinally\u001b[0m\u001b[0;34m:\u001b[0m\u001b[0;34m\u001b[0m\u001b[0;34m\u001b[0m\u001b[0m\n\u001b[1;32m    155\u001b[0m       \u001b[0;32mdel\u001b[0m \u001b[0mfiltered_tb\u001b[0m\u001b[0;34m\u001b[0m\u001b[0;34m\u001b[0m\u001b[0m\n",
            "\u001b[0;32m/usr/local/lib/python3.10/dist-packages/tensorflow/python/framework/ops.py\u001b[0m in \u001b[0;36mraise_from_not_ok_status\u001b[0;34m(e, name)\u001b[0m\n\u001b[1;32m   5881\u001b[0m \u001b[0;32mdef\u001b[0m \u001b[0mraise_from_not_ok_status\u001b[0m\u001b[0;34m(\u001b[0m\u001b[0me\u001b[0m\u001b[0;34m,\u001b[0m \u001b[0mname\u001b[0m\u001b[0;34m)\u001b[0m \u001b[0;34m->\u001b[0m \u001b[0mNoReturn\u001b[0m\u001b[0;34m:\u001b[0m\u001b[0;34m\u001b[0m\u001b[0;34m\u001b[0m\u001b[0m\n\u001b[1;32m   5882\u001b[0m   \u001b[0me\u001b[0m\u001b[0;34m.\u001b[0m\u001b[0mmessage\u001b[0m \u001b[0;34m+=\u001b[0m \u001b[0;34m(\u001b[0m\u001b[0;34m\" name: \"\u001b[0m \u001b[0;34m+\u001b[0m \u001b[0mstr\u001b[0m\u001b[0;34m(\u001b[0m\u001b[0mname\u001b[0m \u001b[0;32mif\u001b[0m \u001b[0mname\u001b[0m \u001b[0;32mis\u001b[0m \u001b[0;32mnot\u001b[0m \u001b[0;32mNone\u001b[0m \u001b[0;32melse\u001b[0m \u001b[0;34m\"\"\u001b[0m\u001b[0;34m)\u001b[0m\u001b[0;34m)\u001b[0m\u001b[0;34m\u001b[0m\u001b[0;34m\u001b[0m\u001b[0m\n\u001b[0;32m-> 5883\u001b[0;31m   \u001b[0;32mraise\u001b[0m \u001b[0mcore\u001b[0m\u001b[0;34m.\u001b[0m\u001b[0m_status_to_exception\u001b[0m\u001b[0;34m(\u001b[0m\u001b[0me\u001b[0m\u001b[0;34m)\u001b[0m \u001b[0;32mfrom\u001b[0m \u001b[0;32mNone\u001b[0m  \u001b[0;31m# pylint: disable=protected-access\u001b[0m\u001b[0;34m\u001b[0m\u001b[0;34m\u001b[0m\u001b[0m\n\u001b[0m\u001b[1;32m   5884\u001b[0m \u001b[0;34m\u001b[0m\u001b[0m\n\u001b[1;32m   5885\u001b[0m \u001b[0;34m\u001b[0m\u001b[0m\n",
            "\u001b[0;31mInvalidArgumentError\u001b[0m: {{function_node __wrapped__AddV2_device_/job:localhost/replica:0/task:0/device:CPU:0}} Incompatible shapes: [5,3] vs. [5] [Op:AddV2] name: "
          ]
        }
      ]
    },
    {
      "cell_type": "code",
      "source": [
        "a_torch = torch.tensor(a)\n",
        "print(a_torch.shape)\n",
        "b_torch = torch.tensor([3,4,5,6,7])\n",
        "print(b_torch.shape)\n",
        "c_torch = a_torch+b_torch\n",
        "print(c_torch)"
      ],
      "metadata": {
        "id": "YQnoVfGnaNHL",
        "outputId": "84f22d1c-c610-446c-9390-f250e8cc6722",
        "colab": {
          "base_uri": "https://localhost:8080/",
          "height": 233
        }
      },
      "execution_count": null,
      "outputs": [
        {
          "output_type": "stream",
          "name": "stdout",
          "text": [
            "torch.Size([5, 3])\n",
            "torch.Size([5])\n"
          ]
        },
        {
          "output_type": "error",
          "ename": "RuntimeError",
          "evalue": "The size of tensor a (3) must match the size of tensor b (5) at non-singleton dimension 1",
          "traceback": [
            "\u001b[0;31m---------------------------------------------------------------------------\u001b[0m",
            "\u001b[0;31mRuntimeError\u001b[0m                              Traceback (most recent call last)",
            "\u001b[0;32m<ipython-input-264-af014a371f29>\u001b[0m in \u001b[0;36m<cell line: 5>\u001b[0;34m()\u001b[0m\n\u001b[1;32m      3\u001b[0m \u001b[0mb_torch\u001b[0m \u001b[0;34m=\u001b[0m \u001b[0mtorch\u001b[0m\u001b[0;34m.\u001b[0m\u001b[0mtensor\u001b[0m\u001b[0;34m(\u001b[0m\u001b[0;34m[\u001b[0m\u001b[0;36m3\u001b[0m\u001b[0;34m,\u001b[0m\u001b[0;36m4\u001b[0m\u001b[0;34m,\u001b[0m\u001b[0;36m5\u001b[0m\u001b[0;34m,\u001b[0m\u001b[0;36m6\u001b[0m\u001b[0;34m,\u001b[0m\u001b[0;36m7\u001b[0m\u001b[0;34m]\u001b[0m\u001b[0;34m)\u001b[0m\u001b[0;34m\u001b[0m\u001b[0;34m\u001b[0m\u001b[0m\n\u001b[1;32m      4\u001b[0m \u001b[0mprint\u001b[0m\u001b[0;34m(\u001b[0m\u001b[0mb_torch\u001b[0m\u001b[0;34m.\u001b[0m\u001b[0mshape\u001b[0m\u001b[0;34m)\u001b[0m\u001b[0;34m\u001b[0m\u001b[0;34m\u001b[0m\u001b[0m\n\u001b[0;32m----> 5\u001b[0;31m \u001b[0mc_torch\u001b[0m \u001b[0;34m=\u001b[0m \u001b[0ma_torch\u001b[0m\u001b[0;34m+\u001b[0m\u001b[0mb_torch\u001b[0m\u001b[0;34m\u001b[0m\u001b[0;34m\u001b[0m\u001b[0m\n\u001b[0m\u001b[1;32m      6\u001b[0m \u001b[0mprint\u001b[0m\u001b[0;34m(\u001b[0m\u001b[0mc_torch\u001b[0m\u001b[0;34m)\u001b[0m\u001b[0;34m\u001b[0m\u001b[0;34m\u001b[0m\u001b[0m\n",
            "\u001b[0;31mRuntimeError\u001b[0m: The size of tensor a (3) must match the size of tensor b (5) at non-singleton dimension 1"
          ]
        }
      ]
    },
    {
      "cell_type": "code",
      "execution_count": null,
      "metadata": {
        "colab": {
          "base_uri": "https://localhost:8080/"
        },
        "id": "dFlu3cRR4EHI",
        "outputId": "9899f9a0-9ad3-4f51-824a-4edfb631d76f"
      },
      "outputs": [
        {
          "output_type": "stream",
          "name": "stdout",
          "text": [
            "(5, 3)\n",
            "(5, 1)\n",
            "[[4. 4. 4.]\n",
            " [5. 5. 5.]\n",
            " [6. 6. 6.]\n",
            " [7. 7. 7.]\n",
            " [8. 8. 8.]]\n"
          ]
        }
      ],
      "source": [
        "b = np.array([3,4,5,6,7])\n",
        "b = b.reshape(5,1)\n",
        "c = a+b\n",
        "print(a.shape)\n",
        "print(b.shape)\n",
        "print(c)"
      ]
    },
    {
      "cell_type": "code",
      "source": [
        "b_tf = tf.constant([3,4,5,6,7], dtype=tf.float32)\n",
        "b_tf = tf.reshape(b_tf, shape=(5,1))\n",
        "print(b_tf.shape)\n",
        "c_tf = a_tf+b_tf\n",
        "print(c_tf)"
      ],
      "metadata": {
        "id": "oenAmtE8aeBV",
        "outputId": "b16359c8-694b-42f5-c533-86f4ce3eb9e0",
        "colab": {
          "base_uri": "https://localhost:8080/"
        }
      },
      "execution_count": null,
      "outputs": [
        {
          "output_type": "stream",
          "name": "stdout",
          "text": [
            "(5, 1)\n",
            "tf.Tensor(\n",
            "[[4. 4. 4.]\n",
            " [5. 5. 5.]\n",
            " [6. 6. 6.]\n",
            " [7. 7. 7.]\n",
            " [8. 8. 8.]], shape=(5, 3), dtype=float32)\n"
          ]
        }
      ]
    },
    {
      "cell_type": "code",
      "source": [
        "b_torch = torch.tensor([3,4,5,6,7])\n",
        "b_torch = b_torch.reshape(5,1)\n",
        "print(b_torch.shape)\n",
        "c_torch = a_torch+b_torch\n",
        "print(c_torch)"
      ],
      "metadata": {
        "id": "3fCUdRgFasGO",
        "outputId": "eeab0b90-8f37-4b71-e8e7-97ed3844e396",
        "colab": {
          "base_uri": "https://localhost:8080/"
        }
      },
      "execution_count": null,
      "outputs": [
        {
          "output_type": "stream",
          "name": "stdout",
          "text": [
            "torch.Size([5, 1])\n",
            "tensor([[4., 4., 4.],\n",
            "        [5., 5., 5.],\n",
            "        [6., 6., 6.],\n",
            "        [7., 7., 7.],\n",
            "        [8., 8., 8.]], dtype=torch.float64)\n"
          ]
        }
      ]
    }
  ],
  "metadata": {
    "colab": {
      "collapsed_sections": [
        "i5LVKihH-Any",
        "VW2kRHBk-qbO",
        "nE3FMUMF_CcD"
      ],
      "name": "DIP_Numpy01.ipynb",
      "provenance": [],
      "toc_visible": true,
      "include_colab_link": true
    },
    "kernelspec": {
      "display_name": "Python 3.10.4 ('dip2')",
      "language": "python",
      "name": "python3"
    },
    "language_info": {
      "codemirror_mode": {
        "name": "ipython",
        "version": 3
      },
      "file_extension": ".py",
      "mimetype": "text/x-python",
      "name": "python",
      "nbconvert_exporter": "python",
      "pygments_lexer": "ipython3",
      "version": "3.10.4"
    },
    "vscode": {
      "interpreter": {
        "hash": "f5e5e6631e046d224a10e5b86fa02048ebea2c7c5c229ff6c1afe7c9ae4877a9"
      }
    }
  },
  "nbformat": 4,
  "nbformat_minor": 0
}