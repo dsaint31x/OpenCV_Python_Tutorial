{
  "cells": [
    {
      "cell_type": "markdown",
      "metadata": {
        "id": "view-in-github",
        "colab_type": "text"
      },
      "source": [
        "<a href=\"https://colab.research.google.com/github/dsaint31x/OpenCV_Python_Tutorial/blob/master/DIP/DIP_Numpy01.ipynb\" target=\"_parent\"><img src=\"https://colab.research.google.com/assets/colab-badge.svg\" alt=\"Open In Colab\"/></a>"
      ]
    },
    {
      "cell_type": "code",
      "execution_count": 1,
      "metadata": {
        "id": "JQvWdgTqWn_Y"
      },
      "outputs": [],
      "source": [
        "import numpy as np\n",
        "import tensorflow as tf\n",
        "import torch"
      ]
    },
    {
      "cell_type": "code",
      "source": [
        "np.__version__"
      ],
      "metadata": {
        "id": "tdqR0rIcEcCI",
        "outputId": "cfba15d0-1db5-48d3-a421-2f9342912d4f",
        "colab": {
          "base_uri": "https://localhost:8080/",
          "height": 35
        }
      },
      "execution_count": 2,
      "outputs": [
        {
          "output_type": "execute_result",
          "data": {
            "text/plain": [
              "'1.25.2'"
            ],
            "application/vnd.google.colaboratory.intrinsic+json": {
              "type": "string"
            }
          },
          "metadata": {},
          "execution_count": 2
        }
      ]
    },
    {
      "cell_type": "code",
      "execution_count": 3,
      "metadata": {
        "colab": {
          "base_uri": "https://localhost:8080/",
          "height": 35
        },
        "id": "66gKJBS4n6Yo",
        "outputId": "79b7eed1-b411-4656-fa29-0e111c496937"
      },
      "outputs": [
        {
          "output_type": "execute_result",
          "data": {
            "text/plain": [
              "'2.15.0'"
            ],
            "application/vnd.google.colaboratory.intrinsic+json": {
              "type": "string"
            }
          },
          "metadata": {},
          "execution_count": 3
        }
      ],
      "source": [
        "tf.__version__"
      ]
    },
    {
      "cell_type": "code",
      "source": [
        "torch.__version__"
      ],
      "metadata": {
        "id": "YP-PvhQ9Eeng",
        "outputId": "489d84a2-da51-42dc-bff7-387a211a286d",
        "colab": {
          "base_uri": "https://localhost:8080/",
          "height": 35
        }
      },
      "execution_count": 4,
      "outputs": [
        {
          "output_type": "execute_result",
          "data": {
            "text/plain": [
              "'2.1.0+cu121'"
            ],
            "application/vnd.google.colaboratory.intrinsic+json": {
              "type": "string"
            }
          },
          "metadata": {},
          "execution_count": 4
        }
      ]
    },
    {
      "cell_type": "code",
      "source": [
        "import sys\n",
        "print(sys.version)"
      ],
      "metadata": {
        "colab": {
          "base_uri": "https://localhost:8080/"
        },
        "id": "_bA4mQ7JtgLn",
        "outputId": "9db105f8-3c1d-4602-950d-52f9fa81a5bf"
      },
      "execution_count": 5,
      "outputs": [
        {
          "output_type": "stream",
          "name": "stdout",
          "text": [
            "3.10.12 (main, Nov 20 2023, 15:14:05) [GCC 11.4.0]\n"
          ]
        }
      ]
    },
    {
      "cell_type": "markdown",
      "source": [
        "# libary 설치 여부 및 colab 동작 여부 확인"
      ],
      "metadata": {
        "id": "mscxI9z-FMca"
      }
    },
    {
      "cell_type": "code",
      "execution_count": 7,
      "metadata": {
        "colab": {
          "base_uri": "https://localhost:8080/"
        },
        "id": "WR-dTG6AtOvx",
        "outputId": "70581f99-9b07-4936-9b34-1665cee6bf08"
      },
      "outputs": [
        {
          "output_type": "stream",
          "name": "stdout",
          "text": [
            "google.colab module exists.\n",
            "torch module is located at /usr/local/lib/python3.10/dist-packages/torch/__init__.py.\n"
          ]
        }
      ],
      "source": [
        "import importlib\n",
        "# Check if a module exists\n",
        "try:\n",
        "  module_name = \"google.colab\"\n",
        "  if importlib.util.find_spec(module_name):\n",
        "    print(f\"{module_name} module exists.\")\n",
        "  else:\n",
        "    print(f\"{module_name} module does not exist.\")\n",
        "except ImportError:\n",
        "  print(f\"{module_name} module does not exist.\")\n",
        "\n",
        "# Check module location\n",
        "try:\n",
        "  module_spec = importlib.util.find_spec(\"torch\")\n",
        "  if module_spec:\n",
        "    print(f\"{module_spec.name} module is located at {module_spec.origin}.\")\n",
        "except ImportError:\n",
        "  print(f\"{module_name} module does not exist.\")\n"
      ]
    },
    {
      "cell_type": "code",
      "source": [
        "try:\n",
        "    metadata = importlib.metadata.PackagePath(module_name)\n",
        "    print(f\"{module_name} 패키지가 존재합니다.\")\n",
        "    print(f\"패키지 이름: {metadata.name}\")\n",
        "    print(f\"패키지 버전: {metadata.locate}\")\n",
        "    print(f\"패키지 버전: {importlib.metadata.version(module_name)}\")\n",
        "\n",
        "except importlib.metadata.PackageNotFoundError:\n",
        "    print(f\"{module_name} 패키지가 존재하지 않습니다.\")"
      ],
      "metadata": {
        "colab": {
          "base_uri": "https://localhost:8080/"
        },
        "id": "y811262btdMg",
        "outputId": "97172ede-0cd8-4a29-a2e9-fa5a028fbf44"
      },
      "execution_count": 8,
      "outputs": [
        {
          "output_type": "stream",
          "name": "stdout",
          "text": [
            "google.colab 패키지가 존재합니다.\n",
            "패키지 이름: google.colab\n",
            "패키지 버전: <bound method PackagePath.locate of PackagePath('google.colab')>\n",
            "패키지 버전: 1.0.0\n"
          ]
        }
      ]
    },
    {
      "cell_type": "markdown",
      "source": [
        "# Tensor 생성하기\n"
      ],
      "metadata": {
        "id": "vF5-Nco_FWLx"
      }
    },
    {
      "cell_type": "markdown",
      "metadata": {
        "id": "9qKKSyet4KwN"
      },
      "source": [
        "`np.array ( list [,dtype])`\n",
        "\n",
        "* list 나 tuple 등으로 `ndarray` 생성.\n",
        "* `dtype` : data type of element.\n",
        "   * `float64` : default type in the numpy.\n",
        "   * `uint8` : unsigned int (8bit), the most commonly used for image processing\n",
        "   * `int8` : signed int (8bit)\n",
        "   * `floast32` : float (32bit)"
      ]
    },
    {
      "cell_type": "code",
      "execution_count": 14,
      "metadata": {
        "colab": {
          "base_uri": "https://localhost:8080/"
        },
        "id": "iHJMa0O24JgA",
        "outputId": "39b78a1e-0568-4277-a21e-423bc6da581c"
      },
      "outputs": [
        {
          "output_type": "stream",
          "name": "stdout",
          "text": [
            "<class 'tuple'>\n",
            "<class 'numpy.ndarray'>\n"
          ]
        }
      ],
      "source": [
        "t = (1,2,3,4,5,6)\n",
        "a = np.array(t)\n",
        "print(type(t))\n",
        "print(type(a))"
      ]
    },
    {
      "cell_type": "code",
      "execution_count": 15,
      "metadata": {
        "colab": {
          "base_uri": "https://localhost:8080/"
        },
        "id": "qMsjg-b0ZLcJ",
        "outputId": "8adab3ac-5fba-4ebb-8f6a-7324d536a0b5"
      },
      "outputs": [
        {
          "output_type": "stream",
          "name": "stdout",
          "text": [
            "1\n",
            "(6,)\n",
            "8\n",
            "6\n",
            "int64\n"
          ]
        }
      ],
      "source": [
        "print(a.ndim)\n",
        "print(a.shape)\n",
        "print(a.itemsize) #bytes\n",
        "print(a.size)\n",
        "print(a.dtype)"
      ]
    },
    {
      "cell_type": "code",
      "source": [
        "a = np.array([1.,2.,3.])\n",
        "print(a.dtype)\n",
        "a = np.array([1.,2.,3.], dtype=int)\n",
        "print(a.dtype)\n",
        "a = np.array([1.,2.,3.], dtype=float)\n",
        "print(a.dtype)"
      ],
      "metadata": {
        "id": "ZlNK8HqcLsMg",
        "outputId": "cf42176f-364b-409e-c563-e8ee81c8f0ed",
        "colab": {
          "base_uri": "https://localhost:8080/"
        }
      },
      "execution_count": 82,
      "outputs": [
        {
          "output_type": "stream",
          "name": "stdout",
          "text": [
            "float64\n",
            "int64\n",
            "float64\n"
          ]
        }
      ]
    },
    {
      "cell_type": "markdown",
      "source": [
        "tensorflow에서의 tensor 생성하기."
      ],
      "metadata": {
        "id": "ILLGQs-4FhUH"
      }
    },
    {
      "cell_type": "code",
      "execution_count": 13,
      "metadata": {
        "colab": {
          "base_uri": "https://localhost:8080/"
        },
        "id": "vkb26J3zZgJT",
        "outputId": "ddd20660-6725-4789-fe15-81e7d4e69121"
      },
      "outputs": [
        {
          "output_type": "stream",
          "name": "stdout",
          "text": [
            "tf.Tensor(1, shape=(), dtype=int32)\n",
            "1\n",
            "(6,)\n",
            "<dtype: 'int64'>\n"
          ]
        },
        {
          "output_type": "execute_result",
          "data": {
            "text/plain": [
              "<tf.Tensor: shape=(6,), dtype=int64, numpy=array([1, 2, 3, 4, 5, 6])>"
            ]
          },
          "metadata": {},
          "execution_count": 13
        }
      ],
      "source": [
        "tensor = tf.constant(a)\n",
        "print(tf.rank(tensor))\n",
        "print(tensor.ndim)\n",
        "print(tensor.shape)\n",
        "# print(tensor.itemsize)  #error. not supported\n",
        "# print(tensor.size)      #error. not supported\n",
        "print(tensor.dtype)\n",
        "tensor"
      ]
    },
    {
      "cell_type": "markdown",
      "source": [
        "pytorch에서의 tensor 생성하기"
      ],
      "metadata": {
        "id": "SzJC0ypCGGWo"
      }
    },
    {
      "cell_type": "code",
      "source": [
        "p = torch.tensor(a)\n",
        "print(p.ndim)\n",
        "print(p.shape)\n",
        "print(p.itemsize)\n",
        "print(p.size())    # not attribute but method\n",
        "print(p.dtype)\n"
      ],
      "metadata": {
        "id": "SKZTWDQgGJnq",
        "outputId": "e36c4291-6633-427c-c2ba-2c6028a9c087",
        "colab": {
          "base_uri": "https://localhost:8080/"
        }
      },
      "execution_count": 20,
      "outputs": [
        {
          "output_type": "stream",
          "name": "stdout",
          "text": [
            "1\n",
            "torch.Size([6])\n",
            "8\n",
            "torch.Size([6])\n",
            "torch.int64\n"
          ]
        }
      ]
    },
    {
      "cell_type": "markdown",
      "source": [
        "## multidimensioinal array!"
      ],
      "metadata": {
        "id": "rKDlOaNZG5Lb"
      }
    },
    {
      "cell_type": "code",
      "source": [
        "# nested lists result in multi-dimensional arrays\n",
        "a = np.array([range(i, i + 3) for i in [2, 4, 6]])\n",
        "print(a.ndim)\n",
        "print(a.shape)\n",
        "print(a.itemsize) #bytes\n",
        "print(a.size)\n",
        "print(a.dtype)\n",
        "a"
      ],
      "metadata": {
        "id": "Uc_6HIXwG-mo",
        "outputId": "162685f8-242f-4c16-f3cd-66c643c4780d",
        "colab": {
          "base_uri": "https://localhost:8080/"
        }
      },
      "execution_count": 24,
      "outputs": [
        {
          "output_type": "stream",
          "name": "stdout",
          "text": [
            "2\n",
            "(3, 3)\n",
            "8\n",
            "9\n",
            "int64\n"
          ]
        },
        {
          "output_type": "execute_result",
          "data": {
            "text/plain": [
              "array([[2, 3, 4],\n",
              "       [4, 5, 6],\n",
              "       [6, 7, 8]])"
            ]
          },
          "metadata": {},
          "execution_count": 24
        }
      ]
    },
    {
      "cell_type": "code",
      "source": [
        "tensor = tf.constant(a)\n",
        "print(tf.rank(tensor))\n",
        "print(tensor.ndim)\n",
        "# print(tensor.itemsize)  #error. not supported\n",
        "# print(tensor.size)      #error. not supported\n",
        "print(tensor.dtype)\n",
        "tensor"
      ],
      "metadata": {
        "id": "OfZLoDqPHJFU",
        "outputId": "a1e11f01-a1af-4623-d55b-0d65df9188bc",
        "colab": {
          "base_uri": "https://localhost:8080/"
        }
      },
      "execution_count": 28,
      "outputs": [
        {
          "output_type": "stream",
          "name": "stdout",
          "text": [
            "tf.Tensor(2, shape=(), dtype=int32)\n",
            "2\n",
            "<dtype: 'int64'>\n"
          ]
        },
        {
          "output_type": "execute_result",
          "data": {
            "text/plain": [
              "<tf.Tensor: shape=(3, 3), dtype=int64, numpy=\n",
              "array([[2, 3, 4],\n",
              "       [4, 5, 6],\n",
              "       [6, 7, 8]])>"
            ]
          },
          "metadata": {},
          "execution_count": 28
        }
      ]
    },
    {
      "cell_type": "code",
      "source": [
        "p = torch.tensor(a)\n",
        "print(p.ndim)\n",
        "print(p.shape)\n",
        "print(p.itemsize)\n",
        "print(p.size())    # not attribute but method\n",
        "print(p.dtype)\n",
        "p"
      ],
      "metadata": {
        "id": "h9vMry92Hb5K",
        "outputId": "11a3aa1f-e7fe-4813-c1dd-6da2fb77f9a5",
        "colab": {
          "base_uri": "https://localhost:8080/"
        }
      },
      "execution_count": 30,
      "outputs": [
        {
          "output_type": "stream",
          "name": "stdout",
          "text": [
            "2\n",
            "torch.Size([3, 3])\n",
            "8\n",
            "torch.Size([3, 3])\n",
            "torch.int64\n"
          ]
        },
        {
          "output_type": "execute_result",
          "data": {
            "text/plain": [
              "tensor([[2, 3, 4],\n",
              "        [4, 5, 6],\n",
              "        [6, 7, 8]])"
            ]
          },
          "metadata": {},
          "execution_count": 30
        }
      ]
    },
    {
      "cell_type": "markdown",
      "metadata": {
        "id": "T90fDRMl5jB3"
      },
      "source": [
        "# tensor를 특정 값으로 초기화하기\n",
        "\n",
        "`zeros`,`ones`, and `full` (or `fill`)"
      ]
    },
    {
      "cell_type": "code",
      "execution_count": 40,
      "metadata": {
        "colab": {
          "base_uri": "https://localhost:8080/"
        },
        "id": "Ziw_tUUW5ue_",
        "outputId": "f618839b-9a26-4f39-d73a-d5abdcb49811"
      },
      "outputs": [
        {
          "output_type": "stream",
          "name": "stdout",
          "text": [
            "float64\n"
          ]
        },
        {
          "output_type": "execute_result",
          "data": {
            "text/plain": [
              "array([[0., 0.],\n",
              "       [0., 0.],\n",
              "       [0., 0.]])"
            ]
          },
          "metadata": {},
          "execution_count": 40
        }
      ],
      "source": [
        "a = np.zeros((3,2)) # default dtype = float64\n",
        "# a = np.zeros(shape=(4,4),dtype=np.uint8)\n",
        "print(a.dtype)\n",
        "a"
      ]
    },
    {
      "cell_type": "code",
      "execution_count": 42,
      "metadata": {
        "colab": {
          "base_uri": "https://localhost:8080/"
        },
        "id": "Ap3hCnBtaMWd",
        "outputId": "90680a14-f1ba-4238-8c9d-a20722b86848"
      },
      "outputs": [
        {
          "output_type": "stream",
          "name": "stdout",
          "text": [
            "<dtype: 'float32'>\n"
          ]
        },
        {
          "output_type": "execute_result",
          "data": {
            "text/plain": [
              "<tf.Tensor: shape=(3, 2), dtype=float32, numpy=\n",
              "array([[0., 0.],\n",
              "       [0., 0.],\n",
              "       [0., 0.]], dtype=float32)>"
            ]
          },
          "metadata": {},
          "execution_count": 42
        }
      ],
      "source": [
        "a_tf = tf.zeros(shape=(3,2)) #default dtype = float32\n",
        "print(a_tf.dtype)\n",
        "a_tf\n",
        "# a_tf.numpy()"
      ]
    },
    {
      "cell_type": "code",
      "source": [
        "a_tf.numpy() # 다시 numpy array로"
      ],
      "metadata": {
        "id": "SATyAQUIH1TI",
        "outputId": "5e5800a2-9b4b-4dd3-8f89-0651f3632cfd",
        "colab": {
          "base_uri": "https://localhost:8080/"
        }
      },
      "execution_count": 43,
      "outputs": [
        {
          "output_type": "execute_result",
          "data": {
            "text/plain": [
              "array([[0., 0.],\n",
              "       [0., 0.],\n",
              "       [0., 0.]], dtype=float32)"
            ]
          },
          "metadata": {},
          "execution_count": 43
        }
      ]
    },
    {
      "cell_type": "code",
      "source": [
        "p = torch.zeros(size=(3,2)) # shape 대신에 size\n",
        "print(p.dtype)\n",
        "p"
      ],
      "metadata": {
        "id": "i6uImkjLIeVl",
        "outputId": "68b30983-3601-47ab-d347-c77654b474fb",
        "colab": {
          "base_uri": "https://localhost:8080/"
        }
      },
      "execution_count": 47,
      "outputs": [
        {
          "output_type": "stream",
          "name": "stdout",
          "text": [
            "torch.float32\n"
          ]
        },
        {
          "output_type": "execute_result",
          "data": {
            "text/plain": [
              "tensor([[0., 0.],\n",
              "        [0., 0.],\n",
              "        [0., 0.]])"
            ]
          },
          "metadata": {},
          "execution_count": 47
        }
      ]
    },
    {
      "cell_type": "code",
      "execution_count": 48,
      "metadata": {
        "colab": {
          "base_uri": "https://localhost:8080/"
        },
        "id": "WkHyv-r651mK",
        "outputId": "e3efe4c9-9d92-4400-f7b0-8b1cf8de8136"
      },
      "outputs": [
        {
          "output_type": "stream",
          "name": "stdout",
          "text": [
            "float64\n"
          ]
        },
        {
          "output_type": "execute_result",
          "data": {
            "text/plain": [
              "array([[[1., 1., 1.],\n",
              "        [1., 1., 1.]],\n",
              "\n",
              "       [[1., 1., 1.],\n",
              "        [1., 1., 1.]],\n",
              "\n",
              "       [[1., 1., 1.],\n",
              "        [1., 1., 1.]],\n",
              "\n",
              "       [[1., 1., 1.],\n",
              "        [1., 1., 1.]]])"
            ]
          },
          "metadata": {},
          "execution_count": 48
        }
      ],
      "source": [
        "a = np.ones((4,2,3))\n",
        "print(a.dtype)\n",
        "a"
      ]
    },
    {
      "cell_type": "code",
      "execution_count": 51,
      "metadata": {
        "colab": {
          "base_uri": "https://localhost:8080/"
        },
        "id": "37CAi5vUamY9",
        "outputId": "86695456-09e2-4f0d-adc5-4992b65a95c5"
      },
      "outputs": [
        {
          "output_type": "stream",
          "name": "stdout",
          "text": [
            "<dtype: 'float32'>\n"
          ]
        },
        {
          "output_type": "execute_result",
          "data": {
            "text/plain": [
              "<tf.Tensor: shape=(4, 2, 3), dtype=float32, numpy=\n",
              "array([[[1., 1., 1.],\n",
              "        [1., 1., 1.]],\n",
              "\n",
              "       [[1., 1., 1.],\n",
              "        [1., 1., 1.]],\n",
              "\n",
              "       [[1., 1., 1.],\n",
              "        [1., 1., 1.]],\n",
              "\n",
              "       [[1., 1., 1.],\n",
              "        [1., 1., 1.]]], dtype=float32)>"
            ]
          },
          "metadata": {},
          "execution_count": 51
        }
      ],
      "source": [
        "a_tf = tf.ones(shape=(4,2,3))\n",
        "# a_tf = tf.ones((4,2), dtype=tf.int64)\n",
        "print(a_tf.dtype)\n",
        "a_tf"
      ]
    },
    {
      "cell_type": "code",
      "source": [
        "p = torch.ones(size=(4,2,3))\n",
        "print(p.dtype)\n",
        "p"
      ],
      "metadata": {
        "id": "QU-Bfdj_JHBP",
        "outputId": "4dfcacea-bbb1-4537-ce34-6085d471fde0",
        "colab": {
          "base_uri": "https://localhost:8080/"
        }
      },
      "execution_count": 52,
      "outputs": [
        {
          "output_type": "stream",
          "name": "stdout",
          "text": [
            "torch.float32\n"
          ]
        },
        {
          "output_type": "execute_result",
          "data": {
            "text/plain": [
              "tensor([[[1., 1., 1.],\n",
              "         [1., 1., 1.]],\n",
              "\n",
              "        [[1., 1., 1.],\n",
              "         [1., 1., 1.]],\n",
              "\n",
              "        [[1., 1., 1.],\n",
              "         [1., 1., 1.]],\n",
              "\n",
              "        [[1., 1., 1.],\n",
              "         [1., 1., 1.]]])"
            ]
          },
          "metadata": {},
          "execution_count": 52
        }
      ]
    },
    {
      "cell_type": "code",
      "execution_count": 53,
      "metadata": {
        "colab": {
          "base_uri": "https://localhost:8080/"
        },
        "id": "prC3HMm355l9",
        "outputId": "8aec718c-4823-4012-e2c7-f7e21a58fe58"
      },
      "outputs": [
        {
          "output_type": "stream",
          "name": "stdout",
          "text": [
            "int64\n"
          ]
        },
        {
          "output_type": "execute_result",
          "data": {
            "text/plain": [
              "array([[255, 255, 255]])"
            ]
          },
          "metadata": {},
          "execution_count": 53
        }
      ],
      "source": [
        "a = np.full((1,3),255)\n",
        "print(a.dtype)\n",
        "a"
      ]
    },
    {
      "cell_type": "code",
      "execution_count": 60,
      "metadata": {
        "colab": {
          "base_uri": "https://localhost:8080/"
        },
        "id": "nJhwZ89uayMB",
        "outputId": "83e11a26-f921-4230-94fc-c0b8f8e4fa21"
      },
      "outputs": [
        {
          "output_type": "stream",
          "name": "stdout",
          "text": [
            "<dtype: 'int32'>\n"
          ]
        },
        {
          "output_type": "execute_result",
          "data": {
            "text/plain": [
              "<tf.Tensor: shape=(1, 3), dtype=int32, numpy=array([[255, 255, 255]], dtype=int32)>"
            ]
          },
          "metadata": {},
          "execution_count": 60
        }
      ],
      "source": [
        "a_tf = tf.fill((1,3),255) # not full, but fill\n",
        "print(a_tf.dtype) # default int32\n",
        "a_tf"
      ]
    },
    {
      "cell_type": "code",
      "source": [
        "p = torch.full((1,3),255)\n",
        "print(p.dtype)\n",
        "p"
      ],
      "metadata": {
        "id": "M5w2PdbqJS32",
        "outputId": "1d4e420d-4732-4c24-8ad5-38b61ee66a26",
        "colab": {
          "base_uri": "https://localhost:8080/"
        }
      },
      "execution_count": 61,
      "outputs": [
        {
          "output_type": "stream",
          "name": "stdout",
          "text": [
            "torch.int64\n"
          ]
        },
        {
          "output_type": "execute_result",
          "data": {
            "text/plain": [
              "tensor([[255, 255, 255]])"
            ]
          },
          "metadata": {},
          "execution_count": 61
        }
      ]
    },
    {
      "cell_type": "markdown",
      "metadata": {
        "id": "rg1LU7jH5IGB"
      },
      "source": [
        "# 기존의 `ndarray` 와 같은 shape를 가지는 `ndarray`생성\n",
        "\n",
        "`zeros_like`, `ones_like`, and `full_like`"
      ]
    },
    {
      "cell_type": "code",
      "execution_count": 63,
      "metadata": {
        "colab": {
          "base_uri": "https://localhost:8080/"
        },
        "id": "L4ag0LTM5_sJ",
        "outputId": "d9330c6a-e517-48a7-bfa5-6cd87428f0c9"
      },
      "outputs": [
        {
          "output_type": "stream",
          "name": "stdout",
          "text": [
            "(2, 3) int64\n",
            "(2, 3) int64\n"
          ]
        },
        {
          "output_type": "execute_result",
          "data": {
            "text/plain": [
              "array([[0, 0, 0],\n",
              "       [0, 0, 0]])"
            ]
          },
          "metadata": {},
          "execution_count": 63
        }
      ],
      "source": [
        "s = np.array([[1,2,3],[4,5,6]])\n",
        "print(s.shape, a.dtype)\n",
        "\n",
        "a = np.zeros_like(s)\n",
        "print(a.shape, a.dtype)\n",
        "a"
      ]
    },
    {
      "cell_type": "code",
      "execution_count": 65,
      "metadata": {
        "colab": {
          "base_uri": "https://localhost:8080/"
        },
        "id": "Evk1B89u6QgA",
        "outputId": "a103d276-4cbe-4990-e43e-10e362a97ee7"
      },
      "outputs": [
        {
          "output_type": "stream",
          "name": "stdout",
          "text": [
            "(2, 3) int64\n"
          ]
        },
        {
          "output_type": "execute_result",
          "data": {
            "text/plain": [
              "array([[1, 1, 1],\n",
              "       [1, 1, 1]])"
            ]
          },
          "metadata": {},
          "execution_count": 65
        }
      ],
      "source": [
        "a = np.ones_like(s)\n",
        "print(a.shape, a.dtype)\n",
        "a"
      ]
    },
    {
      "cell_type": "code",
      "execution_count": 66,
      "metadata": {
        "colab": {
          "base_uri": "https://localhost:8080/"
        },
        "id": "3KbDRVns6WwS",
        "outputId": "0bc41dad-8691-4f72-cab2-8c8abafd7175"
      },
      "outputs": [
        {
          "output_type": "stream",
          "name": "stdout",
          "text": [
            "int64\n"
          ]
        },
        {
          "output_type": "execute_result",
          "data": {
            "text/plain": [
              "array([[3, 3, 3],\n",
              "       [3, 3, 3]])"
            ]
          },
          "metadata": {},
          "execution_count": 66
        }
      ],
      "source": [
        "a = np.full_like(s,3.0)\n",
        "print(a.dtype)\n",
        "a"
      ]
    },
    {
      "cell_type": "code",
      "source": [
        "s = tf.constant([[1,2,3],[4,5,6]])\n",
        "print(s.shape, s.dtype)\n",
        "\n",
        "a = tf.zeros_like(s)\n",
        "print(a.shape, a.dtype)\n",
        "a"
      ],
      "metadata": {
        "id": "TIAqCP9XKZXN",
        "outputId": "e56ced99-d26f-40b8-8ac1-b19afde32e80",
        "colab": {
          "base_uri": "https://localhost:8080/"
        }
      },
      "execution_count": 75,
      "outputs": [
        {
          "output_type": "stream",
          "name": "stdout",
          "text": [
            "(2, 3) <dtype: 'int32'>\n",
            "(2, 3) <dtype: 'int32'>\n"
          ]
        },
        {
          "output_type": "execute_result",
          "data": {
            "text/plain": [
              "<tf.Tensor: shape=(2, 3), dtype=int32, numpy=\n",
              "array([[0, 0, 0],\n",
              "       [0, 0, 0]], dtype=int32)>"
            ]
          },
          "metadata": {},
          "execution_count": 75
        }
      ]
    },
    {
      "cell_type": "code",
      "source": [
        "a = tf.ones_like(s)\n",
        "print(a.shape, a.dtype)\n",
        "a"
      ],
      "metadata": {
        "id": "gdreJD_jKgsV",
        "outputId": "e6127684-a6a6-4a88-8df1-66d60500e0be",
        "colab": {
          "base_uri": "https://localhost:8080/"
        }
      },
      "execution_count": 76,
      "outputs": [
        {
          "output_type": "stream",
          "name": "stdout",
          "text": [
            "(2, 3) <dtype: 'int32'>\n"
          ]
        },
        {
          "output_type": "execute_result",
          "data": {
            "text/plain": [
              "<tf.Tensor: shape=(2, 3), dtype=int32, numpy=\n",
              "array([[1, 1, 1],\n",
              "       [1, 1, 1]], dtype=int32)>"
            ]
          },
          "metadata": {},
          "execution_count": 76
        }
      ]
    },
    {
      "cell_type": "code",
      "source": [
        "a = tf.fill(s.shape,3.0) # there is not fill_like\n",
        "print(a.dtype)\n",
        "a"
      ],
      "metadata": {
        "id": "DRVGefvWKlkD",
        "outputId": "a8000d98-f7b7-440f-92d5-f24a87027743",
        "colab": {
          "base_uri": "https://localhost:8080/"
        }
      },
      "execution_count": 77,
      "outputs": [
        {
          "output_type": "stream",
          "name": "stdout",
          "text": [
            "<dtype: 'float32'>\n"
          ]
        },
        {
          "output_type": "execute_result",
          "data": {
            "text/plain": [
              "<tf.Tensor: shape=(2, 3), dtype=float32, numpy=\n",
              "array([[3., 3., 3.],\n",
              "       [3., 3., 3.]], dtype=float32)>"
            ]
          },
          "metadata": {},
          "execution_count": 77
        }
      ]
    },
    {
      "cell_type": "code",
      "source": [
        "s = torch.tensor([[1,2,3],[4,5,6]])\n",
        "print(s.shape, s.dtype)\n",
        "\n",
        "a = torch.zeros_like(s)\n",
        "print(a.shape, a.dtype)\n",
        "a"
      ],
      "metadata": {
        "id": "XXzxG_FBLBg5",
        "outputId": "a3766a5a-1053-4de5-b56c-07c442a37498",
        "colab": {
          "base_uri": "https://localhost:8080/"
        }
      },
      "execution_count": 78,
      "outputs": [
        {
          "output_type": "stream",
          "name": "stdout",
          "text": [
            "torch.Size([2, 3]) torch.int64\n",
            "torch.Size([2, 3]) torch.int64\n"
          ]
        },
        {
          "output_type": "execute_result",
          "data": {
            "text/plain": [
              "tensor([[0, 0, 0],\n",
              "        [0, 0, 0]])"
            ]
          },
          "metadata": {},
          "execution_count": 78
        }
      ]
    },
    {
      "cell_type": "code",
      "source": [
        "a = torch.ones_like(s)\n",
        "print(a.shape, a.dtype)\n",
        "a"
      ],
      "metadata": {
        "id": "i2G2eE9ALTTa",
        "outputId": "19bbc3ef-292d-4756-d35b-fb15feb38920",
        "colab": {
          "base_uri": "https://localhost:8080/"
        }
      },
      "execution_count": 79,
      "outputs": [
        {
          "output_type": "stream",
          "name": "stdout",
          "text": [
            "torch.Size([2, 3]) torch.int64\n"
          ]
        },
        {
          "output_type": "execute_result",
          "data": {
            "text/plain": [
              "tensor([[1, 1, 1],\n",
              "        [1, 1, 1]])"
            ]
          },
          "metadata": {},
          "execution_count": 79
        }
      ]
    },
    {
      "cell_type": "code",
      "source": [
        "a = torch.full_like(s,3.0)\n",
        "print(a.dtype)\n",
        "a"
      ],
      "metadata": {
        "id": "hg1JXI8xLWns",
        "outputId": "a4872058-9904-4556-86fd-a78dc5d87922",
        "colab": {
          "base_uri": "https://localhost:8080/"
        }
      },
      "execution_count": 80,
      "outputs": [
        {
          "output_type": "stream",
          "name": "stdout",
          "text": [
            "torch.int64\n"
          ]
        },
        {
          "output_type": "execute_result",
          "data": {
            "text/plain": [
              "tensor([[3, 3, 3],\n",
              "        [3, 3, 3]])"
            ]
          },
          "metadata": {},
          "execution_count": 80
        }
      ]
    },
    {
      "cell_type": "markdown",
      "metadata": {
        "id": "G74cZ8N0GZRs"
      },
      "source": [
        "# indexing & slicing on Tensor\n",
        "\n",
        "tensor의 element에 접근하는 것은\n",
        "\n",
        "* indexing을 통해 하나하나에 접근하고,\n",
        "* slicing을 통해 특정 영역의 element에 접근 가능함.\n",
        "\n",
        "\n",
        "> `list` 등의 python의 fundamental type들과의 차이는  \n",
        "> slicing의 경우에 numpy는 원본을 가리키고 있어서 slicing 을 통한 새 값을 설정은  \n",
        "> 실제로 원본이 수정되게 됨. (주의 필요.)"
      ]
    },
    {
      "cell_type": "markdown",
      "source": [
        "### indexing"
      ],
      "metadata": {
        "id": "SWcyWCFMQhIR"
      }
    },
    {
      "cell_type": "code",
      "execution_count": 132,
      "metadata": {
        "colab": {
          "base_uri": "https://localhost:8080/"
        },
        "id": "7L33cIoPHFzZ",
        "outputId": "4d11c710-84e7-43c9-d03b-ed378d738c6a"
      },
      "outputs": [
        {
          "output_type": "stream",
          "name": "stdout",
          "text": [
            "int64\n"
          ]
        },
        {
          "output_type": "execute_result",
          "data": {
            "text/plain": [
              "array([[ 0,  1,  2,  3],\n",
              "       [ 4,  5,  6,  7],\n",
              "       [ 8,  9, 10, 11]])"
            ]
          },
          "metadata": {},
          "execution_count": 132
        }
      ],
      "source": [
        "A = np.arange(0,12).reshape(3,4)\n",
        "print(A.dtype)\n",
        "A"
      ]
    },
    {
      "cell_type": "code",
      "execution_count": 169,
      "metadata": {
        "colab": {
          "base_uri": "https://localhost:8080/"
        },
        "id": "RYJZ9uXfbkl-",
        "outputId": "d21fa21c-9089-4a35-f215-6719e3a0c2c0"
      },
      "outputs": [
        {
          "output_type": "stream",
          "name": "stdout",
          "text": [
            "<dtype: 'int32'>\n"
          ]
        },
        {
          "output_type": "execute_result",
          "data": {
            "text/plain": [
              "<tf.Variable 'Variable:0' shape=(3, 4) dtype=int32, numpy=\n",
              "array([[ 0,  1,  2,  3],\n",
              "       [ 4,  5,  6,  7],\n",
              "       [ 8,  9, 10, 11]], dtype=int32)>"
            ]
          },
          "metadata": {},
          "execution_count": 169
        }
      ],
      "source": [
        "# A_tf = tf.constant(tf.range(0,12),shape=(3,4))\n",
        "A_tf = tf.Variable(np.arange(0,12).reshape(3,4), dtype=tf.int32)\n",
        "print(A_tf.dtype)\n",
        "A_tf"
      ]
    },
    {
      "cell_type": "code",
      "source": [
        "A_torch = torch.tensor(torch.arange(0,12).reshape(3,4))\n",
        "print(A_torch.dtype)\n",
        "A_torch"
      ],
      "metadata": {
        "id": "gf1ln77dMff6",
        "outputId": "da2502b7-74da-439b-b73a-d18c9b346b18",
        "colab": {
          "base_uri": "https://localhost:8080/"
        }
      },
      "execution_count": 155,
      "outputs": [
        {
          "output_type": "stream",
          "name": "stdout",
          "text": [
            "torch.int64\n"
          ]
        },
        {
          "output_type": "stream",
          "name": "stderr",
          "text": [
            "<ipython-input-155-5e1d184cde73>:1: UserWarning: To copy construct from a tensor, it is recommended to use sourceTensor.clone().detach() or sourceTensor.clone().detach().requires_grad_(True), rather than torch.tensor(sourceTensor).\n",
            "  A_torch = torch.tensor(torch.arange(0,12).reshape(3,4))\n"
          ]
        },
        {
          "output_type": "execute_result",
          "data": {
            "text/plain": [
              "tensor([[ 0,  1,  2,  3],\n",
              "        [ 4,  5,  6,  7],\n",
              "        [ 8,  9, 10, 11]])"
            ]
          },
          "metadata": {},
          "execution_count": 155
        }
      ]
    },
    {
      "cell_type": "code",
      "execution_count": 156,
      "metadata": {
        "colab": {
          "base_uri": "https://localhost:8080/"
        },
        "id": "gQHQpAusHTz4",
        "outputId": "9e1047e4-97da-4fec-bd5e-796f69eb54f5"
      },
      "outputs": [
        {
          "output_type": "stream",
          "name": "stdout",
          "text": [
            "[[   0    1    2    3]\n",
            " [   4 2331 2331    7]\n",
            " [   8 2331 2331   11]]\n",
            "A[0] is \"[0 1 2 3]\"\n",
            "A[0,2] is \"2\"\n",
            "A[0][2] is \"2\"\n"
          ]
        }
      ],
      "source": [
        "print(A)\n",
        "print(f'A[0] is \"{A[0]}\"')\n",
        "print(f'A[0,2] is \"{A[0,2]}\"')\n",
        "print(f'A[0][2] is \"{A[0][2]}\"')"
      ]
    },
    {
      "cell_type": "code",
      "execution_count": 157,
      "metadata": {
        "colab": {
          "base_uri": "https://localhost:8080/"
        },
        "id": "6KrRSSU3ut2w",
        "outputId": "98cc0dd6-95f6-456e-894f-c981914bcfaa"
      },
      "outputs": [
        {
          "output_type": "execute_result",
          "data": {
            "text/plain": [
              "2331"
            ]
          },
          "metadata": {},
          "execution_count": 157
        }
      ],
      "source": [
        "A[2,2]"
      ]
    },
    {
      "cell_type": "code",
      "execution_count": 158,
      "metadata": {
        "colab": {
          "base_uri": "https://localhost:8080/"
        },
        "id": "eHl_Vun7wawq",
        "outputId": "daa1321a-7b03-4c13-ffbc-cdd22177da4f"
      },
      "outputs": [
        {
          "output_type": "execute_result",
          "data": {
            "text/plain": [
              "array([[   0,    1,    2,    3],\n",
              "       [   4, 2331, 2331,    7],\n",
              "       [   8, 2331,   77,   11]])"
            ]
          },
          "metadata": {},
          "execution_count": 158
        }
      ],
      "source": [
        "A[2,2] = 77\n",
        "A"
      ]
    },
    {
      "cell_type": "code",
      "execution_count": 159,
      "metadata": {
        "colab": {
          "base_uri": "https://localhost:8080/"
        },
        "id": "duiFaLnYcFvY",
        "outputId": "106aa8b5-66e8-4de6-8b96-e9896744b983"
      },
      "outputs": [
        {
          "output_type": "execute_result",
          "data": {
            "text/plain": [
              "<tf.Tensor: shape=(), dtype=int32, numpy=2>"
            ]
          },
          "metadata": {},
          "execution_count": 159
        }
      ],
      "source": [
        "A_tf[0,2] # scalar 이므로 shape가 비워짐. 단, type는 여전히 tensor임."
      ]
    },
    {
      "cell_type": "code",
      "source": [
        "print(A_tf)\n",
        "print(f'A_tf[0] is \"{A_tf[0]}\"')\n",
        "print(f'A_tf[0,2] is \"{A_tf[0,2]}\"')\n",
        "print(f'A_tf[0][2] is \"{A_tf[0][2]}\"')"
      ],
      "metadata": {
        "id": "QTA6FIkKNPfa",
        "outputId": "4f9ed962-895e-426d-e311-9cbced06449b",
        "colab": {
          "base_uri": "https://localhost:8080/"
        }
      },
      "execution_count": 160,
      "outputs": [
        {
          "output_type": "stream",
          "name": "stdout",
          "text": [
            "<tf.Variable 'Variable:0' shape=(3, 4) dtype=int32, numpy=\n",
            "array([[ 0,  1,  2,  3],\n",
            "       [ 4,  5,  6,  7],\n",
            "       [ 8,  9, 10, 11]], dtype=int32)>\n",
            "A_tf[0] is \"[0 1 2 3]\"\n",
            "A_tf[0,2] is \"2\"\n",
            "A_tf[0][2] is \"2\"\n"
          ]
        }
      ]
    },
    {
      "cell_type": "code",
      "source": [
        "A_tf[2,2] = 77 #not working both case.\n",
        "# A_tf[2,2].assign(77) # only working for Variable\n",
        "A_tf"
      ],
      "metadata": {
        "id": "ttWqDs-BNXSp",
        "outputId": "696ae3a1-0a54-4f99-9564-8f7b402e0352",
        "colab": {
          "base_uri": "https://localhost:8080/",
          "height": 180
        }
      },
      "execution_count": 161,
      "outputs": [
        {
          "output_type": "error",
          "ename": "TypeError",
          "evalue": "'ResourceVariable' object does not support item assignment",
          "traceback": [
            "\u001b[0;31m---------------------------------------------------------------------------\u001b[0m",
            "\u001b[0;31mTypeError\u001b[0m                                 Traceback (most recent call last)",
            "\u001b[0;32m<ipython-input-161-6127703da54b>\u001b[0m in \u001b[0;36m<cell line: 1>\u001b[0;34m()\u001b[0m\n\u001b[0;32m----> 1\u001b[0;31m \u001b[0mA_tf\u001b[0m\u001b[0;34m[\u001b[0m\u001b[0;36m2\u001b[0m\u001b[0;34m,\u001b[0m\u001b[0;36m2\u001b[0m\u001b[0;34m]\u001b[0m \u001b[0;34m=\u001b[0m \u001b[0;36m77\u001b[0m \u001b[0;31m#not working both case.\u001b[0m\u001b[0;34m\u001b[0m\u001b[0;34m\u001b[0m\u001b[0m\n\u001b[0m\u001b[1;32m      2\u001b[0m \u001b[0;31m# A_tf[2,2].assign(77) # only working for Variable\u001b[0m\u001b[0;34m\u001b[0m\u001b[0;34m\u001b[0m\u001b[0m\n\u001b[1;32m      3\u001b[0m \u001b[0mA_tf\u001b[0m\u001b[0;34m\u001b[0m\u001b[0;34m\u001b[0m\u001b[0m\n",
            "\u001b[0;31mTypeError\u001b[0m: 'ResourceVariable' object does not support item assignment"
          ]
        }
      ]
    },
    {
      "cell_type": "markdown",
      "source": [
        "constant로 얻을 경우, immutable임.\n",
        "(Vairable을 이용하면 다음을 통해 변경가능하나 이는 weight등으로 더 많이 사용됨.)\n",
        "\n",
        "element-wise변경을 다음과 같이 우회하여 수행할 수는 있으나 권장하지 않음."
      ],
      "metadata": {
        "id": "cNjhsxfvOaS1"
      }
    },
    {
      "cell_type": "code",
      "source": [
        "# 변경하고 싶은 위치와 값을 정의\n",
        "indices = tf.constant([[2, 2]]) # (2, 2) 위치를 변경하고자 함\n",
        "updates = tf.constant([77]) # 해당 위치에 넣고 싶은 값\n",
        "\n",
        "# 업데이트 적용\n",
        "A_tf = tf.tensor_scatter_nd_update(A_tf, indices, updates)\n",
        "A_tf"
      ],
      "metadata": {
        "id": "ls37gANWON49",
        "outputId": "883ee6e7-205e-42e8-e46f-b151ca929e00",
        "colab": {
          "base_uri": "https://localhost:8080/"
        }
      },
      "execution_count": 162,
      "outputs": [
        {
          "output_type": "execute_result",
          "data": {
            "text/plain": [
              "<tf.Tensor: shape=(3, 4), dtype=int32, numpy=\n",
              "array([[ 0,  1,  2,  3],\n",
              "       [ 4,  5,  6,  7],\n",
              "       [ 8,  9, 77, 11]], dtype=int32)>"
            ]
          },
          "metadata": {},
          "execution_count": 162
        }
      ]
    },
    {
      "cell_type": "code",
      "source": [
        "print(A_torch)\n",
        "print(f'A[0] is \"{A_torch[0]}\"')\n",
        "print(f'A[0,2] is \"{A_torch[0,2]}\"')\n",
        "print(f'A[0][2] is \"{A_torch[0][2]}\"')"
      ],
      "metadata": {
        "id": "tGzZwX11QF5O",
        "outputId": "cb4172c5-e683-4008-ce12-bb28598d9bd2",
        "colab": {
          "base_uri": "https://localhost:8080/"
        }
      },
      "execution_count": 163,
      "outputs": [
        {
          "output_type": "stream",
          "name": "stdout",
          "text": [
            "tensor([[ 0,  1,  2,  3],\n",
            "        [ 4,  5,  6,  7],\n",
            "        [ 8,  9, 10, 11]])\n",
            "A[0] is \"tensor([0, 1, 2, 3])\"\n",
            "A[0,2] is \"2\"\n",
            "A[0][2] is \"2\"\n"
          ]
        }
      ]
    },
    {
      "cell_type": "code",
      "source": [
        "A_torch[2,2] = 77\n",
        "A_torch"
      ],
      "metadata": {
        "id": "axI1so6oQRMc",
        "outputId": "d7fdc5c7-f952-4013-d83a-87cd33702a25",
        "colab": {
          "base_uri": "https://localhost:8080/"
        }
      },
      "execution_count": 164,
      "outputs": [
        {
          "output_type": "execute_result",
          "data": {
            "text/plain": [
              "tensor([[ 0,  1,  2,  3],\n",
              "        [ 4,  5,  6,  7],\n",
              "        [ 8,  9, 77, 11]])"
            ]
          },
          "metadata": {},
          "execution_count": 164
        }
      ]
    },
    {
      "cell_type": "markdown",
      "source": [
        "### slicing"
      ],
      "metadata": {
        "id": "LP1SYw8wQbzA"
      }
    },
    {
      "cell_type": "code",
      "execution_count": 165,
      "metadata": {
        "colab": {
          "base_uri": "https://localhost:8080/"
        },
        "id": "tZeRYWUoH1wF",
        "outputId": "39d9343b-6fee-442a-d7ed-58c87d7afddf"
      },
      "outputs": [
        {
          "output_type": "stream",
          "name": "stdout",
          "text": [
            "[[   0    1    2    3]\n",
            " [   4 2331 2331    7]\n",
            " [   8 2331   77   11]]\n",
            "A[1,2:] is \"[2331    7]\"\n",
            "A[1,::2] is \"[   4 2331]\"\n",
            "A[1,::-2] is \"[   7 2331]\"\n",
            "A[1,::-1] is \"[   7 2331 2331    4]\"\n",
            "A[1,3:0:-1] is \"[   7 2331 2331]\"\n"
          ]
        }
      ],
      "source": [
        "print(A)\n",
        "print(f'A[1,2:] is \"{A[1,2:]}\"')\n",
        "print(f'A[1,::2] is \"{A[1,::2]}\"')\n",
        "print(f'A[1,::-2] is \"{A[1,::-2]}\"')\n",
        "print(f'A[1,::-1] is \"{A[1,::-1]}\"')\n",
        "print(f'A[1,3:0:-1] is \"{A[1,3:0:-1]}\"')"
      ]
    },
    {
      "cell_type": "code",
      "execution_count": 166,
      "metadata": {
        "colab": {
          "base_uri": "https://localhost:8080/"
        },
        "id": "7fAa6FFqIjiY",
        "outputId": "5ffd0217-bf50-4ac5-9d21-e9b072c5a5f1"
      },
      "outputs": [
        {
          "output_type": "stream",
          "name": "stdout",
          "text": [
            "[[   0    1    2    3]\n",
            " [   4 2331 2331    7]\n",
            " [   8 2331   77   11]]\n"
          ]
        },
        {
          "output_type": "execute_result",
          "data": {
            "text/plain": [
              "array([[   0,    1,    2,    3],\n",
              "       [   4, 6993, 6993,    7],\n",
              "       [   8, 6993,  231,   11]])"
            ]
          },
          "metadata": {},
          "execution_count": 166
        }
      ],
      "source": [
        "print(A)\n",
        "A[1:3,1:3] = 3*A[1:3,1:3]\n",
        "A"
      ]
    },
    {
      "cell_type": "code",
      "execution_count": 167,
      "metadata": {
        "colab": {
          "base_uri": "https://localhost:8080/"
        },
        "id": "ZsC__RZzItTM",
        "outputId": "760ded1e-355d-4d6f-ca7e-df252c2e968d"
      },
      "outputs": [
        {
          "output_type": "execute_result",
          "data": {
            "text/plain": [
              "array([[  0,   1,   2,   3],\n",
              "       [  4, 777, 777,   7],\n",
              "       [  8, 777, 777,  11]])"
            ]
          },
          "metadata": {},
          "execution_count": 167
        }
      ],
      "source": [
        "A[1:3,1:3] = 777\n",
        "A"
      ]
    },
    {
      "cell_type": "code",
      "source": [
        "print(A_tf)\n",
        "print(f'A_tf[1,2:] is \"{A_tf[1,2:]}\"')\n",
        "print(f'A_tf[1,::2] is \"{A_tf[1,::2]}\"')\n",
        "print(f'A_tf[1,::-2] is \"{A_tf[1,::-2]}\"')\n",
        "print(f'A_tf[1,::-1] is \"{A_tf[1,::-1]}\"')\n",
        "print(f'A_tf[1,3:0:-1] is \"{A_tf[1,3:0:-1]}\"')"
      ],
      "metadata": {
        "id": "rHK0N5nNRQif",
        "outputId": "d65ab014-bb52-42b8-bdd0-cacb13fcd26d",
        "colab": {
          "base_uri": "https://localhost:8080/"
        }
      },
      "execution_count": 170,
      "outputs": [
        {
          "output_type": "stream",
          "name": "stdout",
          "text": [
            "<tf.Variable 'Variable:0' shape=(3, 4) dtype=int32, numpy=\n",
            "array([[ 0,  1,  2,  3],\n",
            "       [ 4,  5,  6,  7],\n",
            "       [ 8,  9, 10, 11]], dtype=int32)>\n",
            "A_tf[1,2:] is \"[6 7]\"\n",
            "A_tf[1,::2] is \"[4 6]\"\n",
            "A_tf[1,::-2] is \"[7 5]\"\n",
            "A_tf[1,::-1] is \"[7 6 5 4]\"\n",
            "A_tf[1,3:0:-1] is \"[7 6 5]\"\n"
          ]
        }
      ]
    },
    {
      "cell_type": "code",
      "source": [
        "# tf.Tensor인 경우엔 동작 안함. tf.Variabel이어야만 동작.\n",
        "print(A_tf)\n",
        "A_tf[1:3,1:3].assign(3*A_tf[1:3,1:3])\n",
        "A_tf"
      ],
      "metadata": {
        "id": "fU1CBWOARdlG",
        "outputId": "179c5cc4-480f-4ebd-c51e-73c1e7b244da",
        "colab": {
          "base_uri": "https://localhost:8080/"
        }
      },
      "execution_count": 172,
      "outputs": [
        {
          "output_type": "stream",
          "name": "stdout",
          "text": [
            "<tf.Variable 'Variable:0' shape=(3, 4) dtype=int32, numpy=\n",
            "array([[ 0,  1,  2,  3],\n",
            "       [ 4, 15, 18,  7],\n",
            "       [ 8, 27, 30, 11]], dtype=int32)>\n"
          ]
        },
        {
          "output_type": "execute_result",
          "data": {
            "text/plain": [
              "<tf.Variable 'Variable:0' shape=(3, 4) dtype=int32, numpy=\n",
              "array([[ 0,  1,  2,  3],\n",
              "       [ 4, 45, 54,  7],\n",
              "       [ 8, 81, 90, 11]], dtype=int32)>"
            ]
          },
          "metadata": {},
          "execution_count": 172
        }
      ]
    },
    {
      "cell_type": "code",
      "source": [
        "print(A_torch)\n",
        "print(f'A[1,2:] is \"{A_torch[1,2:]}\"')\n",
        "print(f'A[1,::2] is \"{A_torch[1,::2]}\"')\n",
        "# print(f'A[1,::-2] is \"{A_torch[1,::-2]}\"') # not working. positive step 만 지원.\n",
        "# print(f'A[1,::-1] is \"{A_torch[1,::-1]}\"') # not working. positive step 만 지원.\n",
        "# print(f'A[1,3:0:-1] is \"{A_torch[1,3:0:-1]}\"') # not working. positive step 만 지원."
      ],
      "metadata": {
        "id": "dAEklvcEQweP",
        "outputId": "c3e4e5df-fc97-4289-b518-ec9e0b3ea2af",
        "colab": {
          "base_uri": "https://localhost:8080/"
        }
      },
      "execution_count": 150,
      "outputs": [
        {
          "output_type": "stream",
          "name": "stdout",
          "text": [
            "tensor([[ 0,  1,  2,  3],\n",
            "        [ 4,  5,  6,  7],\n",
            "        [ 8,  9, 77, 11]])\n",
            "A[1,2:] is \"tensor([6, 7])\"\n",
            "A[1,::2] is \"tensor([4, 6])\"\n"
          ]
        }
      ]
    },
    {
      "cell_type": "code",
      "source": [
        "print(A_torch)\n",
        "A_torch[1:3,1:3] = 3*A_torch[1:3,1:3]\n",
        "A_torch"
      ],
      "metadata": {
        "id": "taI9uB6CTMc7",
        "outputId": "6097b167-a4b8-450d-cf2f-6ad6be1f2b24",
        "colab": {
          "base_uri": "https://localhost:8080/"
        }
      },
      "execution_count": 173,
      "outputs": [
        {
          "output_type": "stream",
          "name": "stdout",
          "text": [
            "tensor([[ 0,  1,  2,  3],\n",
            "        [ 4,  5,  6,  7],\n",
            "        [ 8,  9, 77, 11]])\n"
          ]
        },
        {
          "output_type": "execute_result",
          "data": {
            "text/plain": [
              "tensor([[  0,   1,   2,   3],\n",
              "        [  4,  15,  18,   7],\n",
              "        [  8,  27, 231,  11]])"
            ]
          },
          "metadata": {},
          "execution_count": 173
        }
      ]
    },
    {
      "cell_type": "markdown",
      "metadata": {
        "id": "OSd5xM3x6V_A"
      },
      "source": [
        "# 난수로 구성된 tensor 생성.\n",
        "\n",
        "`np.random.rand([d0 [,d1 [ ..., dn])` : 0~1사이의 수들이 균일한 확률로 선택되어 반환됨.\n",
        "* d0 , ... , dn : 난수로 구성된 ndarray의 shape를 지정하는 데 사용됨.\n",
        "\n",
        "`np.random.randn([d0 [,d1 [ ..., dn])` : $\\mu=0, \\sigma=1$ 인 정규 분포를 따르는 난수 반환.\n"
      ]
    },
    {
      "cell_type": "code",
      "execution_count": 174,
      "metadata": {
        "colab": {
          "base_uri": "https://localhost:8080/"
        },
        "id": "d7oxzXhO7r8r",
        "outputId": "9b9892fe-a9d5-4fee-9281-592fa1d6fcd5"
      },
      "outputs": [
        {
          "output_type": "stream",
          "name": "stdout",
          "text": [
            "float64\n"
          ]
        },
        {
          "output_type": "execute_result",
          "data": {
            "text/plain": [
              "array([[0.55619745, 0.9362871 , 0.33799696, 0.39472012],\n",
              "       [0.82031192, 0.69608604, 0.40966956, 0.06170825],\n",
              "       [0.11522117, 0.70339389, 0.56129158, 0.73486521]])"
            ]
          },
          "metadata": {},
          "execution_count": 174
        }
      ],
      "source": [
        "A = np.random.rand(3,4)\n",
        "print(A.dtype)\n",
        "A"
      ]
    },
    {
      "cell_type": "code",
      "execution_count": 175,
      "metadata": {
        "colab": {
          "base_uri": "https://localhost:8080/"
        },
        "id": "aOqMiEsScnS9",
        "outputId": "85430b58-08c9-49de-d207-cae347b121e6"
      },
      "outputs": [
        {
          "output_type": "execute_result",
          "data": {
            "text/plain": [
              "<tf.Tensor: shape=(3, 4), dtype=float32, numpy=\n",
              "array([[0.10395992, 0.13512301, 0.675423  , 0.73898494],\n",
              "       [0.17457092, 0.12481904, 0.29854405, 0.5158491 ],\n",
              "       [0.6113448 , 0.76401436, 0.9410037 , 0.9026034 ]], dtype=float32)>"
            ]
          },
          "metadata": {},
          "execution_count": 175
        }
      ],
      "source": [
        "A_tf = tf.random.uniform(shape=(3,4), minval=0., maxval=1. )\n",
        "A_tf"
      ]
    },
    {
      "cell_type": "code",
      "source": [
        "A_torch = torch.rand(3,4)\n",
        "print(A_torch.dtype)\n",
        "A_torch"
      ],
      "metadata": {
        "id": "sgByl2BwTgmb",
        "outputId": "df631bb0-8705-47d1-d94e-17ccecae2dc1",
        "colab": {
          "base_uri": "https://localhost:8080/"
        }
      },
      "execution_count": 176,
      "outputs": [
        {
          "output_type": "stream",
          "name": "stdout",
          "text": [
            "torch.float32\n"
          ]
        },
        {
          "output_type": "execute_result",
          "data": {
            "text/plain": [
              "tensor([[0.1202, 0.3394, 0.0531, 0.8130],\n",
              "        [0.6775, 0.9403, 0.5948, 0.0434],\n",
              "        [0.9893, 0.3047, 0.9056, 0.2802]])"
            ]
          },
          "metadata": {},
          "execution_count": 176
        }
      ]
    },
    {
      "cell_type": "code",
      "execution_count": 180,
      "metadata": {
        "colab": {
          "base_uri": "https://localhost:8080/"
        },
        "id": "fbjSFZVO7x56",
        "outputId": "e748a587-f233-41b8-bfe6-ff21880acc34"
      },
      "outputs": [
        {
          "output_type": "stream",
          "name": "stdout",
          "text": [
            "(3, 4)\n",
            "0.39099669668992715 0.6554725578252034\n"
          ]
        },
        {
          "output_type": "execute_result",
          "data": {
            "text/plain": [
              "array([[ 1.18800173, -0.43367139,  0.24757554,  0.04129676],\n",
              "       [ 1.20047533, -0.18213944, -0.54281844,  1.07107274],\n",
              "       [ 0.01876162,  1.05964493, -0.10636181,  1.1301228 ]])"
            ]
          },
          "metadata": {},
          "execution_count": 180
        }
      ],
      "source": [
        "A = np.random.randn(3,4) #normal distribution of which parameters are mean and standard deviation.\n",
        "print(A.shape)\n",
        "print(np.mean(A),np.std(A))\n",
        "A"
      ]
    },
    {
      "cell_type": "code",
      "execution_count": 189,
      "metadata": {
        "colab": {
          "base_uri": "https://localhost:8080/"
        },
        "id": "QJGIx8J0dfUW",
        "outputId": "6c1bc172-76cf-4157-eefb-56305988a196"
      },
      "outputs": [
        {
          "output_type": "stream",
          "name": "stdout",
          "text": [
            "(3, 4)\n",
            "tf.Tensor(-0.17028458, shape=(), dtype=float32) tf.Tensor(0.8427512, shape=(), dtype=float32)\n"
          ]
        },
        {
          "output_type": "execute_result",
          "data": {
            "text/plain": [
              "<tf.Tensor: shape=(3, 4), dtype=float32, numpy=\n",
              "array([[ 0.54476297,  0.6720979 , -0.10333953,  1.2041633 ],\n",
              "       [-1.4025258 , -0.37399337, -0.72326237, -0.1586897 ],\n",
              "       [-0.94473696, -0.26886743,  0.9641891 , -1.453213  ]],\n",
              "      dtype=float32)>"
            ]
          },
          "metadata": {},
          "execution_count": 189
        }
      ],
      "source": [
        "A_tf = tf.random.normal(shape=(3,4),mean=0., stddev=1.0)\n",
        "print(A_tf.shape)\n",
        "print(tf.math.reduce_mean(A_tf),tf.math.reduce_std(A_tf))\n",
        "A_tf"
      ]
    },
    {
      "cell_type": "code",
      "source": [
        "A_torch = torch.randn(3,4)\n",
        "print(A_torch.dtype)\n",
        "print(torch.mean(A_torch),torch.std(A_torch))\n",
        "A_torch"
      ],
      "metadata": {
        "id": "V0AonTtMT5_-",
        "outputId": "140831c4-a76a-4b8a-8418-bee6b7e292e5",
        "colab": {
          "base_uri": "https://localhost:8080/"
        }
      },
      "execution_count": 190,
      "outputs": [
        {
          "output_type": "stream",
          "name": "stdout",
          "text": [
            "torch.float32\n",
            "tensor(0.0983) tensor(1.2766)\n"
          ]
        },
        {
          "output_type": "execute_result",
          "data": {
            "text/plain": [
              "tensor([[-1.3746, -0.9917,  0.5398,  1.8088],\n",
              "        [ 0.7293, -0.2223,  2.2469, -1.3297],\n",
              "        [ 0.9531,  0.1218,  0.4540, -1.7552]])"
            ]
          },
          "metadata": {},
          "execution_count": 190
        }
      ]
    },
    {
      "cell_type": "markdown",
      "metadata": {
        "id": "M28jZA4u77ly"
      },
      "source": [
        "# `ndarray`의 `dtype` 변경\n",
        "\n",
        "`ndarray.astype(dtype)` : method. argument로 넘겨진 `dtype`로 해당 `ndarray`의 타입 변경한 `ndarray`반환\n",
        "\n",
        "`np.uint8(ndarray)` : argument로 넘겨진 `ndarray`를 `uint8`로 변경한 새로운 `ndarray`반환\n",
        "\n",
        "..."
      ]
    },
    {
      "cell_type": "code",
      "execution_count": 199,
      "metadata": {
        "colab": {
          "base_uri": "https://localhost:8080/"
        },
        "id": "kk380h0j8f3k",
        "outputId": "56bb6a08-6d42-4ee5-e5a4-94ed006bf4fd"
      },
      "outputs": [
        {
          "output_type": "stream",
          "name": "stdout",
          "text": [
            "[[0.09534736 0.66783188 0.915219   0.59254139]\n",
            " [0.91257107 0.77378827 0.29427021 0.32932464]\n",
            " [0.06842186 0.30456165 0.18985772 0.39975827]]\n"
          ]
        },
        {
          "output_type": "execute_result",
          "data": {
            "text/plain": [
              "dtype('float64')"
            ]
          },
          "metadata": {},
          "execution_count": 199
        }
      ],
      "source": [
        "a = np.random.rand(3,4)\n",
        "print(a)\n",
        "a.dtype"
      ]
    },
    {
      "cell_type": "code",
      "execution_count": 200,
      "metadata": {
        "colab": {
          "base_uri": "https://localhost:8080/"
        },
        "id": "UgSxTJS18kqy",
        "outputId": "3edfc273-4da4-418a-c4ff-5fcb21beee22"
      },
      "outputs": [
        {
          "output_type": "stream",
          "name": "stdout",
          "text": [
            "float32\n",
            "[[0.09534736 0.6678319  0.915219   0.5925414 ]\n",
            " [0.9125711  0.7737883  0.29427022 0.32932463]\n",
            " [0.06842186 0.30456164 0.18985772 0.39975828]]\n",
            "132036868971696\n",
            "132036868435536\n"
          ]
        }
      ],
      "source": [
        "c = a.astype('float32')\n",
        "print(c.dtype)\n",
        "print(c)\n",
        "print(id(a))\n",
        "print(id(c))"
      ]
    },
    {
      "cell_type": "code",
      "execution_count": 203,
      "metadata": {
        "colab": {
          "base_uri": "https://localhost:8080/"
        },
        "id": "K7kTPOMe0P8F",
        "outputId": "1a3aad10-6dd3-4093-ed7b-7550cde17b06"
      },
      "outputs": [
        {
          "output_type": "execute_result",
          "data": {
            "text/plain": [
              "array([[0.09534736, 0.66783188, 0.915219  , 0.59254139],\n",
              "       [0.91257107, 0.77378827, 0.29427021, 0.32932464],\n",
              "       [0.06842186, 0.30456165, 0.18985772, 0.39975827]], dtype=float128)"
            ]
          },
          "metadata": {},
          "execution_count": 203
        }
      ],
      "source": [
        "a.astype(np.float128)"
      ]
    },
    {
      "cell_type": "code",
      "source": [
        "c = np.uint8(a)\n",
        "print(c.dtype)\n",
        "c"
      ],
      "metadata": {
        "id": "cx1CWQbIVzXT",
        "outputId": "1f407633-c4f4-4a2a-deba-f9b65c77a71e",
        "colab": {
          "base_uri": "https://localhost:8080/"
        }
      },
      "execution_count": 213,
      "outputs": [
        {
          "output_type": "stream",
          "name": "stdout",
          "text": [
            "uint8\n"
          ]
        },
        {
          "output_type": "execute_result",
          "data": {
            "text/plain": [
              "array([[0, 0, 0, 0],\n",
              "       [0, 0, 0, 0],\n",
              "       [0, 0, 0, 0]], dtype=uint8)"
            ]
          },
          "metadata": {},
          "execution_count": 213
        }
      ]
    },
    {
      "cell_type": "code",
      "execution_count": 214,
      "metadata": {
        "colab": {
          "base_uri": "https://localhost:8080/"
        },
        "id": "hMHn9U2u80Z3",
        "outputId": "71c96ed0-ba93-40fe-f15a-8fd3880862c4"
      },
      "outputs": [
        {
          "output_type": "stream",
          "name": "stdout",
          "text": [
            "uint8\n",
            "132036868971696\n",
            "132036868978320\n"
          ]
        }
      ],
      "source": [
        "c = np.uint8(a)\n",
        "print(c.dtype)\n",
        "c\n",
        "print(id(a))\n",
        "print(id(c))"
      ]
    },
    {
      "cell_type": "code",
      "execution_count": 215,
      "metadata": {
        "colab": {
          "base_uri": "https://localhost:8080/"
        },
        "id": "ECJ8eGrAekrN",
        "outputId": "c2cebfda-05cf-4a5f-fdc6-9a155c33626f"
      },
      "outputs": [
        {
          "output_type": "stream",
          "name": "stdout",
          "text": [
            "float64\n",
            "uint64\n"
          ]
        },
        {
          "output_type": "execute_result",
          "data": {
            "text/plain": [
              "array([[0, 0, 0, 0],\n",
              "       [0, 0, 0, 0],\n",
              "       [0, 0, 0, 0]], dtype=uint64)"
            ]
          },
          "metadata": {},
          "execution_count": 215
        }
      ],
      "source": [
        "c = np.uint64(a)\n",
        "print(a.dtype)\n",
        "c\n",
        "print(c.dtype)\n",
        "c"
      ]
    },
    {
      "cell_type": "code",
      "execution_count": 216,
      "metadata": {
        "colab": {
          "base_uri": "https://localhost:8080/"
        },
        "id": "XE9F8gd2eFhj",
        "outputId": "500d6bce-8a5b-4320-87a8-07f4afff4f96"
      },
      "outputs": [
        {
          "output_type": "stream",
          "name": "stdout",
          "text": [
            "<dtype: 'float32'>\n",
            "<dtype: 'float64'>\n"
          ]
        },
        {
          "output_type": "execute_result",
          "data": {
            "text/plain": [
              "<tf.Tensor: shape=(3, 4), dtype=float64, numpy=\n",
              "array([[0.01880193, 0.63733196, 0.73878753, 0.25101542],\n",
              "       [0.91525412, 0.20290542, 0.47685742, 0.0522362 ],\n",
              "       [0.94263017, 0.59937084, 0.9394747 , 0.44684017]])>"
            ]
          },
          "metadata": {},
          "execution_count": 216
        }
      ],
      "source": [
        "a_tf = tf.random.uniform(shape=(3,4))\n",
        "print(a_tf.dtype)\n",
        "c_tf = tf.dtypes.cast(a_tf,tf.float64)\n",
        "print(c_tf.dtype)\n",
        "c_tf"
      ]
    },
    {
      "cell_type": "code",
      "source": [
        "a_torch = torch.rand(3,4)\n",
        "print(a_torch.dtype)\n",
        "c_torch = a_torch.type(torch.float64)\n",
        "print(c_torch.dtype)\n",
        "c_torch"
      ],
      "metadata": {
        "id": "6Xe3gPprWChO",
        "outputId": "7faf4095-f77c-4cab-8cff-b20c33d3d342",
        "colab": {
          "base_uri": "https://localhost:8080/"
        }
      },
      "execution_count": 217,
      "outputs": [
        {
          "output_type": "stream",
          "name": "stdout",
          "text": [
            "torch.float32\n",
            "torch.float64\n"
          ]
        },
        {
          "output_type": "execute_result",
          "data": {
            "text/plain": [
              "tensor([[0.2952, 0.1054, 0.8847, 0.8385],\n",
              "        [0.2666, 0.7666, 0.4178, 0.6523],\n",
              "        [0.7849, 0.5596, 0.3672, 0.0792]], dtype=torch.float64)"
            ]
          },
          "metadata": {},
          "execution_count": 217
        }
      ]
    },
    {
      "cell_type": "markdown",
      "metadata": {
        "id": "-0sz_0EO9Jru"
      },
      "source": [
        "# `shape`변경\n",
        "\n",
        "`ndarray.reshape(new_shape)`"
      ]
    },
    {
      "cell_type": "code",
      "execution_count": 218,
      "metadata": {
        "colab": {
          "base_uri": "https://localhost:8080/"
        },
        "id": "ICg0CAS6W0qd",
        "outputId": "0334f85d-16e3-42eb-b164-4eef699d0d58"
      },
      "outputs": [
        {
          "output_type": "stream",
          "name": "stdout",
          "text": [
            "[0 1 2 3] (4,)\n",
            "[777 777   2   3]\n",
            "[[777 777]\n",
            " [  2   3]]\n"
          ]
        }
      ],
      "source": [
        "v = np.arange(4)\n",
        "print(v,v.shape)\n",
        "a = v.reshape(2,2)\n",
        "a\n",
        "a[0]=777\n",
        "print(v)\n",
        "print(a)"
      ]
    },
    {
      "cell_type": "code",
      "execution_count": 219,
      "metadata": {
        "colab": {
          "base_uri": "https://localhost:8080/"
        },
        "id": "Vm0n4k_qW6Ej",
        "outputId": "78360d36-6486-4485-8d0c-46e71a4e2fc1"
      },
      "outputs": [
        {
          "output_type": "execute_result",
          "data": {
            "text/plain": [
              "array([[10, 11],\n",
              "       [12, 13]])"
            ]
          },
          "metadata": {},
          "execution_count": 219
        }
      ],
      "source": [
        "b= np.arange(10,14).reshape(2,2)\n",
        "b"
      ]
    },
    {
      "cell_type": "code",
      "execution_count": 220,
      "metadata": {
        "colab": {
          "base_uri": "https://localhost:8080/"
        },
        "id": "ywRL9YZC9sk5",
        "outputId": "62f7925a-2aa4-40ba-80a0-1c946f502dcb"
      },
      "outputs": [
        {
          "output_type": "stream",
          "name": "stdout",
          "text": [
            "(5,)\n",
            "(1, 5)\n",
            "(5, 1)\n"
          ]
        }
      ],
      "source": [
        "a = np.arange(0,10,2) # [ s:e :step_size]\n",
        "b = a.reshape((1,5))\n",
        "print(a.shape)\n",
        "print(b.shape)\n",
        "b\n",
        "c = a.reshape((5,1))\n",
        "print(c.shape)"
      ]
    },
    {
      "cell_type": "code",
      "execution_count": 221,
      "metadata": {
        "colab": {
          "base_uri": "https://localhost:8080/"
        },
        "id": "6HvEgicDfLtI",
        "outputId": "bb466cdc-7957-4d4a-e900-56c346eb77e2"
      },
      "outputs": [
        {
          "output_type": "stream",
          "name": "stdout",
          "text": [
            "(5,) tf.Tensor(1, shape=(), dtype=int32)\n",
            "(5, 1) tf.Tensor(2, shape=(), dtype=int32)\n",
            "(1, 5) tf.Tensor(2, shape=(), dtype=int32)\n"
          ]
        }
      ],
      "source": [
        "a_tf = tf.constant(a)\n",
        "print(a_tf.shape, tf.rank(a_tf))\n",
        "\n",
        "b_tf = tf.reshape(a_tf,(5,1))\n",
        "print(b_tf.shape, tf.rank(b_tf))\n",
        "\n",
        "c_tf = tf.reshape(a_tf,shape=(1,5))\n",
        "print(c_tf.shape, tf.rank(c_tf))"
      ]
    },
    {
      "cell_type": "code",
      "source": [
        "a_torch = torch.tensor(a)\n",
        "print(a_torch.shape, a_torch.ndim)\n",
        "\n",
        "b_torch = torch.reshape(a_torch,(5,1))\n",
        "print(b_torch.shape, b_torch.ndim)"
      ],
      "metadata": {
        "id": "rh5IJNhhWmVu",
        "outputId": "cb44e89f-617e-49be-ce67-5c597926f8de",
        "colab": {
          "base_uri": "https://localhost:8080/"
        }
      },
      "execution_count": 224,
      "outputs": [
        {
          "output_type": "stream",
          "name": "stdout",
          "text": [
            "torch.Size([5]) 1\n",
            "torch.Size([5, 1]) 2\n"
          ]
        }
      ]
    },
    {
      "cell_type": "markdown",
      "metadata": {
        "id": "i5LVKihH-Any"
      },
      "source": [
        "### ndarray를 1차원으로 풀어내기\n",
        "\n",
        "`ndarray.ravel()`"
      ]
    },
    {
      "cell_type": "code",
      "execution_count": 225,
      "metadata": {
        "colab": {
          "base_uri": "https://localhost:8080/"
        },
        "id": "ahP9O_37-Kyl",
        "outputId": "5bb161cd-e304-4c9d-f35c-f9e870dbba48"
      },
      "outputs": [
        {
          "output_type": "stream",
          "name": "stdout",
          "text": [
            "(3, 3) 132036866381392\n",
            "(9,) 132036866380624\n"
          ]
        },
        {
          "output_type": "execute_result",
          "data": {
            "text/plain": [
              "array([1, 2, 3, 4, 5, 6, 7, 8, 9])"
            ]
          },
          "metadata": {},
          "execution_count": 225
        }
      ],
      "source": [
        "a = np.arange(1,10).reshape((3,3))\n",
        "b = a.ravel()\n",
        "print(a.shape, id(a))\n",
        "\n",
        "print(b.shape, id(b))\n",
        "b"
      ]
    },
    {
      "cell_type": "code",
      "source": [
        "a_torch = torch.tensor(a)\n",
        "b_torch = a_torch.ravel()\n",
        "print(a_torch.shape, id(a_torch))\n",
        "\n",
        "print(b_torch.shape, id(b_torch))\n",
        "b_torch"
      ],
      "metadata": {
        "id": "A_QocbjcXTkM",
        "outputId": "521ba6eb-bb41-4697-e888-388a74c1ce39",
        "colab": {
          "base_uri": "https://localhost:8080/"
        }
      },
      "execution_count": 226,
      "outputs": [
        {
          "output_type": "stream",
          "name": "stdout",
          "text": [
            "torch.Size([3, 3]) 132036871807888\n",
            "torch.Size([9]) 132036866971888\n"
          ]
        },
        {
          "output_type": "execute_result",
          "data": {
            "text/plain": [
              "tensor([1, 2, 3, 4, 5, 6, 7, 8, 9])"
            ]
          },
          "metadata": {},
          "execution_count": 226
        }
      ]
    },
    {
      "cell_type": "code",
      "source": [
        "a_tf = tf.constant(a)\n",
        "b_tf = tf.reshape(a_tf,shape=(-1))\n",
        "print(a_tf.shape, id(a_tf))\n",
        "\n",
        "print(b_tf.shape, id(b_tf))\n",
        "b_tf"
      ],
      "metadata": {
        "id": "0lO6EA6bXaex",
        "outputId": "6b72a4f9-86a1-46c8-99f0-d566d217d35c",
        "colab": {
          "base_uri": "https://localhost:8080/"
        }
      },
      "execution_count": 228,
      "outputs": [
        {
          "output_type": "stream",
          "name": "stdout",
          "text": [
            "(3, 3) 132036874255024\n",
            "(9,) 132036874181920\n"
          ]
        },
        {
          "output_type": "execute_result",
          "data": {
            "text/plain": [
              "<tf.Tensor: shape=(9,), dtype=int64, numpy=array([1, 2, 3, 4, 5, 6, 7, 8, 9])>"
            ]
          },
          "metadata": {},
          "execution_count": 228
        }
      ]
    },
    {
      "cell_type": "markdown",
      "metadata": {
        "id": "s7I0Ho5T2O61"
      },
      "source": [
        "# Test01\n",
        " * 8 by 4 로 된 matrix를 만들것.\n",
        " * 해당 matrix는 2부터 시작해서 짝수들로 64보다 작거나 같은 수로 채워짐. 행부터 채울것.\n",
        " * 해당 matrix를 출력하고 나서 vector로  만들것 (shape=(32,)인 np.array)\n",
        " * 해당 vector를 다시 출력.\n"
      ]
    },
    {
      "cell_type": "markdown",
      "metadata": {
        "id": "VW2kRHBk-qbO"
      },
      "source": [
        "# Transpose\n",
        "\n",
        "`ndarray.T`"
      ]
    },
    {
      "cell_type": "code",
      "execution_count": 229,
      "metadata": {
        "colab": {
          "base_uri": "https://localhost:8080/"
        },
        "id": "VwdMgAcq-ysf",
        "outputId": "0b80c180-ab5e-4b1d-a711-22b289b55224"
      },
      "outputs": [
        {
          "output_type": "stream",
          "name": "stdout",
          "text": [
            "[[1 2 3]\n",
            " [4 5 6]\n",
            " [7 8 9]]\n",
            "[[1 4 7]\n",
            " [2 5 8]\n",
            " [3 6 9]]\n"
          ]
        }
      ],
      "source": [
        "c=a.T\n",
        "print(a)\n",
        "print(c)\n"
      ]
    },
    {
      "cell_type": "code",
      "source": [
        "c_tf = tf.transpose(a_tf)\n",
        "print(a_tf)\n",
        "print(c_tf)"
      ],
      "metadata": {
        "id": "TyecVC1iXwmA",
        "outputId": "c70053eb-4552-4c64-dee2-4c093b939460",
        "colab": {
          "base_uri": "https://localhost:8080/"
        }
      },
      "execution_count": 230,
      "outputs": [
        {
          "output_type": "stream",
          "name": "stdout",
          "text": [
            "tf.Tensor(\n",
            "[[1 2 3]\n",
            " [4 5 6]\n",
            " [7 8 9]], shape=(3, 3), dtype=int64)\n",
            "tf.Tensor(\n",
            "[[1 4 7]\n",
            " [2 5 8]\n",
            " [3 6 9]], shape=(3, 3), dtype=int64)\n"
          ]
        }
      ]
    },
    {
      "cell_type": "code",
      "source": [
        "c_torch = a_torch.T\n",
        "print(a_torch)\n",
        "print(c_torch)"
      ],
      "metadata": {
        "id": "DysZ4JFuX0BU",
        "outputId": "3098a760-2b51-44f2-eabd-fc0e7a174a6e",
        "colab": {
          "base_uri": "https://localhost:8080/"
        }
      },
      "execution_count": 232,
      "outputs": [
        {
          "output_type": "stream",
          "name": "stdout",
          "text": [
            "tensor([[1, 2, 3],\n",
            "        [4, 5, 6],\n",
            "        [7, 8, 9]])\n",
            "tensor([[1, 4, 7],\n",
            "        [2, 5, 8],\n",
            "        [3, 6, 9]])\n"
          ]
        }
      ]
    },
    {
      "cell_type": "markdown",
      "metadata": {
        "id": "nE3FMUMF_CcD"
      },
      "source": [
        "# Broadcasting\n",
        "\n",
        "ndarray와 scalar와 연산시킬때, 해당 ndarray와 같은 shape이면서 해당 scalar의 값을 가진 ndarray와 연산시키는 것처럼 자동으로 elementwise연산이 수행되는 기능.\n",
        "* numpy의 가장 강력한 기능 중 하나."
      ]
    },
    {
      "cell_type": "code",
      "execution_count": null,
      "metadata": {
        "colab": {
          "base_uri": "https://localhost:8080/"
        },
        "id": "hGr38-wF_fgw",
        "outputId": "c4ad31ed-1112-4b20-ebb3-1ee3fbd501f5"
      },
      "outputs": [
        {
          "output_type": "stream",
          "name": "stdout",
          "text": [
            "[[1 2 3]\n",
            " [4 5 6]\n",
            " [7 8 9]]\n",
            "[[0.5 1.  1.5]\n",
            " [2.  2.5 3. ]\n",
            " [3.5 4.  4.5]]\n"
          ]
        }
      ],
      "source": [
        "print(a)\n",
        "c = a/2\n",
        "print(c)"
      ]
    },
    {
      "cell_type": "code",
      "source": [
        "print(a_tf)\n",
        "c_tf = a_tf/2\n",
        "print(c_tf)"
      ],
      "metadata": {
        "id": "Y1kRoQP5YDHf",
        "outputId": "bf348b81-d5dc-4145-9ea8-808fbc263315",
        "colab": {
          "base_uri": "https://localhost:8080/"
        }
      },
      "execution_count": 234,
      "outputs": [
        {
          "output_type": "stream",
          "name": "stdout",
          "text": [
            "tf.Tensor(\n",
            "[[1 2 3]\n",
            " [4 5 6]\n",
            " [7 8 9]], shape=(3, 3), dtype=int64)\n",
            "tf.Tensor(\n",
            "[[0.5 1.  1.5]\n",
            " [2.  2.5 3. ]\n",
            " [3.5 4.  4.5]], shape=(3, 3), dtype=float64)\n"
          ]
        }
      ]
    },
    {
      "cell_type": "code",
      "source": [
        "print(a_torch)\n",
        "c_torch = a_torch/2\n",
        "print(c_torch)"
      ],
      "metadata": {
        "id": "kQfb_om5YIqE",
        "outputId": "2fa12c33-7371-44a1-de6a-dacc96c26750",
        "colab": {
          "base_uri": "https://localhost:8080/"
        }
      },
      "execution_count": 236,
      "outputs": [
        {
          "output_type": "stream",
          "name": "stdout",
          "text": [
            "tensor([[1, 2, 3],\n",
            "        [4, 5, 6],\n",
            "        [7, 8, 9]])\n",
            "tensor([[0.5000, 1.0000, 1.5000],\n",
            "        [2.0000, 2.5000, 3.0000],\n",
            "        [3.5000, 4.0000, 4.5000]])\n"
          ]
        }
      ]
    },
    {
      "cell_type": "code",
      "execution_count": 243,
      "metadata": {
        "colab": {
          "base_uri": "https://localhost:8080/"
        },
        "id": "zVfumBf7_njB",
        "outputId": "b9efdea8-b2c3-4546-8ad1-0611954f7b25"
      },
      "outputs": [
        {
          "output_type": "stream",
          "name": "stdout",
          "text": [
            "float64\n",
            "float64\n",
            "[[4. 5. 6.]\n",
            " [4. 5. 6.]\n",
            " [4. 5. 6.]\n",
            " [4. 5. 6.]\n",
            " [4. 5. 6.]]\n",
            "(3,)\n"
          ]
        }
      ],
      "source": [
        "a = np.ones( shape=(5,3) )\n",
        "print(a.dtype)\n",
        "c = a + np.array([3,4,5])\n",
        "print(c.dtype)\n",
        "print(c)\n",
        "\n",
        "print(np.array([3,4,5]).shape)"
      ]
    },
    {
      "cell_type": "code",
      "source": [
        "print(np.array([3,4,5]).dtype)\n",
        "print(np.array([3.,4.,5.]).dtype)"
      ],
      "metadata": {
        "id": "R_k3k1pHZd_f",
        "outputId": "325c988a-de5e-4738-f03e-60fc619d1d19",
        "colab": {
          "base_uri": "https://localhost:8080/"
        }
      },
      "execution_count": 255,
      "outputs": [
        {
          "output_type": "stream",
          "name": "stdout",
          "text": [
            "int64\n",
            "float64\n"
          ]
        }
      ]
    },
    {
      "cell_type": "code",
      "source": [
        "a_tf = tf.ones( shape=(5,3))\n",
        "print(a_tf.dtype)\n",
        "c_tf = a_tf + tf.constant([3,4,5], dtype=float) # dtype을 빼고 해볼 것. tensorflow의 불편함을 느낄 수 있음.\n",
        "print(c_tf)"
      ],
      "metadata": {
        "id": "U9R3U5hxYMRZ",
        "outputId": "25bc309e-f33c-4172-a4fb-0a11bbed2689",
        "colab": {
          "base_uri": "https://localhost:8080/"
        }
      },
      "execution_count": 248,
      "outputs": [
        {
          "output_type": "stream",
          "name": "stdout",
          "text": [
            "<dtype: 'float32'>\n",
            "tf.Tensor(\n",
            "[[4. 5. 6.]\n",
            " [4. 5. 6.]\n",
            " [4. 5. 6.]\n",
            " [4. 5. 6.]\n",
            " [4. 5. 6.]], shape=(5, 3), dtype=float32)\n"
          ]
        }
      ]
    },
    {
      "cell_type": "code",
      "source": [
        "print(tf.constant([3,4,5]).dtype)\n",
        "print(tf.constant([3.,4.,5.]).dtype)"
      ],
      "metadata": {
        "id": "FtQW3cMfZUVd",
        "outputId": "c32b6666-61f5-4623-b93c-19b50cfc9b5c",
        "colab": {
          "base_uri": "https://localhost:8080/"
        }
      },
      "execution_count": 253,
      "outputs": [
        {
          "output_type": "stream",
          "name": "stdout",
          "text": [
            "<dtype: 'int32'>\n",
            "<dtype: 'float32'>\n"
          ]
        }
      ]
    },
    {
      "cell_type": "code",
      "source": [
        "a_torch = torch.ones( size=(5,3) )\n",
        "print(a_torch.dtype)\n",
        "c_torch = a_torch + torch.tensor([3,4,5])\n",
        "print(c_torch)"
      ],
      "metadata": {
        "id": "QdGn1q88Yy-R",
        "outputId": "9d1b9d2b-50ba-45af-d3dd-835cb669d5cb",
        "colab": {
          "base_uri": "https://localhost:8080/"
        }
      },
      "execution_count": 249,
      "outputs": [
        {
          "output_type": "stream",
          "name": "stdout",
          "text": [
            "torch.float32\n",
            "tensor([[4., 5., 6.],\n",
            "        [4., 5., 6.],\n",
            "        [4., 5., 6.],\n",
            "        [4., 5., 6.],\n",
            "        [4., 5., 6.]])\n"
          ]
        }
      ]
    },
    {
      "cell_type": "code",
      "source": [
        "print(torch.tensor([3,4,5]).dtype)\n",
        "print(torch.tensor([3.,4.,5.]).dtype)\n"
      ],
      "metadata": {
        "id": "EvI8uZhZY-Hn",
        "outputId": "21aa30a1-160f-45d5-afbd-6b3cda2603b1",
        "colab": {
          "base_uri": "https://localhost:8080/"
        }
      },
      "execution_count": 251,
      "outputs": [
        {
          "output_type": "stream",
          "name": "stdout",
          "text": [
            "torch.int64\n",
            "torch.float32\n"
          ]
        }
      ]
    },
    {
      "cell_type": "code",
      "execution_count": 257,
      "metadata": {
        "colab": {
          "base_uri": "https://localhost:8080/",
          "height": 233
        },
        "id": "c9qN1ZHy4HKh",
        "outputId": "8075ff66-bb35-4b2a-a04f-29b06404457b"
      },
      "outputs": [
        {
          "output_type": "stream",
          "name": "stdout",
          "text": [
            "(5, 3)\n",
            "(5,)\n"
          ]
        },
        {
          "output_type": "error",
          "ename": "ValueError",
          "evalue": "operands could not be broadcast together with shapes (5,3) (5,) ",
          "traceback": [
            "\u001b[0;31m---------------------------------------------------------------------------\u001b[0m",
            "\u001b[0;31mValueError\u001b[0m                                Traceback (most recent call last)",
            "\u001b[0;32m<ipython-input-257-13c215b1b2cb>\u001b[0m in \u001b[0;36m<cell line: 4>\u001b[0;34m()\u001b[0m\n\u001b[1;32m      2\u001b[0m \u001b[0mb\u001b[0m\u001b[0;34m=\u001b[0m \u001b[0mnp\u001b[0m\u001b[0;34m.\u001b[0m\u001b[0marray\u001b[0m\u001b[0;34m(\u001b[0m\u001b[0;34m[\u001b[0m\u001b[0;36m3\u001b[0m\u001b[0;34m,\u001b[0m\u001b[0;36m4\u001b[0m\u001b[0;34m,\u001b[0m\u001b[0;36m5\u001b[0m\u001b[0;34m,\u001b[0m\u001b[0;36m6\u001b[0m\u001b[0;34m,\u001b[0m\u001b[0;36m7\u001b[0m\u001b[0;34m]\u001b[0m\u001b[0;34m)\u001b[0m\u001b[0;34m\u001b[0m\u001b[0;34m\u001b[0m\u001b[0m\n\u001b[1;32m      3\u001b[0m \u001b[0mprint\u001b[0m\u001b[0;34m(\u001b[0m\u001b[0mb\u001b[0m\u001b[0;34m.\u001b[0m\u001b[0mshape\u001b[0m\u001b[0;34m)\u001b[0m\u001b[0;34m\u001b[0m\u001b[0;34m\u001b[0m\u001b[0m\n\u001b[0;32m----> 4\u001b[0;31m \u001b[0mc\u001b[0m \u001b[0;34m=\u001b[0m \u001b[0ma\u001b[0m\u001b[0;34m+\u001b[0m\u001b[0mb\u001b[0m\u001b[0;34m\u001b[0m\u001b[0;34m\u001b[0m\u001b[0m\n\u001b[0m\u001b[1;32m      5\u001b[0m \u001b[0mprint\u001b[0m\u001b[0;34m(\u001b[0m\u001b[0mc\u001b[0m\u001b[0;34m)\u001b[0m\u001b[0;34m\u001b[0m\u001b[0;34m\u001b[0m\u001b[0m\n",
            "\u001b[0;31mValueError\u001b[0m: operands could not be broadcast together with shapes (5,3) (5,) "
          ]
        }
      ],
      "source": [
        "print(a.shape)\n",
        "b= np.array([3,4,5,6,7])\n",
        "print(b.shape)\n",
        "c = a+b\n",
        "print(c)"
      ]
    },
    {
      "cell_type": "code",
      "source": [
        "a_tf = tf.constant(a,dtype=tf.float32)\n",
        "b_tf = tf.constant([3,4,5,6,7], dtype=tf.float32)\n",
        "print(b_tf.shape)\n",
        "c_tf = a_tf+b_tf\n",
        "print(c_tf)"
      ],
      "metadata": {
        "id": "M-LWXzxYZ2sV",
        "outputId": "91ff711e-e940-4fbf-f5a4-3cfd68fd2f19",
        "colab": {
          "base_uri": "https://localhost:8080/",
          "height": 382
        }
      },
      "execution_count": 262,
      "outputs": [
        {
          "output_type": "stream",
          "name": "stdout",
          "text": [
            "(5,)\n"
          ]
        },
        {
          "output_type": "error",
          "ename": "InvalidArgumentError",
          "evalue": "{{function_node __wrapped__AddV2_device_/job:localhost/replica:0/task:0/device:CPU:0}} Incompatible shapes: [5,3] vs. [5] [Op:AddV2] name: ",
          "traceback": [
            "\u001b[0;31m---------------------------------------------------------------------------\u001b[0m",
            "\u001b[0;31mInvalidArgumentError\u001b[0m                      Traceback (most recent call last)",
            "\u001b[0;32m<ipython-input-262-dcd139efbf73>\u001b[0m in \u001b[0;36m<cell line: 4>\u001b[0;34m()\u001b[0m\n\u001b[1;32m      2\u001b[0m \u001b[0mb_tf\u001b[0m \u001b[0;34m=\u001b[0m \u001b[0mtf\u001b[0m\u001b[0;34m.\u001b[0m\u001b[0mconstant\u001b[0m\u001b[0;34m(\u001b[0m\u001b[0;34m[\u001b[0m\u001b[0;36m3\u001b[0m\u001b[0;34m,\u001b[0m\u001b[0;36m4\u001b[0m\u001b[0;34m,\u001b[0m\u001b[0;36m5\u001b[0m\u001b[0;34m,\u001b[0m\u001b[0;36m6\u001b[0m\u001b[0;34m,\u001b[0m\u001b[0;36m7\u001b[0m\u001b[0;34m]\u001b[0m\u001b[0;34m,\u001b[0m \u001b[0mdtype\u001b[0m\u001b[0;34m=\u001b[0m\u001b[0mtf\u001b[0m\u001b[0;34m.\u001b[0m\u001b[0mfloat32\u001b[0m\u001b[0;34m)\u001b[0m\u001b[0;34m\u001b[0m\u001b[0;34m\u001b[0m\u001b[0m\n\u001b[1;32m      3\u001b[0m \u001b[0mprint\u001b[0m\u001b[0;34m(\u001b[0m\u001b[0mb_tf\u001b[0m\u001b[0;34m.\u001b[0m\u001b[0mshape\u001b[0m\u001b[0;34m)\u001b[0m\u001b[0;34m\u001b[0m\u001b[0;34m\u001b[0m\u001b[0m\n\u001b[0;32m----> 4\u001b[0;31m \u001b[0mc_tf\u001b[0m \u001b[0;34m=\u001b[0m \u001b[0ma_tf\u001b[0m\u001b[0;34m+\u001b[0m\u001b[0mb_tf\u001b[0m\u001b[0;34m\u001b[0m\u001b[0;34m\u001b[0m\u001b[0m\n\u001b[0m\u001b[1;32m      5\u001b[0m \u001b[0mprint\u001b[0m\u001b[0;34m(\u001b[0m\u001b[0mc_tf\u001b[0m\u001b[0;34m)\u001b[0m\u001b[0;34m\u001b[0m\u001b[0;34m\u001b[0m\u001b[0m\n",
            "\u001b[0;32m/usr/local/lib/python3.10/dist-packages/tensorflow/python/util/traceback_utils.py\u001b[0m in \u001b[0;36merror_handler\u001b[0;34m(*args, **kwargs)\u001b[0m\n\u001b[1;32m    151\u001b[0m     \u001b[0;32mexcept\u001b[0m \u001b[0mException\u001b[0m \u001b[0;32mas\u001b[0m \u001b[0me\u001b[0m\u001b[0;34m:\u001b[0m\u001b[0;34m\u001b[0m\u001b[0;34m\u001b[0m\u001b[0m\n\u001b[1;32m    152\u001b[0m       \u001b[0mfiltered_tb\u001b[0m \u001b[0;34m=\u001b[0m \u001b[0m_process_traceback_frames\u001b[0m\u001b[0;34m(\u001b[0m\u001b[0me\u001b[0m\u001b[0;34m.\u001b[0m\u001b[0m__traceback__\u001b[0m\u001b[0;34m)\u001b[0m\u001b[0;34m\u001b[0m\u001b[0;34m\u001b[0m\u001b[0m\n\u001b[0;32m--> 153\u001b[0;31m       \u001b[0;32mraise\u001b[0m \u001b[0me\u001b[0m\u001b[0;34m.\u001b[0m\u001b[0mwith_traceback\u001b[0m\u001b[0;34m(\u001b[0m\u001b[0mfiltered_tb\u001b[0m\u001b[0;34m)\u001b[0m \u001b[0;32mfrom\u001b[0m \u001b[0;32mNone\u001b[0m\u001b[0;34m\u001b[0m\u001b[0;34m\u001b[0m\u001b[0m\n\u001b[0m\u001b[1;32m    154\u001b[0m     \u001b[0;32mfinally\u001b[0m\u001b[0;34m:\u001b[0m\u001b[0;34m\u001b[0m\u001b[0;34m\u001b[0m\u001b[0m\n\u001b[1;32m    155\u001b[0m       \u001b[0;32mdel\u001b[0m \u001b[0mfiltered_tb\u001b[0m\u001b[0;34m\u001b[0m\u001b[0;34m\u001b[0m\u001b[0m\n",
            "\u001b[0;32m/usr/local/lib/python3.10/dist-packages/tensorflow/python/framework/ops.py\u001b[0m in \u001b[0;36mraise_from_not_ok_status\u001b[0;34m(e, name)\u001b[0m\n\u001b[1;32m   5881\u001b[0m \u001b[0;32mdef\u001b[0m \u001b[0mraise_from_not_ok_status\u001b[0m\u001b[0;34m(\u001b[0m\u001b[0me\u001b[0m\u001b[0;34m,\u001b[0m \u001b[0mname\u001b[0m\u001b[0;34m)\u001b[0m \u001b[0;34m->\u001b[0m \u001b[0mNoReturn\u001b[0m\u001b[0;34m:\u001b[0m\u001b[0;34m\u001b[0m\u001b[0;34m\u001b[0m\u001b[0m\n\u001b[1;32m   5882\u001b[0m   \u001b[0me\u001b[0m\u001b[0;34m.\u001b[0m\u001b[0mmessage\u001b[0m \u001b[0;34m+=\u001b[0m \u001b[0;34m(\u001b[0m\u001b[0;34m\" name: \"\u001b[0m \u001b[0;34m+\u001b[0m \u001b[0mstr\u001b[0m\u001b[0;34m(\u001b[0m\u001b[0mname\u001b[0m \u001b[0;32mif\u001b[0m \u001b[0mname\u001b[0m \u001b[0;32mis\u001b[0m \u001b[0;32mnot\u001b[0m \u001b[0;32mNone\u001b[0m \u001b[0;32melse\u001b[0m \u001b[0;34m\"\"\u001b[0m\u001b[0;34m)\u001b[0m\u001b[0;34m)\u001b[0m\u001b[0;34m\u001b[0m\u001b[0;34m\u001b[0m\u001b[0m\n\u001b[0;32m-> 5883\u001b[0;31m   \u001b[0;32mraise\u001b[0m \u001b[0mcore\u001b[0m\u001b[0;34m.\u001b[0m\u001b[0m_status_to_exception\u001b[0m\u001b[0;34m(\u001b[0m\u001b[0me\u001b[0m\u001b[0;34m)\u001b[0m \u001b[0;32mfrom\u001b[0m \u001b[0;32mNone\u001b[0m  \u001b[0;31m# pylint: disable=protected-access\u001b[0m\u001b[0;34m\u001b[0m\u001b[0;34m\u001b[0m\u001b[0m\n\u001b[0m\u001b[1;32m   5884\u001b[0m \u001b[0;34m\u001b[0m\u001b[0m\n\u001b[1;32m   5885\u001b[0m \u001b[0;34m\u001b[0m\u001b[0m\n",
            "\u001b[0;31mInvalidArgumentError\u001b[0m: {{function_node __wrapped__AddV2_device_/job:localhost/replica:0/task:0/device:CPU:0}} Incompatible shapes: [5,3] vs. [5] [Op:AddV2] name: "
          ]
        }
      ]
    },
    {
      "cell_type": "code",
      "source": [
        "a_torch = torch.tensor(a)\n",
        "print(a_torch.shape)\n",
        "b_torch = torch.tensor([3,4,5,6,7])\n",
        "print(b_torch.shape)\n",
        "c_torch = a_torch+b_torch\n",
        "print(c_torch)"
      ],
      "metadata": {
        "id": "YQnoVfGnaNHL",
        "outputId": "84f22d1c-c610-446c-9390-f250e8cc6722",
        "colab": {
          "base_uri": "https://localhost:8080/",
          "height": 233
        }
      },
      "execution_count": 264,
      "outputs": [
        {
          "output_type": "stream",
          "name": "stdout",
          "text": [
            "torch.Size([5, 3])\n",
            "torch.Size([5])\n"
          ]
        },
        {
          "output_type": "error",
          "ename": "RuntimeError",
          "evalue": "The size of tensor a (3) must match the size of tensor b (5) at non-singleton dimension 1",
          "traceback": [
            "\u001b[0;31m---------------------------------------------------------------------------\u001b[0m",
            "\u001b[0;31mRuntimeError\u001b[0m                              Traceback (most recent call last)",
            "\u001b[0;32m<ipython-input-264-af014a371f29>\u001b[0m in \u001b[0;36m<cell line: 5>\u001b[0;34m()\u001b[0m\n\u001b[1;32m      3\u001b[0m \u001b[0mb_torch\u001b[0m \u001b[0;34m=\u001b[0m \u001b[0mtorch\u001b[0m\u001b[0;34m.\u001b[0m\u001b[0mtensor\u001b[0m\u001b[0;34m(\u001b[0m\u001b[0;34m[\u001b[0m\u001b[0;36m3\u001b[0m\u001b[0;34m,\u001b[0m\u001b[0;36m4\u001b[0m\u001b[0;34m,\u001b[0m\u001b[0;36m5\u001b[0m\u001b[0;34m,\u001b[0m\u001b[0;36m6\u001b[0m\u001b[0;34m,\u001b[0m\u001b[0;36m7\u001b[0m\u001b[0;34m]\u001b[0m\u001b[0;34m)\u001b[0m\u001b[0;34m\u001b[0m\u001b[0;34m\u001b[0m\u001b[0m\n\u001b[1;32m      4\u001b[0m \u001b[0mprint\u001b[0m\u001b[0;34m(\u001b[0m\u001b[0mb_torch\u001b[0m\u001b[0;34m.\u001b[0m\u001b[0mshape\u001b[0m\u001b[0;34m)\u001b[0m\u001b[0;34m\u001b[0m\u001b[0;34m\u001b[0m\u001b[0m\n\u001b[0;32m----> 5\u001b[0;31m \u001b[0mc_torch\u001b[0m \u001b[0;34m=\u001b[0m \u001b[0ma_torch\u001b[0m\u001b[0;34m+\u001b[0m\u001b[0mb_torch\u001b[0m\u001b[0;34m\u001b[0m\u001b[0;34m\u001b[0m\u001b[0m\n\u001b[0m\u001b[1;32m      6\u001b[0m \u001b[0mprint\u001b[0m\u001b[0;34m(\u001b[0m\u001b[0mc_torch\u001b[0m\u001b[0;34m)\u001b[0m\u001b[0;34m\u001b[0m\u001b[0;34m\u001b[0m\u001b[0m\n",
            "\u001b[0;31mRuntimeError\u001b[0m: The size of tensor a (3) must match the size of tensor b (5) at non-singleton dimension 1"
          ]
        }
      ]
    },
    {
      "cell_type": "code",
      "execution_count": 265,
      "metadata": {
        "colab": {
          "base_uri": "https://localhost:8080/"
        },
        "id": "dFlu3cRR4EHI",
        "outputId": "9899f9a0-9ad3-4f51-824a-4edfb631d76f"
      },
      "outputs": [
        {
          "output_type": "stream",
          "name": "stdout",
          "text": [
            "(5, 3)\n",
            "(5, 1)\n",
            "[[4. 4. 4.]\n",
            " [5. 5. 5.]\n",
            " [6. 6. 6.]\n",
            " [7. 7. 7.]\n",
            " [8. 8. 8.]]\n"
          ]
        }
      ],
      "source": [
        "b = np.array([3,4,5,6,7])\n",
        "b = b.reshape(5,1)\n",
        "c = a+b\n",
        "print(a.shape)\n",
        "print(b.shape)\n",
        "print(c)"
      ]
    },
    {
      "cell_type": "code",
      "source": [
        "b_tf = tf.constant([3,4,5,6,7], dtype=tf.float32)\n",
        "b_tf = tf.reshape(b_tf, shape=(5,1))\n",
        "print(b_tf.shape)\n",
        "c_tf = a_tf+b_tf\n",
        "print(c_tf)"
      ],
      "metadata": {
        "id": "oenAmtE8aeBV",
        "outputId": "b16359c8-694b-42f5-c533-86f4ce3eb9e0",
        "colab": {
          "base_uri": "https://localhost:8080/"
        }
      },
      "execution_count": 269,
      "outputs": [
        {
          "output_type": "stream",
          "name": "stdout",
          "text": [
            "(5, 1)\n",
            "tf.Tensor(\n",
            "[[4. 4. 4.]\n",
            " [5. 5. 5.]\n",
            " [6. 6. 6.]\n",
            " [7. 7. 7.]\n",
            " [8. 8. 8.]], shape=(5, 3), dtype=float32)\n"
          ]
        }
      ]
    },
    {
      "cell_type": "code",
      "source": [
        "b_torch = torch.tensor([3,4,5,6,7])\n",
        "b_torch = b_torch.reshape(5,1)\n",
        "print(b_torch.shape)\n",
        "c_torch = a_torch+b_torch\n",
        "print(c_torch)"
      ],
      "metadata": {
        "id": "3fCUdRgFasGO",
        "outputId": "eeab0b90-8f37-4b71-e8e7-97ed3844e396",
        "colab": {
          "base_uri": "https://localhost:8080/"
        }
      },
      "execution_count": 270,
      "outputs": [
        {
          "output_type": "stream",
          "name": "stdout",
          "text": [
            "torch.Size([5, 1])\n",
            "tensor([[4., 4., 4.],\n",
            "        [5., 5., 5.],\n",
            "        [6., 6., 6.],\n",
            "        [7., 7., 7.],\n",
            "        [8., 8., 8.]], dtype=torch.float64)\n"
          ]
        }
      ]
    }
  ],
  "metadata": {
    "colab": {
      "collapsed_sections": [
        "i5LVKihH-Any",
        "VW2kRHBk-qbO",
        "nE3FMUMF_CcD"
      ],
      "name": "DIP_Numpy01.ipynb",
      "provenance": [],
      "toc_visible": true,
      "include_colab_link": true
    },
    "kernelspec": {
      "display_name": "Python 3.10.4 ('dip2')",
      "language": "python",
      "name": "python3"
    },
    "language_info": {
      "codemirror_mode": {
        "name": "ipython",
        "version": 3
      },
      "file_extension": ".py",
      "mimetype": "text/x-python",
      "name": "python",
      "nbconvert_exporter": "python",
      "pygments_lexer": "ipython3",
      "version": "3.10.4"
    },
    "vscode": {
      "interpreter": {
        "hash": "f5e5e6631e046d224a10e5b86fa02048ebea2c7c5c229ff6c1afe7c9ae4877a9"
      }
    }
  },
  "nbformat": 4,
  "nbformat_minor": 0
}