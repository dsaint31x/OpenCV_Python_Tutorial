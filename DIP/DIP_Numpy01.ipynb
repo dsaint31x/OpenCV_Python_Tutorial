{
  "cells": [
    {
      "cell_type": "code",
      "execution_count": 1,
      "metadata": {
        "colab": {
          "base_uri": "https://localhost:8080/",
          "height": 35
        },
        "id": "JQvWdgTqWn_Y",
        "outputId": "4b21db33-4c38-4d74-e6f1-12aff766160e"
      },
      "outputs": [
        {
          "output_type": "execute_result",
          "data": {
            "text/plain": [
              "'1.25.2'"
            ],
            "application/vnd.google.colaboratory.intrinsic+json": {
              "type": "string"
            }
          },
          "metadata": {},
          "execution_count": 1
        }
      ],
      "source": [
        "import tensorflow as tf\n",
        "import numpy as np\n",
        "np.__version__"
      ]
    },
    {
      "cell_type": "code",
      "execution_count": 2,
      "metadata": {
        "colab": {
          "base_uri": "https://localhost:8080/",
          "height": 35
        },
        "id": "66gKJBS4n6Yo",
        "outputId": "6557dcc7-dacf-4a49-912d-c4c15f712cba"
      },
      "outputs": [
        {
          "output_type": "execute_result",
          "data": {
            "text/plain": [
              "'2.15.0'"
            ],
            "application/vnd.google.colaboratory.intrinsic+json": {
              "type": "string"
            }
          },
          "metadata": {},
          "execution_count": 2
        }
      ],
      "source": [
        "tf.__version__"
      ]
    },
    {
      "cell_type": "code",
      "source": [
        "import sys\n",
        "print(sys.version)"
      ],
      "metadata": {
        "colab": {
          "base_uri": "https://localhost:8080/"
        },
        "id": "_bA4mQ7JtgLn",
        "outputId": "2bcfdc33-e388-43b2-beba-27bb5ad3709f"
      },
      "execution_count": 5,
      "outputs": [
        {
          "output_type": "stream",
          "name": "stdout",
          "text": [
            "3.10.12 (main, Nov 20 2023, 15:14:05) [GCC 11.4.0]\n"
          ]
        }
      ]
    },
    {
      "cell_type": "code",
      "execution_count": 10,
      "metadata": {
        "colab": {
          "base_uri": "https://localhost:8080/",
          "height": 220
        },
        "id": "WR-dTG6AtOvx",
        "outputId": "8a42c592-8ad9-4717-b51d-8b4031fde9d3"
      },
      "outputs": [
        {
          "output_type": "stream",
          "name": "stdout",
          "text": [
            "google.colab module exists.\n",
            "math module is located at built-in.\n"
          ]
        },
        {
          "output_type": "error",
          "ename": "AttributeError",
          "evalue": "'ModuleSpec' object has no attribute 'type'",
          "traceback": [
            "\u001b[0;31m---------------------------------------------------------------------------\u001b[0m",
            "\u001b[0;31mAttributeError\u001b[0m                            Traceback (most recent call last)",
            "\u001b[0;32m<ipython-input-10-87bd3113d508>\u001b[0m in \u001b[0;36m<cell line: 16>\u001b[0;34m()\u001b[0m\n\u001b[1;32m     15\u001b[0m \u001b[0mmodule_spec\u001b[0m \u001b[0;34m=\u001b[0m \u001b[0mimportlib\u001b[0m\u001b[0;34m.\u001b[0m\u001b[0mutil\u001b[0m\u001b[0;34m.\u001b[0m\u001b[0mfind_spec\u001b[0m\u001b[0;34m(\u001b[0m\u001b[0;34m\"numpy\"\u001b[0m\u001b[0;34m)\u001b[0m\u001b[0;34m\u001b[0m\u001b[0;34m\u001b[0m\u001b[0m\n\u001b[1;32m     16\u001b[0m \u001b[0;32mif\u001b[0m \u001b[0mmodule_spec\u001b[0m\u001b[0;34m:\u001b[0m\u001b[0;34m\u001b[0m\u001b[0;34m\u001b[0m\u001b[0m\n\u001b[0;32m---> 17\u001b[0;31m     \u001b[0mprint\u001b[0m\u001b[0;34m(\u001b[0m\u001b[0;34mf\"{module_spec.name} module is a {module_spec.type} module.\"\u001b[0m\u001b[0;34m)\u001b[0m\u001b[0;34m\u001b[0m\u001b[0;34m\u001b[0m\u001b[0m\n\u001b[0m",
            "\u001b[0;31mAttributeError\u001b[0m: 'ModuleSpec' object has no attribute 'type'"
          ]
        }
      ],
      "source": [
        "# Python 3.10 부터는 사용하지 말것.\n",
        "\n",
        "import importlib\n",
        "# Check if a module exists\n",
        "module_name = \"google.colab\"\n",
        "if importlib.util.find_spec(module_name):\n",
        "    print(f\"{module_name} module exists.\")\n",
        "else:\n",
        "    print(f\"{module_name} module does not exist.\")\n",
        "\n",
        "# Check module location\n",
        "module_spec = importlib.util.find_spec(\"math\")\n",
        "if module_spec:\n",
        "    print(f\"{module_spec.name} module is located at {module_spec.origin}.\")\n",
        "\n",
        "# Check module type\n",
        "module_spec = importlib.util.find_spec(\"numpy\")\n",
        "if module_spec:\n",
        "    print(f\"{module_spec.name} module is a {module_spec.type} module.\")"
      ]
    },
    {
      "cell_type": "code",
      "source": [
        "# Python 3.10부터 사용가능. (최신 Python에는 importlib.metadata 존)\n",
        "!pip install importlib-metadata"
      ],
      "metadata": {
        "colab": {
          "base_uri": "https://localhost:8080/"
        },
        "id": "3_2_dGKFu3Uf",
        "outputId": "dbcf89b3-2d76-4203-dfb9-c73b9fb00715"
      },
      "execution_count": 11,
      "outputs": [
        {
          "output_type": "stream",
          "name": "stdout",
          "text": [
            "Requirement already satisfied: importlib-metadata in /usr/local/lib/python3.10/dist-packages (7.0.1)\n",
            "Requirement already satisfied: zipp>=0.5 in /usr/local/lib/python3.10/dist-packages (from importlib-metadata) (3.17.0)\n"
          ]
        }
      ]
    },
    {
      "cell_type": "code",
      "source": [
        "try:\n",
        "    metadata = importlib.metadata.PackagePath(module_name)\n",
        "    print(f\"{module_name} 패키지가 존재합니다.\")\n",
        "    print(f\"패키지 이름: {metadata.name}\")\n",
        "    print(f\"패키지 버전: {metadata.locate}\")\n",
        "    print(f\"패키지 버전: {importlib.metadata.version(module_name)}\")\n",
        "\n",
        "except importlib.metadata.PackageNotFoundError:\n",
        "    print(f\"{module_name} 패키지가 존재하지 않습니다.\")"
      ],
      "metadata": {
        "colab": {
          "base_uri": "https://localhost:8080/"
        },
        "id": "y811262btdMg",
        "outputId": "6a99d5ff-ef15-4887-88c3-5f79fa0adace"
      },
      "execution_count": 23,
      "outputs": [
        {
          "output_type": "stream",
          "name": "stdout",
          "text": [
            "google.colab 패키지가 존재합니다.\n",
            "패키지 이름: google.colab\n",
            "패키지 버전: <bound method PackagePath.locate of PackagePath('google.colab')>\n",
            "패키지 버전: 1.0.0\n"
          ]
        }
      ]
    },
    {
      "cell_type": "markdown",
      "metadata": {
        "id": "9qKKSyet4KwN"
      },
      "source": [
        "`np.array ( list [,dtype])`\n",
        "\n",
        "* list등으로 `ndarray` 생성.\n",
        "* `dtype` : data type of element.\n",
        "   * `float64` : default type in the numpy.\n",
        "   * `uint8` : unsigned int (8bit), the most commonly used for image processing\n",
        "   * `int8` : signed int (8bit)\n",
        "   * `floast32` : float (32bit)"
      ]
    },
    {
      "cell_type": "code",
      "execution_count": 24,
      "metadata": {
        "colab": {
          "base_uri": "https://localhost:8080/"
        },
        "id": "iHJMa0O24JgA",
        "outputId": "92b93d91-8096-45d1-985f-5a8ff5ad64cc"
      },
      "outputs": [
        {
          "output_type": "stream",
          "name": "stdout",
          "text": [
            "<class 'tuple'>\n",
            "<class 'numpy.ndarray'>\n"
          ]
        }
      ],
      "source": [
        "t = (1,2,3,4,5,6)\n",
        "a = np.array(t)\n",
        "print(type(t))\n",
        "print(type(a))"
      ]
    },
    {
      "cell_type": "code",
      "execution_count": 25,
      "metadata": {
        "colab": {
          "base_uri": "https://localhost:8080/"
        },
        "id": "qMsjg-b0ZLcJ",
        "outputId": "11c1fd00-dea0-49ac-f3a3-f2605aa5a025"
      },
      "outputs": [
        {
          "output_type": "stream",
          "name": "stdout",
          "text": [
            "1\n",
            "(6,)\n",
            "8\n",
            "6\n",
            "int64\n"
          ]
        }
      ],
      "source": [
        "print(a.ndim)\n",
        "print(a.shape)\n",
        "print(a.itemsize) #bytes\n",
        "print(a.size)\n",
        "print(a.dtype)"
      ]
    },
    {
      "cell_type": "code",
      "execution_count": 26,
      "metadata": {
        "colab": {
          "base_uri": "https://localhost:8080/"
        },
        "id": "vkb26J3zZgJT",
        "outputId": "073bb5bf-e2ca-471d-d998-77f02b8c09f8"
      },
      "outputs": [
        {
          "output_type": "stream",
          "name": "stdout",
          "text": [
            "tf.Tensor(1, shape=(), dtype=int32)\n",
            "1\n",
            "(6,)\n",
            "<dtype: 'int64'>\n"
          ]
        },
        {
          "output_type": "execute_result",
          "data": {
            "text/plain": [
              "<tf.Tensor: shape=(6,), dtype=int64, numpy=array([1, 2, 3, 4, 5, 6])>"
            ]
          },
          "metadata": {},
          "execution_count": 26
        }
      ],
      "source": [
        "tensor = tf.constant(a)\n",
        "print(tf.rank(tensor))\n",
        "print(tensor.ndim)\n",
        "print(tensor.shape)\n",
        "print(tensor.dtype)\n",
        "tensor"
      ]
    },
    {
      "cell_type": "markdown",
      "metadata": {
        "id": "T90fDRMl5jB3"
      },
      "source": [
        "# 특정 값으로 초기화한 `ndarray` 생성\n",
        "\n",
        "`zeros`,`ones`, and `full`"
      ]
    },
    {
      "cell_type": "code",
      "execution_count": 27,
      "metadata": {
        "colab": {
          "base_uri": "https://localhost:8080/"
        },
        "id": "Ziw_tUUW5ue_",
        "outputId": "a0666557-5630-42bb-c508-fc48520aeba6"
      },
      "outputs": [
        {
          "output_type": "execute_result",
          "data": {
            "text/plain": [
              "array([[0, 0, 0, 0],\n",
              "       [0, 0, 0, 0],\n",
              "       [0, 0, 0, 0],\n",
              "       [0, 0, 0, 0]], dtype=uint8)"
            ]
          },
          "metadata": {},
          "execution_count": 27
        }
      ],
      "source": [
        "a = np.zeros((3,2))\n",
        "a = np.zeros(shape=(4,4),dtype=np.uint8)\n",
        "a"
      ]
    },
    {
      "cell_type": "code",
      "execution_count": 28,
      "metadata": {
        "colab": {
          "base_uri": "https://localhost:8080/"
        },
        "id": "AbrU16r0rqK3",
        "outputId": "dcbfe32e-d704-438b-b8a0-ec33ded0d346"
      },
      "outputs": [
        {
          "output_type": "execute_result",
          "data": {
            "text/plain": [
              "2"
            ]
          },
          "metadata": {},
          "execution_count": 28
        }
      ],
      "source": [
        "len(a.shape)"
      ]
    },
    {
      "cell_type": "code",
      "execution_count": 29,
      "metadata": {
        "colab": {
          "base_uri": "https://localhost:8080/"
        },
        "id": "Ap3hCnBtaMWd",
        "outputId": "90bc64c9-3c0b-4f9e-f7a9-931ed8ddf1e3"
      },
      "outputs": [
        {
          "output_type": "execute_result",
          "data": {
            "text/plain": [
              "<tf.Tensor: shape=(3, 2), dtype=float32, numpy=\n",
              "array([[0., 0.],\n",
              "       [0., 0.],\n",
              "       [0., 0.]], dtype=float32)>"
            ]
          },
          "metadata": {},
          "execution_count": 29
        }
      ],
      "source": [
        "# a_tf = tf.constant(a)\n",
        "a_tf = tf.zeros(shape=(3,2))\n",
        "a_tf\n",
        "# a_tf.numpy()"
      ]
    },
    {
      "cell_type": "code",
      "execution_count": 30,
      "metadata": {
        "colab": {
          "base_uri": "https://localhost:8080/"
        },
        "id": "WkHyv-r651mK",
        "outputId": "461ce61c-9bb4-4565-ef8c-7b49cc45a6e3"
      },
      "outputs": [
        {
          "output_type": "execute_result",
          "data": {
            "text/plain": [
              "array([[[1., 1., 1.],\n",
              "        [1., 1., 1.]],\n",
              "\n",
              "       [[1., 1., 1.],\n",
              "        [1., 1., 1.]],\n",
              "\n",
              "       [[1., 1., 1.],\n",
              "        [1., 1., 1.]],\n",
              "\n",
              "       [[1., 1., 1.],\n",
              "        [1., 1., 1.]]])"
            ]
          },
          "metadata": {},
          "execution_count": 30
        }
      ],
      "source": [
        "a = np.ones((4,2,3))\n",
        "a"
      ]
    },
    {
      "cell_type": "code",
      "execution_count": 31,
      "metadata": {
        "colab": {
          "base_uri": "https://localhost:8080/"
        },
        "id": "37CAi5vUamY9",
        "outputId": "312a81b4-1fe8-452f-b821-e7aa3c1779c8"
      },
      "outputs": [
        {
          "output_type": "execute_result",
          "data": {
            "text/plain": [
              "<tf.Tensor: shape=(4, 2), dtype=int64, numpy=\n",
              "array([[1, 1],\n",
              "       [1, 1],\n",
              "       [1, 1],\n",
              "       [1, 1]])>"
            ]
          },
          "metadata": {},
          "execution_count": 31
        }
      ],
      "source": [
        "a_tf = tf.ones((4,2), dtype=tf.int64)\n",
        "a_tf"
      ]
    },
    {
      "cell_type": "code",
      "execution_count": 32,
      "metadata": {
        "colab": {
          "base_uri": "https://localhost:8080/"
        },
        "id": "prC3HMm355l9",
        "outputId": "9d1090fe-c927-4119-a9f6-48aafe063c04"
      },
      "outputs": [
        {
          "output_type": "execute_result",
          "data": {
            "text/plain": [
              "array([[255, 255, 255]])"
            ]
          },
          "metadata": {},
          "execution_count": 32
        }
      ],
      "source": [
        "a = np.full((1,3),255)\n",
        "a"
      ]
    },
    {
      "cell_type": "code",
      "execution_count": 33,
      "metadata": {
        "colab": {
          "base_uri": "https://localhost:8080/"
        },
        "id": "nJhwZ89uayMB",
        "outputId": "4d25b975-3965-4160-9c28-be2183fdc200"
      },
      "outputs": [
        {
          "output_type": "execute_result",
          "data": {
            "text/plain": [
              "<tf.Tensor: shape=(1, 3), dtype=int64, numpy=array([[255, 255, 255]])>"
            ]
          },
          "metadata": {},
          "execution_count": 33
        }
      ],
      "source": [
        "a_tf = tf.constant(a)\n",
        "a_tf"
      ]
    },
    {
      "cell_type": "markdown",
      "metadata": {
        "id": "rg1LU7jH5IGB"
      },
      "source": [
        "# 기존의 `ndarray` 와 같은 shape를 가지는 `ndarray`생성\n",
        "\n",
        "`zeros_like`, `ones_like`, and `full_like`"
      ]
    },
    {
      "cell_type": "code",
      "execution_count": 34,
      "metadata": {
        "colab": {
          "base_uri": "https://localhost:8080/"
        },
        "id": "L4ag0LTM5_sJ",
        "outputId": "17276e41-5a6f-45e7-f66b-5c2328032a30"
      },
      "outputs": [
        {
          "output_type": "stream",
          "name": "stdout",
          "text": [
            "(2, 3)\n",
            "(2, 3)\n"
          ]
        },
        {
          "output_type": "execute_result",
          "data": {
            "text/plain": [
              "array([[0, 0, 0],\n",
              "       [0, 0, 0]])"
            ]
          },
          "metadata": {},
          "execution_count": 34
        }
      ],
      "source": [
        "s = np.array([[1,2,3],[4,5,6]])\n",
        "print(s.shape)\n",
        "\n",
        "a = np.zeros_like(s)\n",
        "print(a.shape)\n",
        "a"
      ]
    },
    {
      "cell_type": "code",
      "execution_count": 35,
      "metadata": {
        "colab": {
          "base_uri": "https://localhost:8080/"
        },
        "id": "Evk1B89u6QgA",
        "outputId": "a9324abd-1b78-4dc6-a477-ab9316aa3362"
      },
      "outputs": [
        {
          "output_type": "stream",
          "name": "stdout",
          "text": [
            "(2, 3)\n"
          ]
        },
        {
          "output_type": "execute_result",
          "data": {
            "text/plain": [
              "array([[1, 1, 1],\n",
              "       [1, 1, 1]])"
            ]
          },
          "metadata": {},
          "execution_count": 35
        }
      ],
      "source": [
        "a = np.ones_like(s)\n",
        "print(a.shape)\n",
        "a"
      ]
    },
    {
      "cell_type": "code",
      "execution_count": 36,
      "metadata": {
        "colab": {
          "base_uri": "https://localhost:8080/"
        },
        "id": "3KbDRVns6WwS",
        "outputId": "e9a1bc9a-548f-41c8-f33e-e0d119ee0103"
      },
      "outputs": [
        {
          "output_type": "execute_result",
          "data": {
            "text/plain": [
              "array([[3, 3, 3],\n",
              "       [3, 3, 3]])"
            ]
          },
          "metadata": {},
          "execution_count": 36
        }
      ],
      "source": [
        "a = np.full_like(s,3.0)\n",
        "a"
      ]
    },
    {
      "cell_type": "markdown",
      "metadata": {
        "id": "G74cZ8N0GZRs"
      },
      "source": [
        "# indexing & slicing\n",
        "\n",
        "`ndarray`의 element에 접근하는 것은 indexing을 통해 하나하나에 접근하고, slicing을 통해 특정 영역의 element에 접근 가능함.\n",
        "\n",
        "* list등의 python의 fundamental type들과의 차이는 slicing의 경우에 numpy는 원본을 가리키고 있어서 slicing으로 실제로 원본이 수정되게 됨. (주의 필요.)"
      ]
    },
    {
      "cell_type": "code",
      "execution_count": 37,
      "metadata": {
        "colab": {
          "base_uri": "https://localhost:8080/"
        },
        "id": "7L33cIoPHFzZ",
        "outputId": "02941def-bb68-4145-d371-2791e2a052c8"
      },
      "outputs": [
        {
          "output_type": "execute_result",
          "data": {
            "text/plain": [
              "array([[ 0,  1,  2,  3],\n",
              "       [ 4,  5,  6,  7],\n",
              "       [ 8,  9, 10, 11]])"
            ]
          },
          "metadata": {},
          "execution_count": 37
        }
      ],
      "source": [
        "A = np.arange(0,12).reshape(3,4)\n",
        "A"
      ]
    },
    {
      "cell_type": "code",
      "execution_count": 38,
      "metadata": {
        "colab": {
          "base_uri": "https://localhost:8080/"
        },
        "id": "RYJZ9uXfbkl-",
        "outputId": "44b8086d-194e-4d90-af78-be72c5eba203"
      },
      "outputs": [
        {
          "output_type": "execute_result",
          "data": {
            "text/plain": [
              "<tf.Tensor: shape=(3, 4), dtype=int32, numpy=\n",
              "array([[ 0,  1,  2,  3],\n",
              "       [ 4,  5,  6,  7],\n",
              "       [ 8,  9, 10, 11]], dtype=int32)>"
            ]
          },
          "metadata": {},
          "execution_count": 38
        }
      ],
      "source": [
        "A_tf = tf.constant(tf.range(0,12),shape=(3,4))\n",
        "A_tf"
      ]
    },
    {
      "cell_type": "code",
      "execution_count": 39,
      "metadata": {
        "colab": {
          "base_uri": "https://localhost:8080/"
        },
        "id": "gQHQpAusHTz4",
        "outputId": "1bb97dd9-a230-4cc4-83b6-dba74128eefa"
      },
      "outputs": [
        {
          "output_type": "stream",
          "name": "stdout",
          "text": [
            "[[ 0  1  2  3]\n",
            " [ 4  5  6  7]\n",
            " [ 8  9 10 11]]\n",
            "A[0] is \"[0 1 2 3]\"\n",
            "A[0,2] is \"2\"\n",
            "A[0][2] is \"2\"\n"
          ]
        }
      ],
      "source": [
        "print(A)\n",
        "print(f'A[0] is \"{A[0]}\"')\n",
        "print(f'A[0,2] is \"{A[0,2]}\"')\n",
        "print(f'A[0][2] is \"{A[0][2]}\"')"
      ]
    },
    {
      "cell_type": "code",
      "execution_count": 40,
      "metadata": {
        "colab": {
          "base_uri": "https://localhost:8080/"
        },
        "id": "6KrRSSU3ut2w",
        "outputId": "c34bf173-dac8-42a6-be92-680c40f41f40"
      },
      "outputs": [
        {
          "output_type": "execute_result",
          "data": {
            "text/plain": [
              "10"
            ]
          },
          "metadata": {},
          "execution_count": 40
        }
      ],
      "source": [
        "A[2,2]"
      ]
    },
    {
      "cell_type": "code",
      "execution_count": 41,
      "metadata": {
        "colab": {
          "base_uri": "https://localhost:8080/"
        },
        "id": "eHl_Vun7wawq",
        "outputId": "960fb931-88da-4250-9d31-444b011f81b6"
      },
      "outputs": [
        {
          "output_type": "execute_result",
          "data": {
            "text/plain": [
              "array([[ 0,  1,  2,  3],\n",
              "       [ 4,  5,  6,  7],\n",
              "       [ 8,  9, 77, 11]])"
            ]
          },
          "metadata": {},
          "execution_count": 41
        }
      ],
      "source": [
        "A[2,2] = 77\n",
        "A"
      ]
    },
    {
      "cell_type": "code",
      "execution_count": 42,
      "metadata": {
        "colab": {
          "base_uri": "https://localhost:8080/"
        },
        "id": "duiFaLnYcFvY",
        "outputId": "cc3436ca-ceb7-4be7-ff14-fef35484e6ba"
      },
      "outputs": [
        {
          "output_type": "execute_result",
          "data": {
            "text/plain": [
              "<tf.Tensor: shape=(), dtype=int32, numpy=2>"
            ]
          },
          "metadata": {},
          "execution_count": 42
        }
      ],
      "source": [
        "A_tf[0,2] # scalar"
      ]
    },
    {
      "cell_type": "code",
      "execution_count": 43,
      "metadata": {
        "colab": {
          "base_uri": "https://localhost:8080/"
        },
        "id": "tZeRYWUoH1wF",
        "outputId": "e91abc53-207e-4145-8eab-51060a8d39cc"
      },
      "outputs": [
        {
          "output_type": "stream",
          "name": "stdout",
          "text": [
            "[[ 0  1  2  3]\n",
            " [ 4  5  6  7]\n",
            " [ 8  9 77 11]]\n",
            "A[1,2:] is \"[6 7]\"\n",
            "A[1,::2] is \"[4 6]\"\n",
            "A[1,::-2] is \"[7 5]\"\n",
            "A[1,::-1] is \"[7 6 5 4]\"\n",
            "A[1,3:0:-1] is \"[7 6 5]\"\n"
          ]
        }
      ],
      "source": [
        "print(A)\n",
        "print(f'A[1,2:] is \"{A[1,2:]}\"')\n",
        "print(f'A[1,::2] is \"{A[1,::2]}\"')\n",
        "print(f'A[1,::-2] is \"{A[1,::-2]}\"')\n",
        "print(f'A[1,::-1] is \"{A[1,::-1]}\"')\n",
        "print(f'A[1,3:0:-1] is \"{A[1,3:0:-1]}\"')"
      ]
    },
    {
      "cell_type": "code",
      "execution_count": 44,
      "metadata": {
        "colab": {
          "base_uri": "https://localhost:8080/"
        },
        "id": "7fAa6FFqIjiY",
        "outputId": "1e9a60e3-32e3-49cf-b4c3-ad7cadd8c17b"
      },
      "outputs": [
        {
          "output_type": "stream",
          "name": "stdout",
          "text": [
            "[[ 0  1  2  3]\n",
            " [ 4  5  6  7]\n",
            " [ 8  9 77 11]]\n"
          ]
        }
      ],
      "source": [
        "print(A)\n",
        "A[1:3,1:3] = 3*A[1:3,1:3]\n"
      ]
    },
    {
      "cell_type": "code",
      "execution_count": 45,
      "metadata": {
        "colab": {
          "base_uri": "https://localhost:8080/"
        },
        "id": "ZsC__RZzItTM",
        "outputId": "23ff7a85-fc99-432c-ab30-303712477e46"
      },
      "outputs": [
        {
          "output_type": "execute_result",
          "data": {
            "text/plain": [
              "array([[  0,   1,   2,   3],\n",
              "       [  4, 777, 777,   7],\n",
              "       [  8, 777, 777,  11]])"
            ]
          },
          "metadata": {},
          "execution_count": 45
        }
      ],
      "source": [
        "A[1:3,1:3] = 777\n",
        "A"
      ]
    },
    {
      "cell_type": "markdown",
      "metadata": {
        "id": "OSd5xM3x6V_A"
      },
      "source": [
        "# 난수 생성.\n",
        "\n",
        "`np.random.rand([d0 [,d1 [ ..., dn])` : 0~1사이의 수들이 균일한 확률로 선택되어 반환됨.\n",
        "* d0 , ... , dn : 난수로 구성된 ndarray의 shape를 지정하는 데 사용됨.\n",
        "\n",
        "`np.random.randn([d0 [,d1 [ ..., dn])` : $\\mu=0, \\sigma=1$ 인 정규 분포를 따르는 난수 반환.\n"
      ]
    },
    {
      "cell_type": "code",
      "execution_count": 46,
      "metadata": {
        "colab": {
          "base_uri": "https://localhost:8080/"
        },
        "id": "d7oxzXhO7r8r",
        "outputId": "0fc3cb39-781f-490c-a503-398eefc991ec"
      },
      "outputs": [
        {
          "output_type": "stream",
          "name": "stdout",
          "text": [
            "float64\n"
          ]
        },
        {
          "output_type": "execute_result",
          "data": {
            "text/plain": [
              "array([[0.80329592, 0.06067368, 0.38603104, 0.76665093],\n",
              "       [0.34581828, 0.82850998, 0.7157803 , 0.8260013 ],\n",
              "       [0.02055057, 0.41153805, 0.92230435, 0.15065136]])"
            ]
          },
          "metadata": {},
          "execution_count": 46
        }
      ],
      "source": [
        "A = np.random.rand(3,4)\n",
        "print(A.dtype)\n",
        "A"
      ]
    },
    {
      "cell_type": "code",
      "execution_count": 47,
      "metadata": {
        "colab": {
          "base_uri": "https://localhost:8080/"
        },
        "id": "aOqMiEsScnS9",
        "outputId": "b159e3eb-aa67-47b7-ae80-98b9ff8f7fa6"
      },
      "outputs": [
        {
          "output_type": "execute_result",
          "data": {
            "text/plain": [
              "<tf.Tensor: shape=(3, 4), dtype=float32, numpy=\n",
              "array([[0.9089277 , 0.1598208 , 0.80522394, 0.10552728],\n",
              "       [0.9344299 , 0.45459437, 0.46236312, 0.11752725],\n",
              "       [0.7067863 , 0.62111354, 0.12236023, 0.8815844 ]], dtype=float32)>"
            ]
          },
          "metadata": {},
          "execution_count": 47
        }
      ],
      "source": [
        "A_tf = tf.random.uniform(shape=(3,4), minval=0., maxval=1. )\n",
        "A_tf"
      ]
    },
    {
      "cell_type": "code",
      "execution_count": 48,
      "metadata": {
        "colab": {
          "base_uri": "https://localhost:8080/"
        },
        "id": "fbjSFZVO7x56",
        "outputId": "244ad880-dd54-49a2-f04b-c8b264f01a3c"
      },
      "outputs": [
        {
          "output_type": "stream",
          "name": "stdout",
          "text": [
            "(3, 4)\n",
            "-0.07998169107139314 0.6531596477922178\n"
          ]
        }
      ],
      "source": [
        "A = np.random.randn(3,4) #normal distribution of which parameters are mean and standard deviation.\n",
        "print(A.shape)\n",
        "print(np.mean(A),np.std(A))"
      ]
    },
    {
      "cell_type": "code",
      "execution_count": 49,
      "metadata": {
        "colab": {
          "base_uri": "https://localhost:8080/"
        },
        "id": "QJGIx8J0dfUW",
        "outputId": "bee67f68-8631-4e6f-d7d0-94c140e6592d"
      },
      "outputs": [
        {
          "output_type": "execute_result",
          "data": {
            "text/plain": [
              "<tf.Tensor: shape=(1, 2), dtype=float32, numpy=array([[0.6968377, 1.1117   ]], dtype=float32)>"
            ]
          },
          "metadata": {},
          "execution_count": 49
        }
      ],
      "source": [
        "A_tf = tf.random.normal(shape=(1,2),mean=0., stddev=1.0)\n",
        "A_tf"
      ]
    },
    {
      "cell_type": "markdown",
      "metadata": {
        "id": "M28jZA4u77ly"
      },
      "source": [
        "# `ndarray`의 `dtype` 변경\n",
        "\n",
        "`ndarray.astype(dtype)` : method. argument로 넘겨진 `dtype`로 해당 `ndarray`의 타입 변경한 `ndarray`반환\n",
        "\n",
        "`np.uint8(ndarray)` : argument로 넘겨진 `ndarray`를 `uint8`로 변경한 새로운 `ndarray`반환\n",
        "\n",
        "..."
      ]
    },
    {
      "cell_type": "code",
      "execution_count": 50,
      "metadata": {
        "colab": {
          "base_uri": "https://localhost:8080/"
        },
        "id": "kk380h0j8f3k",
        "outputId": "e72fe243-039e-4509-b06f-a0cfe0e24817"
      },
      "outputs": [
        {
          "output_type": "stream",
          "name": "stdout",
          "text": [
            "[[3 3 3]\n",
            " [3 3 3]]\n"
          ]
        },
        {
          "output_type": "execute_result",
          "data": {
            "text/plain": [
              "dtype('int64')"
            ]
          },
          "metadata": {},
          "execution_count": 50
        }
      ],
      "source": [
        "print(a)\n",
        "a.dtype"
      ]
    },
    {
      "cell_type": "code",
      "execution_count": 51,
      "metadata": {
        "colab": {
          "base_uri": "https://localhost:8080/"
        },
        "id": "UgSxTJS18kqy",
        "outputId": "ff6e7116-cea0-46fa-9d9a-a118774080ee"
      },
      "outputs": [
        {
          "output_type": "stream",
          "name": "stdout",
          "text": [
            "int64\n",
            "[[3. 3. 3.]\n",
            " [3. 3. 3.]]\n",
            "132162793563184\n",
            "132162793945392\n"
          ]
        }
      ],
      "source": [
        "c = a.astype('float32')\n",
        "print(a.dtype)\n",
        "print(c)\n",
        "print(id(a))\n",
        "print(id(c))"
      ]
    },
    {
      "cell_type": "code",
      "execution_count": 52,
      "metadata": {
        "colab": {
          "base_uri": "https://localhost:8080/"
        },
        "id": "K7kTPOMe0P8F",
        "outputId": "fd67c4d0-26e7-485c-85fa-0b2569244175"
      },
      "outputs": [
        {
          "output_type": "execute_result",
          "data": {
            "text/plain": [
              "array([[3., 3., 3.],\n",
              "       [3., 3., 3.]], dtype=float128)"
            ]
          },
          "metadata": {},
          "execution_count": 52
        }
      ],
      "source": [
        "a.astype(np.float128)"
      ]
    },
    {
      "cell_type": "code",
      "execution_count": 53,
      "metadata": {
        "colab": {
          "base_uri": "https://localhost:8080/"
        },
        "id": "XE9F8gd2eFhj",
        "outputId": "7b4ac608-4262-4c22-ecc7-223f353f5f22"
      },
      "outputs": [
        {
          "output_type": "execute_result",
          "data": {
            "text/plain": [
              "<tf.Tensor: shape=(2, 3), dtype=float32, numpy=\n",
              "array([[3., 3., 3.],\n",
              "       [3., 3., 3.]], dtype=float32)>"
            ]
          },
          "metadata": {},
          "execution_count": 53
        }
      ],
      "source": [
        "c_tf = tf.dtypes.cast(c,tf.float32)\n",
        "c_tf"
      ]
    },
    {
      "cell_type": "code",
      "execution_count": 54,
      "metadata": {
        "colab": {
          "base_uri": "https://localhost:8080/"
        },
        "id": "hMHn9U2u80Z3",
        "outputId": "f61341ed-43e9-44bb-cdce-e41e82abb614"
      },
      "outputs": [
        {
          "output_type": "stream",
          "name": "stdout",
          "text": [
            "uint8\n",
            "132162793563184\n",
            "132162791744176\n"
          ]
        }
      ],
      "source": [
        "c = np.uint8(a)\n",
        "print(c.dtype)\n",
        "c\n",
        "print(id(a))\n",
        "print(id(c))"
      ]
    },
    {
      "cell_type": "code",
      "execution_count": 55,
      "metadata": {
        "colab": {
          "base_uri": "https://localhost:8080/"
        },
        "id": "ECJ8eGrAekrN",
        "outputId": "ca30c704-0d7d-471a-fddf-802f2d60a195"
      },
      "outputs": [
        {
          "output_type": "stream",
          "name": "stdout",
          "text": [
            "int64\n",
            "uint64\n"
          ]
        },
        {
          "output_type": "execute_result",
          "data": {
            "text/plain": [
              "array([[3, 3, 3],\n",
              "       [3, 3, 3]], dtype=uint64)"
            ]
          },
          "metadata": {},
          "execution_count": 55
        }
      ],
      "source": [
        "c = np.uint64(a)\n",
        "print(a.dtype)\n",
        "c\n",
        "print(c.dtype)\n",
        "c"
      ]
    },
    {
      "cell_type": "markdown",
      "metadata": {
        "id": "-0sz_0EO9Jru"
      },
      "source": [
        "# `shape`변경\n",
        "\n",
        "`ndarray.reshape(new_shape)`"
      ]
    },
    {
      "cell_type": "code",
      "execution_count": 56,
      "metadata": {
        "colab": {
          "base_uri": "https://localhost:8080/"
        },
        "id": "ICg0CAS6W0qd",
        "outputId": "c686f562-d734-47a3-81fc-6fdac96c68a1"
      },
      "outputs": [
        {
          "output_type": "stream",
          "name": "stdout",
          "text": [
            "[0 1 2 3] (4,)\n",
            "[777 777   2   3]\n",
            "[[777 777]\n",
            " [  2   3]]\n"
          ]
        }
      ],
      "source": [
        "v = np.arange(4)\n",
        "print(v,v.shape)\n",
        "a = v.reshape(2,2)\n",
        "a\n",
        "a[0]=777\n",
        "print(v)\n",
        "print(a)"
      ]
    },
    {
      "cell_type": "code",
      "execution_count": 57,
      "metadata": {
        "colab": {
          "base_uri": "https://localhost:8080/"
        },
        "id": "Vm0n4k_qW6Ej",
        "outputId": "9b90067d-a395-447f-f48e-ddb73780255e"
      },
      "outputs": [
        {
          "output_type": "execute_result",
          "data": {
            "text/plain": [
              "array([[10, 11],\n",
              "       [12, 13]])"
            ]
          },
          "metadata": {},
          "execution_count": 57
        }
      ],
      "source": [
        "b= np.arange(10,14).reshape(2,2)\n",
        "b"
      ]
    },
    {
      "cell_type": "code",
      "execution_count": 58,
      "metadata": {
        "colab": {
          "base_uri": "https://localhost:8080/"
        },
        "id": "ywRL9YZC9sk5",
        "outputId": "6292299c-1671-4268-c995-9cb020855c53"
      },
      "outputs": [
        {
          "output_type": "stream",
          "name": "stdout",
          "text": [
            "(5,)\n",
            "(1, 5)\n",
            "(5, 1)\n"
          ]
        }
      ],
      "source": [
        "a = np.arange(0,10,2) # [ s:e :step_size]\n",
        "b = a.reshape((1,5))\n",
        "print(a.shape)\n",
        "print(b.shape)\n",
        "b\n",
        "c = a.reshape((5,1))\n",
        "print(c.shape)"
      ]
    },
    {
      "cell_type": "code",
      "execution_count": 59,
      "metadata": {
        "colab": {
          "base_uri": "https://localhost:8080/"
        },
        "id": "6HvEgicDfLtI",
        "outputId": "d6adedb6-8772-4061-cacd-b8204e017b70"
      },
      "outputs": [
        {
          "output_type": "stream",
          "name": "stdout",
          "text": [
            "(5,) tf.Tensor(1, shape=(), dtype=int32)\n",
            "(5, 1) tf.Tensor(2, shape=(), dtype=int32)\n",
            "(1, 5) tf.Tensor(2, shape=(), dtype=int32)\n"
          ]
        }
      ],
      "source": [
        "a_tf = tf.constant(a)\n",
        "print(a_tf.shape, tf.rank(a_tf))\n",
        "\n",
        "b_tf = tf.reshape(a_tf,(5,1))\n",
        "print(b_tf.shape, tf.rank(b_tf))\n",
        "\n",
        "c_tf = tf.reshape(a_tf,shape=(1,5))\n",
        "print(c_tf.shape, tf.rank(c_tf))"
      ]
    },
    {
      "cell_type": "markdown",
      "metadata": {
        "id": "i5LVKihH-Any"
      },
      "source": [
        "# ndarray를 1차원으로 풀어내기\n",
        "\n",
        "`ndarray.ravel()`"
      ]
    },
    {
      "cell_type": "code",
      "execution_count": 60,
      "metadata": {
        "colab": {
          "base_uri": "https://localhost:8080/"
        },
        "id": "ahP9O_37-Kyl",
        "outputId": "251f0ca7-92d1-4b78-9707-a588f7d38b8b"
      },
      "outputs": [
        {
          "output_type": "stream",
          "name": "stdout",
          "text": [
            "(3, 3) 132162791743792\n",
            "(9,) 132162791744944\n"
          ]
        },
        {
          "output_type": "execute_result",
          "data": {
            "text/plain": [
              "array([1, 2, 3, 4, 5, 6, 7, 8, 9])"
            ]
          },
          "metadata": {},
          "execution_count": 60
        }
      ],
      "source": [
        "a = np.arange(1,10).reshape((3,3))\n",
        "b = a.ravel()\n",
        "print(a.shape, id(a))\n",
        "\n",
        "print(b.shape, id(b))\n",
        "b"
      ]
    },
    {
      "cell_type": "markdown",
      "metadata": {
        "id": "s7I0Ho5T2O61"
      },
      "source": [
        "# Test01\n",
        " * 8 by 4 로 된 matrix를 만들것.\n",
        " * 해당 matrix는 2부터 시작해서 짝수들로 64보다 작거나 같은 수로 채워짐. 행부터 채울것.\n",
        " * 해당 matrix를 출력하고 나서 vector로  만들것 (shape=(32,)인 np.array)\n",
        " * 해당 vector를 다시 출력.\n"
      ]
    },
    {
      "cell_type": "markdown",
      "metadata": {
        "id": "VW2kRHBk-qbO"
      },
      "source": [
        "# Transpose\n",
        "\n",
        "`ndarray.T`"
      ]
    },
    {
      "cell_type": "code",
      "execution_count": 61,
      "metadata": {
        "colab": {
          "base_uri": "https://localhost:8080/"
        },
        "id": "VwdMgAcq-ysf",
        "outputId": "064a4c26-ec77-4cef-e544-5913ee8c3c18"
      },
      "outputs": [
        {
          "output_type": "stream",
          "name": "stdout",
          "text": [
            "[[1 2 3]\n",
            " [4 5 6]\n",
            " [7 8 9]]\n",
            "[[1 4 7]\n",
            " [2 5 8]\n",
            " [3 6 9]]\n"
          ]
        }
      ],
      "source": [
        "c=a.T\n",
        "print(a)\n",
        "print(c)\n"
      ]
    },
    {
      "cell_type": "markdown",
      "metadata": {
        "id": "nE3FMUMF_CcD"
      },
      "source": [
        "# Broadcasting\n",
        "\n",
        "ndarray와 scalar와 연산시킬때, 해당 ndarray와 같은 shape이면서 해당 scalar의 값을 가진 ndarray와 연산시키는 것처럼 자동으로 elementwise연산이 수행되는 기능.\n",
        "* numpy의 가장 강력한 기능 중 하나."
      ]
    },
    {
      "cell_type": "code",
      "execution_count": 62,
      "metadata": {
        "colab": {
          "base_uri": "https://localhost:8080/"
        },
        "id": "hGr38-wF_fgw",
        "outputId": "c4ad31ed-1112-4b20-ebb3-1ee3fbd501f5"
      },
      "outputs": [
        {
          "output_type": "stream",
          "name": "stdout",
          "text": [
            "[[1 2 3]\n",
            " [4 5 6]\n",
            " [7 8 9]]\n",
            "[[0.5 1.  1.5]\n",
            " [2.  2.5 3. ]\n",
            " [3.5 4.  4.5]]\n"
          ]
        }
      ],
      "source": [
        "print(a)\n",
        "c = a/2\n",
        "print(c)"
      ]
    },
    {
      "cell_type": "code",
      "execution_count": 63,
      "metadata": {
        "colab": {
          "base_uri": "https://localhost:8080/"
        },
        "id": "zVfumBf7_njB",
        "outputId": "39e0eaba-6aad-488e-df29-8739bdba97ee"
      },
      "outputs": [
        {
          "output_type": "stream",
          "name": "stdout",
          "text": [
            "[[4. 5. 6.]\n",
            " [4. 5. 6.]\n",
            " [4. 5. 6.]\n",
            " [4. 5. 6.]\n",
            " [4. 5. 6.]]\n",
            "(3,)\n"
          ]
        }
      ],
      "source": [
        "a = np.ones( shape=(5,3) )\n",
        "c = a + np.array([3,4,5])\n",
        "print(c)\n",
        "\n",
        "print(np.array([3,4,5]).shape)"
      ]
    },
    {
      "cell_type": "code",
      "execution_count": 64,
      "metadata": {
        "colab": {
          "base_uri": "https://localhost:8080/",
          "height": 220
        },
        "id": "c9qN1ZHy4HKh",
        "outputId": "3171038a-f7d4-4b4b-d631-82d1e107536c"
      },
      "outputs": [
        {
          "output_type": "stream",
          "name": "stdout",
          "text": [
            "(5,)\n"
          ]
        },
        {
          "output_type": "error",
          "ename": "ValueError",
          "evalue": "operands could not be broadcast together with shapes (5,3) (5,) ",
          "traceback": [
            "\u001b[0;31m---------------------------------------------------------------------------\u001b[0m",
            "\u001b[0;31mValueError\u001b[0m                                Traceback (most recent call last)",
            "\u001b[0;32m<ipython-input-64-3f984dd1339e>\u001b[0m in \u001b[0;36m<cell line: 3>\u001b[0;34m()\u001b[0m\n\u001b[1;32m      1\u001b[0m \u001b[0mb\u001b[0m\u001b[0;34m=\u001b[0m \u001b[0mnp\u001b[0m\u001b[0;34m.\u001b[0m\u001b[0marray\u001b[0m\u001b[0;34m(\u001b[0m\u001b[0;34m[\u001b[0m\u001b[0;36m3\u001b[0m\u001b[0;34m,\u001b[0m\u001b[0;36m4\u001b[0m\u001b[0;34m,\u001b[0m\u001b[0;36m5\u001b[0m\u001b[0;34m,\u001b[0m\u001b[0;36m6\u001b[0m\u001b[0;34m,\u001b[0m\u001b[0;36m7\u001b[0m\u001b[0;34m]\u001b[0m\u001b[0;34m)\u001b[0m\u001b[0;34m\u001b[0m\u001b[0;34m\u001b[0m\u001b[0m\n\u001b[1;32m      2\u001b[0m \u001b[0mprint\u001b[0m\u001b[0;34m(\u001b[0m\u001b[0mb\u001b[0m\u001b[0;34m.\u001b[0m\u001b[0mshape\u001b[0m\u001b[0;34m)\u001b[0m\u001b[0;34m\u001b[0m\u001b[0;34m\u001b[0m\u001b[0m\n\u001b[0;32m----> 3\u001b[0;31m \u001b[0mc\u001b[0m \u001b[0;34m=\u001b[0m \u001b[0ma\u001b[0m\u001b[0;34m+\u001b[0m\u001b[0mb\u001b[0m\u001b[0;34m\u001b[0m\u001b[0;34m\u001b[0m\u001b[0m\n\u001b[0m\u001b[1;32m      4\u001b[0m \u001b[0mprint\u001b[0m\u001b[0;34m(\u001b[0m\u001b[0mc\u001b[0m\u001b[0;34m)\u001b[0m\u001b[0;34m\u001b[0m\u001b[0;34m\u001b[0m\u001b[0m\n",
            "\u001b[0;31mValueError\u001b[0m: operands could not be broadcast together with shapes (5,3) (5,) "
          ]
        }
      ],
      "source": [
        "b= np.array([3,4,5,6,7])\n",
        "print(b.shape)\n",
        "c = a+b\n",
        "print(c)"
      ]
    },
    {
      "cell_type": "code",
      "execution_count": 65,
      "metadata": {
        "colab": {
          "base_uri": "https://localhost:8080/"
        },
        "id": "dFlu3cRR4EHI",
        "outputId": "62e8442a-c258-4231-8b55-b02adaaf50ee"
      },
      "outputs": [
        {
          "output_type": "stream",
          "name": "stdout",
          "text": [
            "(5, 3)\n",
            "(5, 1)\n",
            "[[4. 4. 4.]\n",
            " [5. 5. 5.]\n",
            " [6. 6. 6.]\n",
            " [7. 7. 7.]\n",
            " [8. 8. 8.]]\n"
          ]
        }
      ],
      "source": [
        "b = np.array([3,4,5,6,7])\n",
        "#b = b[:,np.newaxis]\n",
        "b = b.reshape(5,1)\n",
        "c = a+b\n",
        "print(a.shape)\n",
        "print(b.shape)\n",
        "print(c)"
      ]
    },
    {
      "cell_type": "code",
      "execution_count": 66,
      "metadata": {
        "colab": {
          "base_uri": "https://localhost:8080/"
        },
        "id": "5jtz9Mtp4Fza",
        "outputId": "233fcd2b-391b-4a27-8bd2-a712ea45bf71"
      },
      "outputs": [
        {
          "output_type": "stream",
          "name": "stdout",
          "text": [
            "[[4. 4. 4.]\n",
            " [5. 5. 5.]\n",
            " [6. 6. 6.]\n",
            " [7. 7. 7.]\n",
            " [8. 8. 8.]]\n"
          ]
        }
      ],
      "source": [
        "c = a+np.array([3,4,5,6,7]).reshape((5,1))\n",
        "print(c)"
      ]
    }
  ],
  "metadata": {
    "colab": {
      "collapsed_sections": [
        "i5LVKihH-Any",
        "VW2kRHBk-qbO",
        "nE3FMUMF_CcD"
      ],
      "name": "DIP_Numpy01.ipynb",
      "provenance": []
    },
    "kernelspec": {
      "display_name": "Python 3.10.4 ('dip2')",
      "language": "python",
      "name": "python3"
    },
    "language_info": {
      "codemirror_mode": {
        "name": "ipython",
        "version": 3
      },
      "file_extension": ".py",
      "mimetype": "text/x-python",
      "name": "python",
      "nbconvert_exporter": "python",
      "pygments_lexer": "ipython3",
      "version": "3.10.4"
    },
    "vscode": {
      "interpreter": {
        "hash": "f5e5e6631e046d224a10e5b86fa02048ebea2c7c5c229ff6c1afe7c9ae4877a9"
      }
    }
  },
  "nbformat": 4,
  "nbformat_minor": 0
}